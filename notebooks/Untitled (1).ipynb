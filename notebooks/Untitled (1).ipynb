{
 "cells": [
  {
   "cell_type": "raw",
   "metadata": {},
   "source": [
    "  In the end we will sum up different corporates and facilities energy consumption trends over the year and what’s their main source of resource of energy?"
   ]
  },
  {
   "cell_type": "code",
   "execution_count": null,
   "metadata": {},
   "outputs": [],
   "source": [
    "Alberta has energy resources including crude oil & gas, coal, renewable energy, natural gas, and more, so\n",
    "we calculated that what is the main source of resource of energy in each primary Facility in City of Calgary base on 3 main primary energies which are Electricity, Natural Gas, and Solar Power.\n",
    "As we mention that,  the units were first converted from kWh to GJ in order to observe statistics on the same unit of energy consumption."
   ]
  },
  {
   "cell_type": "code",
   "execution_count": 1,
   "metadata": {},
   "outputs": [
    {
     "name": "stdout",
     "output_type": "stream",
     "text": [
      "Business Unit Desc: object\n",
      "FacilityName: object\n",
      "Site ID: object\n",
      "FacilityAddress: object\n",
      "Energy Description: object\n",
      "Year: int64\n",
      "Month: object\n",
      "Total Consumption: int64\n",
      "Unit: object\n"
     ]
    }
   ],
   "source": [
    "import pandas as pd\n",
    "import numpy as np\n",
    "import datetime as dt\n",
    "from pandas.plotting import scatter_matrix\n",
    "import matplotlib as mpl\n",
    "import matplotlib.pyplot as plt\n",
    "from scipy.interpolate import griddata\n",
    "import plotly.express as px\n",
    "import plotly.graph_objects as go\n",
    "rdata = pd.read_csv(\"Corporate_Energy_Consumption.csv\")\n",
    "\n",
    "for col in rdata.columns:\n",
    "    print(col + \": \" + str(rdata[col].dtype))"
   ]
  },
  {
   "cell_type": "code",
   "execution_count": null,
   "metadata": {},
   "outputs": [],
   "source": [
    "Electricity Yearly Usage of each primary facility"
   ]
  },
  {
   "cell_type": "code",
   "execution_count": 26,
   "metadata": {},
   "outputs": [
    {
     "data": {
      "text/html": [
       "<div>\n",
       "<style scoped>\n",
       "    .dataframe tbody tr th:only-of-type {\n",
       "        vertical-align: middle;\n",
       "    }\n",
       "\n",
       "    .dataframe tbody tr th {\n",
       "        vertical-align: top;\n",
       "    }\n",
       "\n",
       "    .dataframe thead th {\n",
       "        text-align: right;\n",
       "    }\n",
       "</style>\n",
       "<table border=\"1\" class=\"dataframe\">\n",
       "  <thead>\n",
       "    <tr style=\"text-align: right;\">\n",
       "      <th>Year</th>\n",
       "      <th>2014</th>\n",
       "      <th>2015</th>\n",
       "      <th>2016</th>\n",
       "      <th>2017</th>\n",
       "      <th>2018</th>\n",
       "      <th>2019</th>\n",
       "      <th>2020</th>\n",
       "      <th>2021</th>\n",
       "    </tr>\n",
       "    <tr>\n",
       "      <th>FacilityName</th>\n",
       "      <th></th>\n",
       "      <th></th>\n",
       "      <th></th>\n",
       "      <th></th>\n",
       "      <th></th>\n",
       "      <th></th>\n",
       "      <th></th>\n",
       "      <th></th>\n",
       "    </tr>\n",
       "  </thead>\n",
       "  <tbody>\n",
       "    <tr>\n",
       "      <th>BEARSPAW WATER TREATMENT PLANT</th>\n",
       "      <td>27006979.0</td>\n",
       "      <td>22896652.0</td>\n",
       "      <td>34507602.0</td>\n",
       "      <td>37570393.0</td>\n",
       "      <td>34437203.0</td>\n",
       "      <td>27503120.0</td>\n",
       "      <td>34585362.0</td>\n",
       "      <td>20122592.0</td>\n",
       "    </tr>\n",
       "    <tr>\n",
       "      <th>BONNYBROOK WASTEWATER TREATMENT PLANT</th>\n",
       "      <td>25946479.0</td>\n",
       "      <td>18470960.0</td>\n",
       "      <td>18919634.0</td>\n",
       "      <td>24187268.0</td>\n",
       "      <td>30532643.0</td>\n",
       "      <td>28814674.0</td>\n",
       "      <td>26283641.0</td>\n",
       "      <td>21374437.0</td>\n",
       "    </tr>\n",
       "    <tr>\n",
       "      <th>CALGARY STREET LIGHTING</th>\n",
       "      <td>91870809.0</td>\n",
       "      <td>90922781.0</td>\n",
       "      <td>78855156.0</td>\n",
       "      <td>54751112.0</td>\n",
       "      <td>48574753.0</td>\n",
       "      <td>45044868.0</td>\n",
       "      <td>42802879.0</td>\n",
       "      <td>25261505.0</td>\n",
       "    </tr>\n",
       "    <tr>\n",
       "      <th>FISH CREEK WASTEWATER TREATMENT PLANT</th>\n",
       "      <td>NaN</td>\n",
       "      <td>NaN</td>\n",
       "      <td>12013694.0</td>\n",
       "      <td>7911196.0</td>\n",
       "      <td>12455848.0</td>\n",
       "      <td>8647091.0</td>\n",
       "      <td>13740451.0</td>\n",
       "      <td>7626078.0</td>\n",
       "    </tr>\n",
       "    <tr>\n",
       "      <th>GLENMORE WATER TREATMENT PLANT - WB</th>\n",
       "      <td>20752623.0</td>\n",
       "      <td>19647504.0</td>\n",
       "      <td>18619313.0</td>\n",
       "      <td>20468133.0</td>\n",
       "      <td>19762821.0</td>\n",
       "      <td>20062555.0</td>\n",
       "      <td>18482865.0</td>\n",
       "      <td>14085753.0</td>\n",
       "    </tr>\n",
       "    <tr>\n",
       "      <th>MUNICIPAL COMPLEX</th>\n",
       "      <td>1151483.0</td>\n",
       "      <td>NaN</td>\n",
       "      <td>NaN</td>\n",
       "      <td>NaN</td>\n",
       "      <td>NaN</td>\n",
       "      <td>NaN</td>\n",
       "      <td>NaN</td>\n",
       "      <td>NaN</td>\n",
       "    </tr>\n",
       "    <tr>\n",
       "      <th>PINE CREEK WASTEWATER TREATMENT PLANT</th>\n",
       "      <td>21972952.0</td>\n",
       "      <td>23077646.0</td>\n",
       "      <td>21265638.0</td>\n",
       "      <td>21626015.0</td>\n",
       "      <td>21776522.0</td>\n",
       "      <td>23153347.0</td>\n",
       "      <td>23486956.0</td>\n",
       "      <td>15192188.0</td>\n",
       "    </tr>\n",
       "    <tr>\n",
       "      <th>SH - BLDG W (COMPOST FACILITY)</th>\n",
       "      <td>NaN</td>\n",
       "      <td>NaN</td>\n",
       "      <td>NaN</td>\n",
       "      <td>3613911.0</td>\n",
       "      <td>14359899.0</td>\n",
       "      <td>10817489.0</td>\n",
       "      <td>NaN</td>\n",
       "      <td>3148365.0</td>\n",
       "    </tr>\n",
       "  </tbody>\n",
       "</table>\n",
       "</div>"
      ],
      "text/plain": [
       "Year                                         2014        2015        2016  \\\n",
       "FacilityName                                                                \n",
       "BEARSPAW WATER TREATMENT PLANT         27006979.0  22896652.0  34507602.0   \n",
       "BONNYBROOK WASTEWATER TREATMENT PLANT  25946479.0  18470960.0  18919634.0   \n",
       "CALGARY STREET LIGHTING                91870809.0  90922781.0  78855156.0   \n",
       "FISH CREEK WASTEWATER TREATMENT PLANT         NaN         NaN  12013694.0   \n",
       "GLENMORE WATER TREATMENT PLANT - WB    20752623.0  19647504.0  18619313.0   \n",
       "MUNICIPAL COMPLEX                       1151483.0         NaN         NaN   \n",
       "PINE CREEK WASTEWATER TREATMENT PLANT  21972952.0  23077646.0  21265638.0   \n",
       "SH - BLDG W (COMPOST FACILITY)                NaN         NaN         NaN   \n",
       "\n",
       "Year                                         2017        2018        2019  \\\n",
       "FacilityName                                                                \n",
       "BEARSPAW WATER TREATMENT PLANT         37570393.0  34437203.0  27503120.0   \n",
       "BONNYBROOK WASTEWATER TREATMENT PLANT  24187268.0  30532643.0  28814674.0   \n",
       "CALGARY STREET LIGHTING                54751112.0  48574753.0  45044868.0   \n",
       "FISH CREEK WASTEWATER TREATMENT PLANT   7911196.0  12455848.0   8647091.0   \n",
       "GLENMORE WATER TREATMENT PLANT - WB    20468133.0  19762821.0  20062555.0   \n",
       "MUNICIPAL COMPLEX                             NaN         NaN         NaN   \n",
       "PINE CREEK WASTEWATER TREATMENT PLANT  21626015.0  21776522.0  23153347.0   \n",
       "SH - BLDG W (COMPOST FACILITY)          3613911.0  14359899.0  10817489.0   \n",
       "\n",
       "Year                                         2020        2021  \n",
       "FacilityName                                                   \n",
       "BEARSPAW WATER TREATMENT PLANT         34585362.0  20122592.0  \n",
       "BONNYBROOK WASTEWATER TREATMENT PLANT  26283641.0  21374437.0  \n",
       "CALGARY STREET LIGHTING                42802879.0  25261505.0  \n",
       "FISH CREEK WASTEWATER TREATMENT PLANT  13740451.0   7626078.0  \n",
       "GLENMORE WATER TREATMENT PLANT - WB    18482865.0  14085753.0  \n",
       "MUNICIPAL COMPLEX                             NaN         NaN  \n",
       "PINE CREEK WASTEWATER TREATMENT PLANT  23486956.0  15192188.0  \n",
       "SH - BLDG W (COMPOST FACILITY)                NaN   3148365.0  "
      ]
     },
     "metadata": {},
     "output_type": "display_data"
    },
    {
     "data": {
      "text/plain": [
       "<Figure size 259200x259200 with 0 Axes>"
      ]
     },
     "metadata": {},
     "output_type": "display_data"
    },
    {
     "data": {
      "image/png": "[encoded data removed]",
      "text/plain": [
       "<Figure size 432x288 with 1 Axes>"
      ]
     },
     "metadata": {
      "needs_background": "light"
     },
     "output_type": "display_data"
    },
    {
     "data": {
      "application/vnd.plotly.v1+json": {
       "config": {
        "plotlyServerURL": "https://plot.ly"
       },
       "data": [
        {
         "alignmentgroup": "True",
         "box": {
          "visible": true
         },
         "hovertemplate": "FacilityName=%{x}<br>value=%{y}<extra></extra>",
         "legendgroup": "",
         "marker": {
          "color": "#636efa"
         },
         "name": "",
         "offsetgroup": "",
         "orientation": "v",
         "scalegroup": "True",
         "showlegend": false,
         "type": "violin",
         "x": [
          "BEARSPAW WATER TREATMENT PLANT",
          "BEARSPAW WATER TREATMENT PLANT",
          "BEARSPAW WATER TREATMENT PLANT",
          "BEARSPAW WATER TREATMENT PLANT",
          "BEARSPAW WATER TREATMENT PLANT",
          "BEARSPAW WATER TREATMENT PLANT",
          "BEARSPAW WATER TREATMENT PLANT",
          "BEARSPAW WATER TREATMENT PLANT",
          "BONNYBROOK WASTEWATER TREATMENT PLANT",
          "BONNYBROOK WASTEWATER TREATMENT PLANT",
          "BONNYBROOK WASTEWATER TREATMENT PLANT",
          "BONNYBROOK WASTEWATER TREATMENT PLANT",
          "BONNYBROOK WASTEWATER TREATMENT PLANT",
          "BONNYBROOK WASTEWATER TREATMENT PLANT",
          "BONNYBROOK WASTEWATER TREATMENT PLANT",
          "BONNYBROOK WASTEWATER TREATMENT PLANT",
          "CALGARY STREET LIGHTING",
          "CALGARY STREET LIGHTING",
          "CALGARY STREET LIGHTING",
          "CALGARY STREET LIGHTING",
          "CALGARY STREET LIGHTING",
          "CALGARY STREET LIGHTING",
          "CALGARY STREET LIGHTING",
          "CALGARY STREET LIGHTING",
          "FISH CREEK WASTEWATER TREATMENT PLANT",
          "FISH CREEK WASTEWATER TREATMENT PLANT",
          "FISH CREEK WASTEWATER TREATMENT PLANT",
          "FISH CREEK WASTEWATER TREATMENT PLANT",
          "FISH CREEK WASTEWATER TREATMENT PLANT",
          "FISH CREEK WASTEWATER TREATMENT PLANT",
          "FISH CREEK WASTEWATER TREATMENT PLANT",
          "FISH CREEK WASTEWATER TREATMENT PLANT",
          "GLENMORE WATER TREATMENT PLANT - WB",
          "GLENMORE WATER TREATMENT PLANT - WB",
          "GLENMORE WATER TREATMENT PLANT - WB",
          "GLENMORE WATER TREATMENT PLANT - WB",
          "GLENMORE WATER TREATMENT PLANT - WB",
          "GLENMORE WATER TREATMENT PLANT - WB",
          "GLENMORE WATER TREATMENT PLANT - WB",
          "GLENMORE WATER TREATMENT PLANT - WB",
          "MUNICIPAL COMPLEX",
          "MUNICIPAL COMPLEX",
          "MUNICIPAL COMPLEX",
          "MUNICIPAL COMPLEX",
          "MUNICIPAL COMPLEX",
          "MUNICIPAL COMPLEX",
          "MUNICIPAL COMPLEX",
          "MUNICIPAL COMPLEX",
          "PINE CREEK WASTEWATER TREATMENT PLANT",
          "PINE CREEK WASTEWATER TREATMENT PLANT",
          "PINE CREEK WASTEWATER TREATMENT PLANT",
          "PINE CREEK WASTEWATER TREATMENT PLANT",
          "PINE CREEK WASTEWATER TREATMENT PLANT",
          "PINE CREEK WASTEWATER TREATMENT PLANT",
          "PINE CREEK WASTEWATER TREATMENT PLANT",
          "PINE CREEK WASTEWATER TREATMENT PLANT",
          "SH - BLDG W (COMPOST FACILITY)",
          "SH - BLDG W (COMPOST FACILITY)",
          "SH - BLDG W (COMPOST FACILITY)",
          "SH - BLDG W (COMPOST FACILITY)",
          "SH - BLDG W (COMPOST FACILITY)",
          "SH - BLDG W (COMPOST FACILITY)",
          "SH - BLDG W (COMPOST FACILITY)",
          "SH - BLDG W (COMPOST FACILITY)"
         ],
         "x0": " ",
         "xaxis": "x",
         "y": [
          27006979,
          22896652,
          34507602,
          37570393,
          34437203,
          27503120,
          34585362,
          20122592,
          25946479,
          18470960,
          18919634,
          24187268,
          30532643,
          28814674,
          26283641,
          21374437,
          91870809,
          90922781,
          78855156,
          54751112,
          48574753,
          45044868,
          42802879,
          25261505,
          null,
          null,
          12013694,
          7911196,
          12455848,
          8647091,
          13740451,
          7626078,
          20752623,
          19647504,
          18619313,
          20468133,
          19762821,
          20062555,
          18482865,
          14085753,
          1151483,
          null,
          null,
          null,
          null,
          null,
          null,
          null,
          21972952,
          23077646,
          21265638,
          21626015,
          21776522,
          23153347,
          23486956,
          15192188,
          null,
          null,
          null,
          3613911,
          14359899,
          10817489,
          null,
          3148365
         ],
         "y0": " ",
         "yaxis": "y"
        }
       ],
       "layout": {
        "autosize": true,
        "legend": {
         "tracegroupgap": 0
        },
        "template": {
         "data": {
          "bar": [
           {
            "error_x": {
             "color": "#2a3f5f"
            },
            "error_y": {
             "color": "#2a3f5f"
            },
            "marker": {
             "line": {
              "color": "#E5ECF6",
              "width": 0.5
             }
            },
            "type": "bar"
           }
          ],
          "barpolar": [
           {
            "marker": {
             "line": {
              "color": "#E5ECF6",
              "width": 0.5
             }
            },
            "type": "barpolar"
           }
          ],
          "carpet": [
           {
            "aaxis": {
             "endlinecolor": "#2a3f5f",
             "gridcolor": "white",
             "linecolor": "white",
             "minorgridcolor": "white",
             "startlinecolor": "#2a3f5f"
            },
            "baxis": {
             "endlinecolor": "#2a3f5f",
             "gridcolor": "white",
             "linecolor": "white",
             "minorgridcolor": "white",
             "startlinecolor": "#2a3f5f"
            },
            "type": "carpet"
           }
          ],
          "choropleth": [
           {
            "colorbar": {
             "outlinewidth": 0,
             "ticks": ""
            },
            "type": "choropleth"
           }
          ],
          "contour": [
           {
            "colorbar": {
             "outlinewidth": 0,
             "ticks": ""
            },
            "colorscale": [
             [
              0,
              "#0d0887"
             ],
             [
              0.1111111111111111,
              "#46039f"
             ],
             [
              0.2222222222222222,
              "#7201a8"
             ],
             [
              0.3333333333333333,
              "#9c179e"
             ],
             [
              0.4444444444444444,
              "#bd3786"
             ],
             [
              0.5555555555555556,
              "#d8576b"
             ],
             [
              0.6666666666666666,
              "#ed7953"
             ],
             [
              0.7777777777777778,
              "#fb9f3a"
             ],
             [
              0.8888888888888888,
              "#fdca26"
             ],
             [
              1,
              "#f0f921"
             ]
            ],
            "type": "contour"
           }
          ],
          "contourcarpet": [
           {
            "colorbar": {
             "outlinewidth": 0,
             "ticks": ""
            },
            "type": "contourcarpet"
           }
          ],
          "heatmap": [
           {
            "colorbar": {
             "outlinewidth": 0,
             "ticks": ""
            },
            "colorscale": [
             [
              0,
              "#0d0887"
             ],
             [
              0.1111111111111111,
              "#46039f"
             ],
             [
              0.2222222222222222,
              "#7201a8"
             ],
             [
              0.3333333333333333,
              "#9c179e"
             ],
             [
              0.4444444444444444,
              "#bd3786"
             ],
             [
              0.5555555555555556,
              "#d8576b"
             ],
             [
              0.6666666666666666,
              "#ed7953"
             ],
             [
              0.7777777777777778,
              "#fb9f3a"
             ],
             [
              0.8888888888888888,
              "#fdca26"
             ],
             [
              1,
              "#f0f921"
             ]
            ],
            "type": "heatmap"
           }
          ],
          "heatmapgl": [
           {
            "colorbar": {
             "outlinewidth": 0,
             "ticks": ""
            },
            "colorscale": [
             [
              0,
              "#0d0887"
             ],
             [
              0.1111111111111111,
              "#46039f"
             ],
             [
              0.2222222222222222,
              "#7201a8"
             ],
             [
              0.3333333333333333,
              "#9c179e"
             ],
             [
              0.4444444444444444,
              "#bd3786"
             ],
             [
              0.5555555555555556,
              "#d8576b"
             ],
             [
              0.6666666666666666,
              "#ed7953"
             ],
             [
              0.7777777777777778,
              "#fb9f3a"
             ],
             [
              0.8888888888888888,
              "#fdca26"
             ],
             [
              1,
              "#f0f921"
             ]
            ],
            "type": "heatmapgl"
           }
          ],
          "histogram": [
           {
            "marker": {
             "colorbar": {
              "outlinewidth": 0,
              "ticks": ""
             }
            },
            "type": "histogram"
           }
          ],
          "histogram2d": [
           {
            "colorbar": {
             "outlinewidth": 0,
             "ticks": ""
            },
            "colorscale": [
             [
              0,
              "#0d0887"
             ],
             [
              0.1111111111111111,
              "#46039f"
             ],
             [
              0.2222222222222222,
              "#7201a8"
             ],
             [
              0.3333333333333333,
              "#9c179e"
             ],
             [
              0.4444444444444444,
              "#bd3786"
             ],
             [
              0.5555555555555556,
              "#d8576b"
             ],
             [
              0.6666666666666666,
              "#ed7953"
             ],
             [
              0.7777777777777778,
              "#fb9f3a"
             ],
             [
              0.8888888888888888,
              "#fdca26"
             ],
             [
              1,
              "#f0f921"
             ]
            ],
            "type": "histogram2d"
           }
          ],
          "histogram2dcontour": [
           {
            "colorbar": {
             "outlinewidth": 0,
             "ticks": ""
            },
            "colorscale": [
             [
              0,
              "#0d0887"
             ],
             [
              0.1111111111111111,
              "#46039f"
             ],
             [
              0.2222222222222222,
              "#7201a8"
             ],
             [
              0.3333333333333333,
              "#9c179e"
             ],
             [
              0.4444444444444444,
              "#bd3786"
             ],
             [
              0.5555555555555556,
              "#d8576b"
             ],
             [
              0.6666666666666666,
              "#ed7953"
             ],
             [
              0.7777777777777778,
              "#fb9f3a"
             ],
             [
              0.8888888888888888,
              "#fdca26"
             ],
             [
              1,
              "#f0f921"
             ]
            ],
            "type": "histogram2dcontour"
           }
          ],
          "mesh3d": [
           {
            "colorbar": {
             "outlinewidth": 0,
             "ticks": ""
            },
            "type": "mesh3d"
           }
          ],
          "parcoords": [
           {
            "line": {
             "colorbar": {
              "outlinewidth": 0,
              "ticks": ""
             }
            },
            "type": "parcoords"
           }
          ],
          "pie": [
           {
            "automargin": true,
            "type": "pie"
           }
          ],
          "scatter": [
           {
            "marker": {
             "colorbar": {
              "outlinewidth": 0,
              "ticks": ""
             }
            },
            "type": "scatter"
           }
          ],
          "scatter3d": [
           {
            "line": {
             "colorbar": {
              "outlinewidth": 0,
              "ticks": ""
             }
            },
            "marker": {
             "colorbar": {
              "outlinewidth": 0,
              "ticks": ""
             }
            },
            "type": "scatter3d"
           }
          ],
          "scattercarpet": [
           {
            "marker": {
             "colorbar": {
              "outlinewidth": 0,
              "ticks": ""
             }
            },
            "type": "scattercarpet"
           }
          ],
          "scattergeo": [
           {
            "marker": {
             "colorbar": {
              "outlinewidth": 0,
              "ticks": ""
             }
            },
            "type": "scattergeo"
           }
          ],
          "scattergl": [
           {
            "marker": {
             "colorbar": {
              "outlinewidth": 0,
              "ticks": ""
             }
            },
            "type": "scattergl"
           }
          ],
          "scattermapbox": [
           {
            "marker": {
             "colorbar": {
              "outlinewidth": 0,
              "ticks": ""
             }
            },
            "type": "scattermapbox"
           }
          ],
          "scatterpolar": [
           {
            "marker": {
             "colorbar": {
              "outlinewidth": 0,
              "ticks": ""
             }
            },
            "type": "scatterpolar"
           }
          ],
          "scatterpolargl": [
           {
            "marker": {
             "colorbar": {
              "outlinewidth": 0,
              "ticks": ""
             }
            },
            "type": "scatterpolargl"
           }
          ],
          "scatterternary": [
           {
            "marker": {
             "colorbar": {
              "outlinewidth": 0,
              "ticks": ""
             }
            },
            "type": "scatterternary"
           }
          ],
          "surface": [
           {
            "colorbar": {
             "outlinewidth": 0,
             "ticks": ""
            },
            "colorscale": [
             [
              0,
              "#0d0887"
             ],
             [
              0.1111111111111111,
              "#46039f"
             ],
             [
              0.2222222222222222,
              "#7201a8"
             ],
             [
              0.3333333333333333,
              "#9c179e"
             ],
             [
              0.4444444444444444,
              "#bd3786"
             ],
             [
              0.5555555555555556,
              "#d8576b"
             ],
             [
              0.6666666666666666,
              "#ed7953"
             ],
             [
              0.7777777777777778,
              "#fb9f3a"
             ],
             [
              0.8888888888888888,
              "#fdca26"
             ],
             [
              1,
              "#f0f921"
             ]
            ],
            "type": "surface"
           }
          ],
          "table": [
           {
            "cells": {
             "fill": {
              "color": "#EBF0F8"
             },
             "line": {
              "color": "white"
             }
            },
            "header": {
             "fill": {
              "color": "#C8D4E3"
             },
             "line": {
              "color": "white"
             }
            },
            "type": "table"
           }
          ]
         },
         "layout": {
          "annotationdefaults": {
           "arrowcolor": "#2a3f5f",
           "arrowhead": 0,
           "arrowwidth": 1
          },
          "coloraxis": {
           "colorbar": {
            "outlinewidth": 0,
            "ticks": ""
           }
          },
          "colorscale": {
           "diverging": [
            [
             0,
             "#8e0152"
            ],
            [
             0.1,
             "#c51b7d"
            ],
            [
             0.2,
             "#de77ae"
            ],
            [
             0.3,
             "#f1b6da"
            ],
            [
             0.4,
             "#fde0ef"
            ],
            [
             0.5,
             "#f7f7f7"
            ],
            [
             0.6,
             "#e6f5d0"
            ],
            [
             0.7,
             "#b8e186"
            ],
            [
             0.8,
             "#7fbc41"
            ],
            [
             0.9,
             "#4d9221"
            ],
            [
             1,
             "#276419"
            ]
           ],
           "sequential": [
            [
             0,
             "#0d0887"
            ],
            [
             0.1111111111111111,
             "#46039f"
            ],
            [
             0.2222222222222222,
             "#7201a8"
            ],
            [
             0.3333333333333333,
             "#9c179e"
            ],
            [
             0.4444444444444444,
             "#bd3786"
            ],
            [
             0.5555555555555556,
             "#d8576b"
            ],
            [
             0.6666666666666666,
             "#ed7953"
            ],
            [
             0.7777777777777778,
             "#fb9f3a"
            ],
            [
             0.8888888888888888,
             "#fdca26"
            ],
            [
             1,
             "#f0f921"
            ]
           ],
           "sequentialminus": [
            [
             0,
             "#0d0887"
            ],
            [
             0.1111111111111111,
             "#46039f"
            ],
            [
             0.2222222222222222,
             "#7201a8"
            ],
            [
             0.3333333333333333,
             "#9c179e"
            ],
            [
             0.4444444444444444,
             "#bd3786"
            ],
            [
             0.5555555555555556,
             "#d8576b"
            ],
            [
             0.6666666666666666,
             "#ed7953"
            ],
            [
             0.7777777777777778,
             "#fb9f3a"
            ],
            [
             0.8888888888888888,
             "#fdca26"
            ],
            [
             1,
             "#f0f921"
            ]
           ]
          },
          "colorway": [
           "#636efa",
           "#EF553B",
           "#00cc96",
           "#ab63fa",
           "#FFA15A",
           "#19d3f3",
           "#FF6692",
           "#B6E880",
           "#FF97FF",
           "#FECB52"
          ],
          "font": {
           "color": "#2a3f5f"
          },
          "geo": {
           "bgcolor": "white",
           "lakecolor": "white",
           "landcolor": "#E5ECF6",
           "showlakes": true,
           "showland": true,
           "subunitcolor": "white"
          },
          "hoverlabel": {
           "align": "left"
          },
          "hovermode": "closest",
          "mapbox": {
           "style": "light"
          },
          "paper_bgcolor": "white",
          "plot_bgcolor": "#E5ECF6",
          "polar": {
           "angularaxis": {
            "gridcolor": "white",
            "linecolor": "white",
            "ticks": ""
           },
           "bgcolor": "#E5ECF6",
           "radialaxis": {
            "gridcolor": "white",
            "linecolor": "white",
            "ticks": ""
           }
          },
          "scene": {
           "xaxis": {
            "backgroundcolor": "#E5ECF6",
            "gridcolor": "white",
            "gridwidth": 2,
            "linecolor": "white",
            "showbackground": true,
            "ticks": "",
            "zerolinecolor": "white"
           },
           "yaxis": {
            "backgroundcolor": "#E5ECF6",
            "gridcolor": "white",
            "gridwidth": 2,
            "linecolor": "white",
            "showbackground": true,
            "ticks": "",
            "zerolinecolor": "white"
           },
           "zaxis": {
            "backgroundcolor": "#E5ECF6",
            "gridcolor": "white",
            "gridwidth": 2,
            "linecolor": "white",
            "showbackground": true,
            "ticks": "",
            "zerolinecolor": "white"
           }
          },
          "shapedefaults": {
           "line": {
            "color": "#2a3f5f"
           }
          },
          "ternary": {
           "aaxis": {
            "gridcolor": "white",
            "linecolor": "white",
            "ticks": ""
           },
           "baxis": {
            "gridcolor": "white",
            "linecolor": "white",
            "ticks": ""
           },
           "bgcolor": "#E5ECF6",
           "caxis": {
            "gridcolor": "white",
            "linecolor": "white",
            "ticks": ""
           }
          },
          "title": {
           "x": 0.05
          },
          "xaxis": {
           "automargin": true,
           "gridcolor": "white",
           "linecolor": "white",
           "ticks": "",
           "title": {
            "standoff": 15
           },
           "zerolinecolor": "white",
           "zerolinewidth": 2
          },
          "yaxis": {
           "automargin": true,
           "gridcolor": "white",
           "linecolor": "white",
           "ticks": "",
           "title": {
            "standoff": 15
           },
           "zerolinecolor": "white",
           "zerolinewidth": 2
          }
         }
        },
        "title": {
         "text": "Electricity Yearly Usage of each primaty facility"
        },
        "violinmode": "group",
        "xaxis": {
         "anchor": "y",
         "autorange": true,
         "domain": [
          0,
          1
         ],
         "range": [
          -0.5,
          7.5
         ],
         "title": {
          "text": "FacilityName"
         },
         "type": "category"
        },
        "yaxis": {
         "anchor": "x",
         "autorange": true,
         "domain": [
          0,
          1
         ],
         "range": [
          -16521303.0678368,
          133653617.0678368
         ],
         "title": {
          "text": "value"
         },
         "type": "linear"
        }
       }
      },
      "image/png": "[encoded data removed]",
      "text/html": [
       "<div>\n",
       "        \n",
       "        \n",
       "            <div id=\"a596adff-2289-47ee-b767-15c04d288d12\" class=\"plotly-graph-div\" style=\"height:525px; width:100%;\"></div>\n",
       "            <script type=\"text/javascript\">\n",
       "                require([\"plotly\"], function(Plotly) {\n",
       "                    window.PLOTLYENV=window.PLOTLYENV || {};\n",
       "                    \n",
       "                if (document.getElementById(\"a596adff-2289-47ee-b767-15c04d288d12\")) {\n",
       "                    Plotly.newPlot(\n",
       "                        'a596adff-2289-47ee-b767-15c04d288d12',\n",
       "                        [{\"alignmentgroup\": \"True\", \"box\": {\"visible\": true}, \"hovertemplate\": \"FacilityName=%{x}<br>value=%{y}<extra></extra>\", \"legendgroup\": \"\", \"marker\": {\"color\": \"#636efa\"}, \"name\": \"\", \"offsetgroup\": \"\", \"orientation\": \"v\", \"scalegroup\": \"True\", \"showlegend\": false, \"type\": \"violin\", \"x\": [\"BEARSPAW WATER TREATMENT PLANT\", \"BEARSPAW WATER TREATMENT PLANT\", \"BEARSPAW WATER TREATMENT PLANT\", \"BEARSPAW WATER TREATMENT PLANT\", \"BEARSPAW WATER TREATMENT PLANT\", \"BEARSPAW WATER TREATMENT PLANT\", \"BEARSPAW WATER TREATMENT PLANT\", \"BEARSPAW WATER TREATMENT PLANT\", \"BONNYBROOK WASTEWATER TREATMENT PLANT\", \"BONNYBROOK WASTEWATER TREATMENT PLANT\", \"BONNYBROOK WASTEWATER TREATMENT PLANT\", \"BONNYBROOK WASTEWATER TREATMENT PLANT\", \"BONNYBROOK WASTEWATER TREATMENT PLANT\", \"BONNYBROOK WASTEWATER TREATMENT PLANT\", \"BONNYBROOK WASTEWATER TREATMENT PLANT\", \"BONNYBROOK WASTEWATER TREATMENT PLANT\", \"CALGARY STREET LIGHTING\", \"CALGARY STREET LIGHTING\", \"CALGARY STREET LIGHTING\", \"CALGARY STREET LIGHTING\", \"CALGARY STREET LIGHTING\", \"CALGARY STREET LIGHTING\", \"CALGARY STREET LIGHTING\", \"CALGARY STREET LIGHTING\", \"FISH CREEK WASTEWATER TREATMENT PLANT\", \"FISH CREEK WASTEWATER TREATMENT PLANT\", \"FISH CREEK WASTEWATER TREATMENT PLANT\", \"FISH CREEK WASTEWATER TREATMENT PLANT\", \"FISH CREEK WASTEWATER TREATMENT PLANT\", \"FISH CREEK WASTEWATER TREATMENT PLANT\", \"FISH CREEK WASTEWATER TREATMENT PLANT\", \"FISH CREEK WASTEWATER TREATMENT PLANT\", \"GLENMORE WATER TREATMENT PLANT - WB\", \"GLENMORE WATER TREATMENT PLANT - WB\", \"GLENMORE WATER TREATMENT PLANT - WB\", \"GLENMORE WATER TREATMENT PLANT - WB\", \"GLENMORE WATER TREATMENT PLANT - WB\", \"GLENMORE WATER TREATMENT PLANT - WB\", \"GLENMORE WATER TREATMENT PLANT - WB\", \"GLENMORE WATER TREATMENT PLANT - WB\", \"MUNICIPAL COMPLEX\", \"MUNICIPAL COMPLEX\", \"MUNICIPAL COMPLEX\", \"MUNICIPAL COMPLEX\", \"MUNICIPAL COMPLEX\", \"MUNICIPAL COMPLEX\", \"MUNICIPAL COMPLEX\", \"MUNICIPAL COMPLEX\", \"PINE CREEK WASTEWATER TREATMENT PLANT\", \"PINE CREEK WASTEWATER TREATMENT PLANT\", \"PINE CREEK WASTEWATER TREATMENT PLANT\", \"PINE CREEK WASTEWATER TREATMENT PLANT\", \"PINE CREEK WASTEWATER TREATMENT PLANT\", \"PINE CREEK WASTEWATER TREATMENT PLANT\", \"PINE CREEK WASTEWATER TREATMENT PLANT\", \"PINE CREEK WASTEWATER TREATMENT PLANT\", \"SH - BLDG W (COMPOST FACILITY)\", \"SH - BLDG W (COMPOST FACILITY)\", \"SH - BLDG W (COMPOST FACILITY)\", \"SH - BLDG W (COMPOST FACILITY)\", \"SH - BLDG W (COMPOST FACILITY)\", \"SH - BLDG W (COMPOST FACILITY)\", \"SH - BLDG W (COMPOST FACILITY)\", \"SH - BLDG W (COMPOST FACILITY)\"], \"x0\": \" \", \"xaxis\": \"x\", \"y\": [27006979.0, 22896652.0, 34507602.0, 37570393.0, 34437203.0, 27503120.0, 34585362.0, 20122592.0, 25946479.0, 18470960.0, 18919634.0, 24187268.0, 30532643.0, 28814674.0, 26283641.0, 21374437.0, 91870809.0, 90922781.0, 78855156.0, 54751112.0, 48574753.0, 45044868.0, 42802879.0, 25261505.0, null, null, 12013694.0, 7911196.0, 12455848.0, 8647091.0, 13740451.0, 7626078.0, 20752623.0, 19647504.0, 18619313.0, 20468133.0, 19762821.0, 20062555.0, 18482865.0, 14085753.0, 1151483.0, null, null, null, null, null, null, null, 21972952.0, 23077646.0, 21265638.0, 21626015.0, 21776522.0, 23153347.0, 23486956.0, 15192188.0, null, null, null, 3613911.0, 14359899.0, 10817489.0, null, 3148365.0], \"y0\": \" \", \"yaxis\": \"y\"}],\n",
       "                        {\"legend\": {\"tracegroupgap\": 0}, \"template\": {\"data\": {\"bar\": [{\"error_x\": {\"color\": \"#2a3f5f\"}, \"error_y\": {\"color\": \"#2a3f5f\"}, \"marker\": {\"line\": {\"color\": \"#E5ECF6\", \"width\": 0.5}}, \"type\": \"bar\"}], \"barpolar\": [{\"marker\": {\"line\": {\"color\": \"#E5ECF6\", \"width\": 0.5}}, \"type\": \"barpolar\"}], \"carpet\": [{\"aaxis\": {\"endlinecolor\": \"#2a3f5f\", \"gridcolor\": \"white\", \"linecolor\": \"white\", \"minorgridcolor\": \"white\", \"startlinecolor\": \"#2a3f5f\"}, \"baxis\": {\"endlinecolor\": \"#2a3f5f\", \"gridcolor\": \"white\", \"linecolor\": \"white\", \"minorgridcolor\": \"white\", \"startlinecolor\": \"#2a3f5f\"}, \"type\": \"carpet\"}], \"choropleth\": [{\"colorbar\": {\"outlinewidth\": 0, \"ticks\": \"\"}, \"type\": \"choropleth\"}], \"contour\": [{\"colorbar\": {\"outlinewidth\": 0, \"ticks\": \"\"}, \"colorscale\": [[0.0, \"#0d0887\"], [0.1111111111111111, \"#46039f\"], [0.2222222222222222, \"#7201a8\"], [0.3333333333333333, \"#9c179e\"], [0.4444444444444444, \"#bd3786\"], [0.5555555555555556, \"#d8576b\"], [0.6666666666666666, \"#ed7953\"], [0.7777777777777778, \"#fb9f3a\"], [0.8888888888888888, \"#fdca26\"], [1.0, \"#f0f921\"]], \"type\": \"contour\"}], \"contourcarpet\": [{\"colorbar\": {\"outlinewidth\": 0, \"ticks\": \"\"}, \"type\": \"contourcarpet\"}], \"heatmap\": [{\"colorbar\": {\"outlinewidth\": 0, \"ticks\": \"\"}, \"colorscale\": [[0.0, \"#0d0887\"], [0.1111111111111111, \"#46039f\"], [0.2222222222222222, \"#7201a8\"], [0.3333333333333333, \"#9c179e\"], [0.4444444444444444, \"#bd3786\"], [0.5555555555555556, \"#d8576b\"], [0.6666666666666666, \"#ed7953\"], [0.7777777777777778, \"#fb9f3a\"], [0.8888888888888888, \"#fdca26\"], [1.0, \"#f0f921\"]], \"type\": \"heatmap\"}], \"heatmapgl\": [{\"colorbar\": {\"outlinewidth\": 0, \"ticks\": \"\"}, \"colorscale\": [[0.0, \"#0d0887\"], [0.1111111111111111, \"#46039f\"], [0.2222222222222222, \"#7201a8\"], [0.3333333333333333, \"#9c179e\"], [0.4444444444444444, \"#bd3786\"], [0.5555555555555556, \"#d8576b\"], [0.6666666666666666, \"#ed7953\"], [0.7777777777777778, \"#fb9f3a\"], [0.8888888888888888, \"#fdca26\"], [1.0, \"#f0f921\"]], \"type\": \"heatmapgl\"}], \"histogram\": [{\"marker\": {\"colorbar\": {\"outlinewidth\": 0, \"ticks\": \"\"}}, \"type\": \"histogram\"}], \"histogram2d\": [{\"colorbar\": {\"outlinewidth\": 0, \"ticks\": \"\"}, \"colorscale\": [[0.0, \"#0d0887\"], [0.1111111111111111, \"#46039f\"], [0.2222222222222222, \"#7201a8\"], [0.3333333333333333, \"#9c179e\"], [0.4444444444444444, \"#bd3786\"], [0.5555555555555556, \"#d8576b\"], [0.6666666666666666, \"#ed7953\"], [0.7777777777777778, \"#fb9f3a\"], [0.8888888888888888, \"#fdca26\"], [1.0, \"#f0f921\"]], \"type\": \"histogram2d\"}], \"histogram2dcontour\": [{\"colorbar\": {\"outlinewidth\": 0, \"ticks\": \"\"}, \"colorscale\": [[0.0, \"#0d0887\"], [0.1111111111111111, \"#46039f\"], [0.2222222222222222, \"#7201a8\"], [0.3333333333333333, \"#9c179e\"], [0.4444444444444444, \"#bd3786\"], [0.5555555555555556, \"#d8576b\"], [0.6666666666666666, \"#ed7953\"], [0.7777777777777778, \"#fb9f3a\"], [0.8888888888888888, \"#fdca26\"], [1.0, \"#f0f921\"]], \"type\": \"histogram2dcontour\"}], \"mesh3d\": [{\"colorbar\": {\"outlinewidth\": 0, \"ticks\": \"\"}, \"type\": \"mesh3d\"}], \"parcoords\": [{\"line\": {\"colorbar\": {\"outlinewidth\": 0, \"ticks\": \"\"}}, \"type\": \"parcoords\"}], \"pie\": [{\"automargin\": true, \"type\": \"pie\"}], \"scatter\": [{\"marker\": {\"colorbar\": {\"outlinewidth\": 0, \"ticks\": \"\"}}, \"type\": \"scatter\"}], \"scatter3d\": [{\"line\": {\"colorbar\": {\"outlinewidth\": 0, \"ticks\": \"\"}}, \"marker\": {\"colorbar\": {\"outlinewidth\": 0, \"ticks\": \"\"}}, \"type\": \"scatter3d\"}], \"scattercarpet\": [{\"marker\": {\"colorbar\": {\"outlinewidth\": 0, \"ticks\": \"\"}}, \"type\": \"scattercarpet\"}], \"scattergeo\": [{\"marker\": {\"colorbar\": {\"outlinewidth\": 0, \"ticks\": \"\"}}, \"type\": \"scattergeo\"}], \"scattergl\": [{\"marker\": {\"colorbar\": {\"outlinewidth\": 0, \"ticks\": \"\"}}, \"type\": \"scattergl\"}], \"scattermapbox\": [{\"marker\": {\"colorbar\": {\"outlinewidth\": 0, \"ticks\": \"\"}}, \"type\": \"scattermapbox\"}], \"scatterpolar\": [{\"marker\": {\"colorbar\": {\"outlinewidth\": 0, \"ticks\": \"\"}}, \"type\": \"scatterpolar\"}], \"scatterpolargl\": [{\"marker\": {\"colorbar\": {\"outlinewidth\": 0, \"ticks\": \"\"}}, \"type\": \"scatterpolargl\"}], \"scatterternary\": [{\"marker\": {\"colorbar\": {\"outlinewidth\": 0, \"ticks\": \"\"}}, \"type\": \"scatterternary\"}], \"surface\": [{\"colorbar\": {\"outlinewidth\": 0, \"ticks\": \"\"}, \"colorscale\": [[0.0, \"#0d0887\"], [0.1111111111111111, \"#46039f\"], [0.2222222222222222, \"#7201a8\"], [0.3333333333333333, \"#9c179e\"], [0.4444444444444444, \"#bd3786\"], [0.5555555555555556, \"#d8576b\"], [0.6666666666666666, \"#ed7953\"], [0.7777777777777778, \"#fb9f3a\"], [0.8888888888888888, \"#fdca26\"], [1.0, \"#f0f921\"]], \"type\": \"surface\"}], \"table\": [{\"cells\": {\"fill\": {\"color\": \"#EBF0F8\"}, \"line\": {\"color\": \"white\"}}, \"header\": {\"fill\": {\"color\": \"#C8D4E3\"}, \"line\": {\"color\": \"white\"}}, \"type\": \"table\"}]}, \"layout\": {\"annotationdefaults\": {\"arrowcolor\": \"#2a3f5f\", \"arrowhead\": 0, \"arrowwidth\": 1}, \"coloraxis\": {\"colorbar\": {\"outlinewidth\": 0, \"ticks\": \"\"}}, \"colorscale\": {\"diverging\": [[0, \"#8e0152\"], [0.1, \"#c51b7d\"], [0.2, \"#de77ae\"], [0.3, \"#f1b6da\"], [0.4, \"#fde0ef\"], [0.5, \"#f7f7f7\"], [0.6, \"#e6f5d0\"], [0.7, \"#b8e186\"], [0.8, \"#7fbc41\"], [0.9, \"#4d9221\"], [1, \"#276419\"]], \"sequential\": [[0.0, \"#0d0887\"], [0.1111111111111111, \"#46039f\"], [0.2222222222222222, \"#7201a8\"], [0.3333333333333333, \"#9c179e\"], [0.4444444444444444, \"#bd3786\"], [0.5555555555555556, \"#d8576b\"], [0.6666666666666666, \"#ed7953\"], [0.7777777777777778, \"#fb9f3a\"], [0.8888888888888888, \"#fdca26\"], [1.0, \"#f0f921\"]], \"sequentialminus\": [[0.0, \"#0d0887\"], [0.1111111111111111, \"#46039f\"], [0.2222222222222222, \"#7201a8\"], [0.3333333333333333, \"#9c179e\"], [0.4444444444444444, \"#bd3786\"], [0.5555555555555556, \"#d8576b\"], [0.6666666666666666, \"#ed7953\"], [0.7777777777777778, \"#fb9f3a\"], [0.8888888888888888, \"#fdca26\"], [1.0, \"#f0f921\"]]}, \"colorway\": [\"#636efa\", \"#EF553B\", \"#00cc96\", \"#ab63fa\", \"#FFA15A\", \"#19d3f3\", \"#FF6692\", \"#B6E880\", \"#FF97FF\", \"#FECB52\"], \"font\": {\"color\": \"#2a3f5f\"}, \"geo\": {\"bgcolor\": \"white\", \"lakecolor\": \"white\", \"landcolor\": \"#E5ECF6\", \"showlakes\": true, \"showland\": true, \"subunitcolor\": \"white\"}, \"hoverlabel\": {\"align\": \"left\"}, \"hovermode\": \"closest\", \"mapbox\": {\"style\": \"light\"}, \"paper_bgcolor\": \"white\", \"plot_bgcolor\": \"#E5ECF6\", \"polar\": {\"angularaxis\": {\"gridcolor\": \"white\", \"linecolor\": \"white\", \"ticks\": \"\"}, \"bgcolor\": \"#E5ECF6\", \"radialaxis\": {\"gridcolor\": \"white\", \"linecolor\": \"white\", \"ticks\": \"\"}}, \"scene\": {\"xaxis\": {\"backgroundcolor\": \"#E5ECF6\", \"gridcolor\": \"white\", \"gridwidth\": 2, \"linecolor\": \"white\", \"showbackground\": true, \"ticks\": \"\", \"zerolinecolor\": \"white\"}, \"yaxis\": {\"backgroundcolor\": \"#E5ECF6\", \"gridcolor\": \"white\", \"gridwidth\": 2, \"linecolor\": \"white\", \"showbackground\": true, \"ticks\": \"\", \"zerolinecolor\": \"white\"}, \"zaxis\": {\"backgroundcolor\": \"#E5ECF6\", \"gridcolor\": \"white\", \"gridwidth\": 2, \"linecolor\": \"white\", \"showbackground\": true, \"ticks\": \"\", \"zerolinecolor\": \"white\"}}, \"shapedefaults\": {\"line\": {\"color\": \"#2a3f5f\"}}, \"ternary\": {\"aaxis\": {\"gridcolor\": \"white\", \"linecolor\": \"white\", \"ticks\": \"\"}, \"baxis\": {\"gridcolor\": \"white\", \"linecolor\": \"white\", \"ticks\": \"\"}, \"bgcolor\": \"#E5ECF6\", \"caxis\": {\"gridcolor\": \"white\", \"linecolor\": \"white\", \"ticks\": \"\"}}, \"title\": {\"x\": 0.05}, \"xaxis\": {\"automargin\": true, \"gridcolor\": \"white\", \"linecolor\": \"white\", \"ticks\": \"\", \"title\": {\"standoff\": 15}, \"zerolinecolor\": \"white\", \"zerolinewidth\": 2}, \"yaxis\": {\"automargin\": true, \"gridcolor\": \"white\", \"linecolor\": \"white\", \"ticks\": \"\", \"title\": {\"standoff\": 15}, \"zerolinecolor\": \"white\", \"zerolinewidth\": 2}}}, \"title\": {\"text\": \"Electricity Yearly Usage of each primaty facility\"}, \"violinmode\": \"group\", \"xaxis\": {\"anchor\": \"y\", \"domain\": [0.0, 1.0], \"title\": {\"text\": \"FacilityName\"}}, \"yaxis\": {\"anchor\": \"x\", \"domain\": [0.0, 1.0], \"title\": {\"text\": \"value\"}}},\n",
       "                        {\"responsive\": true}\n",
       "                    ).then(function(){\n",
       "                            \n",
       "var gd = document.getElementById('a596adff-2289-47ee-b767-15c04d288d12');\n",
       "var x = new MutationObserver(function (mutations, observer) {{\n",
       "        var display = window.getComputedStyle(gd).display;\n",
       "        if (!display || display === 'none') {{\n",
       "            console.log([gd, 'removed!']);\n",
       "            Plotly.purge(gd);\n",
       "            observer.disconnect();\n",
       "        }}\n",
       "}});\n",
       "\n",
       "// Listen for the removal of the full notebook cells\n",
       "var notebookContainer = gd.closest('#notebook-container');\n",
       "if (notebookContainer) {{\n",
       "    x.observe(notebookContainer, {childList: true});\n",
       "}}\n",
       "\n",
       "// Listen for the clearing of the current output cell\n",
       "var outputEl = gd.closest('.output');\n",
       "if (outputEl) {{\n",
       "    x.observe(outputEl, {childList: true});\n",
       "}}\n",
       "\n",
       "                        })\n",
       "                };\n",
       "                });\n",
       "            </script>\n",
       "        </div>"
      ]
     },
     "metadata": {},
     "output_type": "display_data"
    },
    {
     "data": {
      "application/vnd.plotly.v1+json": {
       "config": {
        "plotlyServerURL": "https://plot.ly"
       },
       "data": [
        {
         "hovertemplate": "FacilityName=BEARSPAW WATER TREATMENT PLANT<br>value=%{x}<br>Year=%{y}<extra></extra>",
         "legendgroup": "BEARSPAW WATER TREATMENT PLANT",
         "marker": {
          "color": "#636efa",
          "symbol": "circle"
         },
         "mode": "markers",
         "name": "BEARSPAW WATER TREATMENT PLANT",
         "orientation": "h",
         "showlegend": true,
         "type": "scatter",
         "x": [
          27006979,
          22896652,
          34507602,
          37570393,
          34437203,
          27503120,
          34585362,
          20122592
         ],
         "xaxis": "x",
         "y": [
          2014,
          2015,
          2016,
          2017,
          2018,
          2019,
          2020,
          2021
         ],
         "yaxis": "y"
        },
        {
         "hovertemplate": "FacilityName=BONNYBROOK WASTEWATER TREATMENT PLANT<br>value=%{x}<br>Year=%{y}<extra></extra>",
         "legendgroup": "BONNYBROOK WASTEWATER TREATMENT PLANT",
         "marker": {
          "color": "#EF553B",
          "symbol": "circle"
         },
         "mode": "markers",
         "name": "BONNYBROOK WASTEWATER TREATMENT PLANT",
         "orientation": "h",
         "showlegend": true,
         "type": "scatter",
         "x": [
          25946479,
          18470960,
          18919634,
          24187268,
          30532643,
          28814674,
          26283641,
          21374437
         ],
         "xaxis": "x",
         "y": [
          2014,
          2015,
          2016,
          2017,
          2018,
          2019,
          2020,
          2021
         ],
         "yaxis": "y"
        },
        {
         "hovertemplate": "FacilityName=CALGARY STREET LIGHTING<br>value=%{x}<br>Year=%{y}<extra></extra>",
         "legendgroup": "CALGARY STREET LIGHTING",
         "marker": {
          "color": "#00cc96",
          "symbol": "circle"
         },
         "mode": "markers",
         "name": "CALGARY STREET LIGHTING",
         "orientation": "h",
         "showlegend": true,
         "type": "scatter",
         "x": [
          91870809,
          90922781,
          78855156,
          54751112,
          48574753,
          45044868,
          42802879,
          25261505
         ],
         "xaxis": "x",
         "y": [
          2014,
          2015,
          2016,
          2017,
          2018,
          2019,
          2020,
          2021
         ],
         "yaxis": "y"
        },
        {
         "hovertemplate": "FacilityName=FISH CREEK WASTEWATER TREATMENT PLANT<br>value=%{x}<br>Year=%{y}<extra></extra>",
         "legendgroup": "FISH CREEK WASTEWATER TREATMENT PLANT",
         "marker": {
          "color": "#ab63fa",
          "symbol": "circle"
         },
         "mode": "markers",
         "name": "FISH CREEK WASTEWATER TREATMENT PLANT",
         "orientation": "h",
         "showlegend": true,
         "type": "scatter",
         "x": [
          null,
          null,
          12013694,
          7911196,
          12455848,
          8647091,
          13740451,
          7626078
         ],
         "xaxis": "x",
         "y": [
          2014,
          2015,
          2016,
          2017,
          2018,
          2019,
          2020,
          2021
         ],
         "yaxis": "y"
        },
        {
         "hovertemplate": "FacilityName=GLENMORE WATER TREATMENT PLANT - WB<br>value=%{x}<br>Year=%{y}<extra></extra>",
         "legendgroup": "GLENMORE WATER TREATMENT PLANT - WB",
         "marker": {
          "color": "#FFA15A",
          "symbol": "circle"
         },
         "mode": "markers",
         "name": "GLENMORE WATER TREATMENT PLANT - WB",
         "orientation": "h",
         "showlegend": true,
         "type": "scatter",
         "x": [
          20752623,
          19647504,
          18619313,
          20468133,
          19762821,
          20062555,
          18482865,
          14085753
         ],
         "xaxis": "x",
         "y": [
          2014,
          2015,
          2016,
          2017,
          2018,
          2019,
          2020,
          2021
         ],
         "yaxis": "y"
        },
        {
         "hovertemplate": "FacilityName=MUNICIPAL COMPLEX<br>value=%{x}<br>Year=%{y}<extra></extra>",
         "legendgroup": "MUNICIPAL COMPLEX",
         "marker": {
          "color": "#19d3f3",
          "symbol": "circle"
         },
         "mode": "markers",
         "name": "MUNICIPAL COMPLEX",
         "orientation": "h",
         "showlegend": true,
         "type": "scatter",
         "x": [
          1151483,
          null,
          null,
          null,
          null,
          null,
          null,
          null
         ],
         "xaxis": "x",
         "y": [
          2014,
          2015,
          2016,
          2017,
          2018,
          2019,
          2020,
          2021
         ],
         "yaxis": "y"
        },
        {
         "hovertemplate": "FacilityName=PINE CREEK WASTEWATER TREATMENT PLANT<br>value=%{x}<br>Year=%{y}<extra></extra>",
         "legendgroup": "PINE CREEK WASTEWATER TREATMENT PLANT",
         "marker": {
          "color": "#FF6692",
          "symbol": "circle"
         },
         "mode": "markers",
         "name": "PINE CREEK WASTEWATER TREATMENT PLANT",
         "orientation": "h",
         "showlegend": true,
         "type": "scatter",
         "x": [
          21972952,
          23077646,
          21265638,
          21626015,
          21776522,
          23153347,
          23486956,
          15192188
         ],
         "xaxis": "x",
         "y": [
          2014,
          2015,
          2016,
          2017,
          2018,
          2019,
          2020,
          2021
         ],
         "yaxis": "y"
        },
        {
         "hovertemplate": "FacilityName=SH - BLDG W (COMPOST FACILITY)<br>value=%{x}<br>Year=%{y}<extra></extra>",
         "legendgroup": "SH - BLDG W (COMPOST FACILITY)",
         "marker": {
          "color": "#B6E880",
          "symbol": "circle"
         },
         "mode": "markers",
         "name": "SH - BLDG W (COMPOST FACILITY)",
         "orientation": "h",
         "showlegend": true,
         "type": "scatter",
         "x": [
          null,
          null,
          null,
          3613911,
          14359899,
          10817489,
          null,
          3148365
         ],
         "xaxis": "x",
         "y": [
          2014,
          2015,
          2016,
          2017,
          2018,
          2019,
          2020,
          2021
         ],
         "yaxis": "y"
        }
       ],
       "layout": {
        "autosize": true,
        "legend": {
         "title": {
          "text": "FacilityName"
         },
         "tracegroupgap": 0
        },
        "template": {
         "data": {
          "bar": [
           {
            "error_x": {
             "color": "#2a3f5f"
            },
            "error_y": {
             "color": "#2a3f5f"
            },
            "marker": {
             "line": {
              "color": "#E5ECF6",
              "width": 0.5
             }
            },
            "type": "bar"
           }
          ],
          "barpolar": [
           {
            "marker": {
             "line": {
              "color": "#E5ECF6",
              "width": 0.5
             }
            },
            "type": "barpolar"
           }
          ],
          "carpet": [
           {
            "aaxis": {
             "endlinecolor": "#2a3f5f",
             "gridcolor": "white",
             "linecolor": "white",
             "minorgridcolor": "white",
             "startlinecolor": "#2a3f5f"
            },
            "baxis": {
             "endlinecolor": "#2a3f5f",
             "gridcolor": "white",
             "linecolor": "white",
             "minorgridcolor": "white",
             "startlinecolor": "#2a3f5f"
            },
            "type": "carpet"
           }
          ],
          "choropleth": [
           {
            "colorbar": {
             "outlinewidth": 0,
             "ticks": ""
            },
            "type": "choropleth"
           }
          ],
          "contour": [
           {
            "colorbar": {
             "outlinewidth": 0,
             "ticks": ""
            },
            "colorscale": [
             [
              0,
              "#0d0887"
             ],
             [
              0.1111111111111111,
              "#46039f"
             ],
             [
              0.2222222222222222,
              "#7201a8"
             ],
             [
              0.3333333333333333,
              "#9c179e"
             ],
             [
              0.4444444444444444,
              "#bd3786"
             ],
             [
              0.5555555555555556,
              "#d8576b"
             ],
             [
              0.6666666666666666,
              "#ed7953"
             ],
             [
              0.7777777777777778,
              "#fb9f3a"
             ],
             [
              0.8888888888888888,
              "#fdca26"
             ],
             [
              1,
              "#f0f921"
             ]
            ],
            "type": "contour"
           }
          ],
          "contourcarpet": [
           {
            "colorbar": {
             "outlinewidth": 0,
             "ticks": ""
            },
            "type": "contourcarpet"
           }
          ],
          "heatmap": [
           {
            "colorbar": {
             "outlinewidth": 0,
             "ticks": ""
            },
            "colorscale": [
             [
              0,
              "#0d0887"
             ],
             [
              0.1111111111111111,
              "#46039f"
             ],
             [
              0.2222222222222222,
              "#7201a8"
             ],
             [
              0.3333333333333333,
              "#9c179e"
             ],
             [
              0.4444444444444444,
              "#bd3786"
             ],
             [
              0.5555555555555556,
              "#d8576b"
             ],
             [
              0.6666666666666666,
              "#ed7953"
             ],
             [
              0.7777777777777778,
              "#fb9f3a"
             ],
             [
              0.8888888888888888,
              "#fdca26"
             ],
             [
              1,
              "#f0f921"
             ]
            ],
            "type": "heatmap"
           }
          ],
          "heatmapgl": [
           {
            "colorbar": {
             "outlinewidth": 0,
             "ticks": ""
            },
            "colorscale": [
             [
              0,
              "#0d0887"
             ],
             [
              0.1111111111111111,
              "#46039f"
             ],
             [
              0.2222222222222222,
              "#7201a8"
             ],
             [
              0.3333333333333333,
              "#9c179e"
             ],
             [
              0.4444444444444444,
              "#bd3786"
             ],
             [
              0.5555555555555556,
              "#d8576b"
             ],
             [
              0.6666666666666666,
              "#ed7953"
             ],
             [
              0.7777777777777778,
              "#fb9f3a"
             ],
             [
              0.8888888888888888,
              "#fdca26"
             ],
             [
              1,
              "#f0f921"
             ]
            ],
            "type": "heatmapgl"
           }
          ],
          "histogram": [
           {
            "marker": {
             "colorbar": {
              "outlinewidth": 0,
              "ticks": ""
             }
            },
            "type": "histogram"
           }
          ],
          "histogram2d": [
           {
            "colorbar": {
             "outlinewidth": 0,
             "ticks": ""
            },
            "colorscale": [
             [
              0,
              "#0d0887"
             ],
             [
              0.1111111111111111,
              "#46039f"
             ],
             [
              0.2222222222222222,
              "#7201a8"
             ],
             [
              0.3333333333333333,
              "#9c179e"
             ],
             [
              0.4444444444444444,
              "#bd3786"
             ],
             [
              0.5555555555555556,
              "#d8576b"
             ],
             [
              0.6666666666666666,
              "#ed7953"
             ],
             [
              0.7777777777777778,
              "#fb9f3a"
             ],
             [
              0.8888888888888888,
              "#fdca26"
             ],
             [
              1,
              "#f0f921"
             ]
            ],
            "type": "histogram2d"
           }
          ],
          "histogram2dcontour": [
           {
            "colorbar": {
             "outlinewidth": 0,
             "ticks": ""
            },
            "colorscale": [
             [
              0,
              "#0d0887"
             ],
             [
              0.1111111111111111,
              "#46039f"
             ],
             [
              0.2222222222222222,
              "#7201a8"
             ],
             [
              0.3333333333333333,
              "#9c179e"
             ],
             [
              0.4444444444444444,
              "#bd3786"
             ],
             [
              0.5555555555555556,
              "#d8576b"
             ],
             [
              0.6666666666666666,
              "#ed7953"
             ],
             [
              0.7777777777777778,
              "#fb9f3a"
             ],
             [
              0.8888888888888888,
              "#fdca26"
             ],
             [
              1,
              "#f0f921"
             ]
            ],
            "type": "histogram2dcontour"
           }
          ],
          "mesh3d": [
           {
            "colorbar": {
             "outlinewidth": 0,
             "ticks": ""
            },
            "type": "mesh3d"
           }
          ],
          "parcoords": [
           {
            "line": {
             "colorbar": {
              "outlinewidth": 0,
              "ticks": ""
             }
            },
            "type": "parcoords"
           }
          ],
          "pie": [
           {
            "automargin": true,
            "type": "pie"
           }
          ],
          "scatter": [
           {
            "marker": {
             "colorbar": {
              "outlinewidth": 0,
              "ticks": ""
             }
            },
            "type": "scatter"
           }
          ],
          "scatter3d": [
           {
            "line": {
             "colorbar": {
              "outlinewidth": 0,
              "ticks": ""
             }
            },
            "marker": {
             "colorbar": {
              "outlinewidth": 0,
              "ticks": ""
             }
            },
            "type": "scatter3d"
           }
          ],
          "scattercarpet": [
           {
            "marker": {
             "colorbar": {
              "outlinewidth": 0,
              "ticks": ""
             }
            },
            "type": "scattercarpet"
           }
          ],
          "scattergeo": [
           {
            "marker": {
             "colorbar": {
              "outlinewidth": 0,
              "ticks": ""
             }
            },
            "type": "scattergeo"
           }
          ],
          "scattergl": [
           {
            "marker": {
             "colorbar": {
              "outlinewidth": 0,
              "ticks": ""
             }
            },
            "type": "scattergl"
           }
          ],
          "scattermapbox": [
           {
            "marker": {
             "colorbar": {
              "outlinewidth": 0,
              "ticks": ""
             }
            },
            "type": "scattermapbox"
           }
          ],
          "scatterpolar": [
           {
            "marker": {
             "colorbar": {
              "outlinewidth": 0,
              "ticks": ""
             }
            },
            "type": "scatterpolar"
           }
          ],
          "scatterpolargl": [
           {
            "marker": {
             "colorbar": {
              "outlinewidth": 0,
              "ticks": ""
             }
            },
            "type": "scatterpolargl"
           }
          ],
          "scatterternary": [
           {
            "marker": {
             "colorbar": {
              "outlinewidth": 0,
              "ticks": ""
             }
            },
            "type": "scatterternary"
           }
          ],
          "surface": [
           {
            "colorbar": {
             "outlinewidth": 0,
             "ticks": ""
            },
            "colorscale": [
             [
              0,
              "#0d0887"
             ],
             [
              0.1111111111111111,
              "#46039f"
             ],
             [
              0.2222222222222222,
              "#7201a8"
             ],
             [
              0.3333333333333333,
              "#9c179e"
             ],
             [
              0.4444444444444444,
              "#bd3786"
             ],
             [
              0.5555555555555556,
              "#d8576b"
             ],
             [
              0.6666666666666666,
              "#ed7953"
             ],
             [
              0.7777777777777778,
              "#fb9f3a"
             ],
             [
              0.8888888888888888,
              "#fdca26"
             ],
             [
              1,
              "#f0f921"
             ]
            ],
            "type": "surface"
           }
          ],
          "table": [
           {
            "cells": {
             "fill": {
              "color": "#EBF0F8"
             },
             "line": {
              "color": "white"
             }
            },
            "header": {
             "fill": {
              "color": "#C8D4E3"
             },
             "line": {
              "color": "white"
             }
            },
            "type": "table"
           }
          ]
         },
         "layout": {
          "annotationdefaults": {
           "arrowcolor": "#2a3f5f",
           "arrowhead": 0,
           "arrowwidth": 1
          },
          "coloraxis": {
           "colorbar": {
            "outlinewidth": 0,
            "ticks": ""
           }
          },
          "colorscale": {
           "diverging": [
            [
             0,
             "#8e0152"
            ],
            [
             0.1,
             "#c51b7d"
            ],
            [
             0.2,
             "#de77ae"
            ],
            [
             0.3,
             "#f1b6da"
            ],
            [
             0.4,
             "#fde0ef"
            ],
            [
             0.5,
             "#f7f7f7"
            ],
            [
             0.6,
             "#e6f5d0"
            ],
            [
             0.7,
             "#b8e186"
            ],
            [
             0.8,
             "#7fbc41"
            ],
            [
             0.9,
             "#4d9221"
            ],
            [
             1,
             "#276419"
            ]
           ],
           "sequential": [
            [
             0,
             "#0d0887"
            ],
            [
             0.1111111111111111,
             "#46039f"
            ],
            [
             0.2222222222222222,
             "#7201a8"
            ],
            [
             0.3333333333333333,
             "#9c179e"
            ],
            [
             0.4444444444444444,
             "#bd3786"
            ],
            [
             0.5555555555555556,
             "#d8576b"
            ],
            [
             0.6666666666666666,
             "#ed7953"
            ],
            [
             0.7777777777777778,
             "#fb9f3a"
            ],
            [
             0.8888888888888888,
             "#fdca26"
            ],
            [
             1,
             "#f0f921"
            ]
           ],
           "sequentialminus": [
            [
             0,
             "#0d0887"
            ],
            [
             0.1111111111111111,
             "#46039f"
            ],
            [
             0.2222222222222222,
             "#7201a8"
            ],
            [
             0.3333333333333333,
             "#9c179e"
            ],
            [
             0.4444444444444444,
             "#bd3786"
            ],
            [
             0.5555555555555556,
             "#d8576b"
            ],
            [
             0.6666666666666666,
             "#ed7953"
            ],
            [
             0.7777777777777778,
             "#fb9f3a"
            ],
            [
             0.8888888888888888,
             "#fdca26"
            ],
            [
             1,
             "#f0f921"
            ]
           ]
          },
          "colorway": [
           "#636efa",
           "#EF553B",
           "#00cc96",
           "#ab63fa",
           "#FFA15A",
           "#19d3f3",
           "#FF6692",
           "#B6E880",
           "#FF97FF",
           "#FECB52"
          ],
          "font": {
           "color": "#2a3f5f"
          },
          "geo": {
           "bgcolor": "white",
           "lakecolor": "white",
           "landcolor": "#E5ECF6",
           "showlakes": true,
           "showland": true,
           "subunitcolor": "white"
          },
          "hoverlabel": {
           "align": "left"
          },
          "hovermode": "closest",
          "mapbox": {
           "style": "light"
          },
          "paper_bgcolor": "white",
          "plot_bgcolor": "#E5ECF6",
          "polar": {
           "angularaxis": {
            "gridcolor": "white",
            "linecolor": "white",
            "ticks": ""
           },
           "bgcolor": "#E5ECF6",
           "radialaxis": {
            "gridcolor": "white",
            "linecolor": "white",
            "ticks": ""
           }
          },
          "scene": {
           "xaxis": {
            "backgroundcolor": "#E5ECF6",
            "gridcolor": "white",
            "gridwidth": 2,
            "linecolor": "white",
            "showbackground": true,
            "ticks": "",
            "zerolinecolor": "white"
           },
           "yaxis": {
            "backgroundcolor": "#E5ECF6",
            "gridcolor": "white",
            "gridwidth": 2,
            "linecolor": "white",
            "showbackground": true,
            "ticks": "",
            "zerolinecolor": "white"
           },
           "zaxis": {
            "backgroundcolor": "#E5ECF6",
            "gridcolor": "white",
            "gridwidth": 2,
            "linecolor": "white",
            "showbackground": true,
            "ticks": "",
            "zerolinecolor": "white"
           }
          },
          "shapedefaults": {
           "line": {
            "color": "#2a3f5f"
           }
          },
          "ternary": {
           "aaxis": {
            "gridcolor": "white",
            "linecolor": "white",
            "ticks": ""
           },
           "baxis": {
            "gridcolor": "white",
            "linecolor": "white",
            "ticks": ""
           },
           "bgcolor": "#E5ECF6",
           "caxis": {
            "gridcolor": "white",
            "linecolor": "white",
            "ticks": ""
           }
          },
          "title": {
           "x": 0.05
          },
          "xaxis": {
           "automargin": true,
           "gridcolor": "white",
           "linecolor": "white",
           "ticks": "",
           "title": {
            "standoff": 15
           },
           "zerolinecolor": "white",
           "zerolinewidth": 2
          },
          "yaxis": {
           "automargin": true,
           "gridcolor": "white",
           "linecolor": "white",
           "ticks": "",
           "title": {
            "standoff": 15
           },
           "zerolinecolor": "white",
           "zerolinewidth": 2
          }
         }
        },
        "title": {
         "text": "Electricity Yearly Usage of each primaty facility "
        },
        "xaxis": {
         "anchor": "y",
         "autorange": true,
         "domain": [
          0,
          1
         ],
         "range": [
          -4559758.532054699,
          97582050.53205469
         ],
         "title": {
          "text": "value"
         },
         "type": "linear"
        },
        "yaxis": {
         "anchor": "x",
         "autorange": true,
         "domain": [
          0,
          1
         ],
         "range": [
          2013.4872611464968,
          2021.5127388535032
         ],
         "title": {
          "text": "Year"
         },
         "type": "linear"
        }
       }
      },
      "image/png": "[encoded data removed]",
      "text/html": [
       "<div>\n",
       "        \n",
       "        \n",
       "            <div id=\"7110c394-b0e4-4fbc-aba2-4728661c1c5f\" class=\"plotly-graph-div\" style=\"height:525px; width:100%;\"></div>\n",
       "            <script type=\"text/javascript\">\n",
       "                require([\"plotly\"], function(Plotly) {\n",
       "                    window.PLOTLYENV=window.PLOTLYENV || {};\n",
       "                    \n",
       "                if (document.getElementById(\"7110c394-b0e4-4fbc-aba2-4728661c1c5f\")) {\n",
       "                    Plotly.newPlot(\n",
       "                        '7110c394-b0e4-4fbc-aba2-4728661c1c5f',\n",
       "                        [{\"hovertemplate\": \"FacilityName=BEARSPAW WATER TREATMENT PLANT<br>value=%{x}<br>Year=%{y}<extra></extra>\", \"legendgroup\": \"BEARSPAW WATER TREATMENT PLANT\", \"marker\": {\"color\": \"#636efa\", \"symbol\": \"circle\"}, \"mode\": \"markers\", \"name\": \"BEARSPAW WATER TREATMENT PLANT\", \"orientation\": \"h\", \"showlegend\": true, \"type\": \"scatter\", \"x\": [27006979.0, 22896652.0, 34507602.0, 37570393.0, 34437203.0, 27503120.0, 34585362.0, 20122592.0], \"xaxis\": \"x\", \"y\": [2014, 2015, 2016, 2017, 2018, 2019, 2020, 2021], \"yaxis\": \"y\"}, {\"hovertemplate\": \"FacilityName=BONNYBROOK WASTEWATER TREATMENT PLANT<br>value=%{x}<br>Year=%{y}<extra></extra>\", \"legendgroup\": \"BONNYBROOK WASTEWATER TREATMENT PLANT\", \"marker\": {\"color\": \"#EF553B\", \"symbol\": \"circle\"}, \"mode\": \"markers\", \"name\": \"BONNYBROOK WASTEWATER TREATMENT PLANT\", \"orientation\": \"h\", \"showlegend\": true, \"type\": \"scatter\", \"x\": [25946479.0, 18470960.0, 18919634.0, 24187268.0, 30532643.0, 28814674.0, 26283641.0, 21374437.0], \"xaxis\": \"x\", \"y\": [2014, 2015, 2016, 2017, 2018, 2019, 2020, 2021], \"yaxis\": \"y\"}, {\"hovertemplate\": \"FacilityName=CALGARY STREET LIGHTING<br>value=%{x}<br>Year=%{y}<extra></extra>\", \"legendgroup\": \"CALGARY STREET LIGHTING\", \"marker\": {\"color\": \"#00cc96\", \"symbol\": \"circle\"}, \"mode\": \"markers\", \"name\": \"CALGARY STREET LIGHTING\", \"orientation\": \"h\", \"showlegend\": true, \"type\": \"scatter\", \"x\": [91870809.0, 90922781.0, 78855156.0, 54751112.0, 48574753.0, 45044868.0, 42802879.0, 25261505.0], \"xaxis\": \"x\", \"y\": [2014, 2015, 2016, 2017, 2018, 2019, 2020, 2021], \"yaxis\": \"y\"}, {\"hovertemplate\": \"FacilityName=FISH CREEK WASTEWATER TREATMENT PLANT<br>value=%{x}<br>Year=%{y}<extra></extra>\", \"legendgroup\": \"FISH CREEK WASTEWATER TREATMENT PLANT\", \"marker\": {\"color\": \"#ab63fa\", \"symbol\": \"circle\"}, \"mode\": \"markers\", \"name\": \"FISH CREEK WASTEWATER TREATMENT PLANT\", \"orientation\": \"h\", \"showlegend\": true, \"type\": \"scatter\", \"x\": [null, null, 12013694.0, 7911196.0, 12455848.0, 8647091.0, 13740451.0, 7626078.0], \"xaxis\": \"x\", \"y\": [2014, 2015, 2016, 2017, 2018, 2019, 2020, 2021], \"yaxis\": \"y\"}, {\"hovertemplate\": \"FacilityName=GLENMORE WATER TREATMENT PLANT - WB<br>value=%{x}<br>Year=%{y}<extra></extra>\", \"legendgroup\": \"GLENMORE WATER TREATMENT PLANT - WB\", \"marker\": {\"color\": \"#FFA15A\", \"symbol\": \"circle\"}, \"mode\": \"markers\", \"name\": \"GLENMORE WATER TREATMENT PLANT - WB\", \"orientation\": \"h\", \"showlegend\": true, \"type\": \"scatter\", \"x\": [20752623.0, 19647504.0, 18619313.0, 20468133.0, 19762821.0, 20062555.0, 18482865.0, 14085753.0], \"xaxis\": \"x\", \"y\": [2014, 2015, 2016, 2017, 2018, 2019, 2020, 2021], \"yaxis\": \"y\"}, {\"hovertemplate\": \"FacilityName=MUNICIPAL COMPLEX<br>value=%{x}<br>Year=%{y}<extra></extra>\", \"legendgroup\": \"MUNICIPAL COMPLEX\", \"marker\": {\"color\": \"#19d3f3\", \"symbol\": \"circle\"}, \"mode\": \"markers\", \"name\": \"MUNICIPAL COMPLEX\", \"orientation\": \"h\", \"showlegend\": true, \"type\": \"scatter\", \"x\": [1151483.0, null, null, null, null, null, null, null], \"xaxis\": \"x\", \"y\": [2014, 2015, 2016, 2017, 2018, 2019, 2020, 2021], \"yaxis\": \"y\"}, {\"hovertemplate\": \"FacilityName=PINE CREEK WASTEWATER TREATMENT PLANT<br>value=%{x}<br>Year=%{y}<extra></extra>\", \"legendgroup\": \"PINE CREEK WASTEWATER TREATMENT PLANT\", \"marker\": {\"color\": \"#FF6692\", \"symbol\": \"circle\"}, \"mode\": \"markers\", \"name\": \"PINE CREEK WASTEWATER TREATMENT PLANT\", \"orientation\": \"h\", \"showlegend\": true, \"type\": \"scatter\", \"x\": [21972952.0, 23077646.0, 21265638.0, 21626015.0, 21776522.0, 23153347.0, 23486956.0, 15192188.0], \"xaxis\": \"x\", \"y\": [2014, 2015, 2016, 2017, 2018, 2019, 2020, 2021], \"yaxis\": \"y\"}, {\"hovertemplate\": \"FacilityName=SH - BLDG W (COMPOST FACILITY)<br>value=%{x}<br>Year=%{y}<extra></extra>\", \"legendgroup\": \"SH - BLDG W (COMPOST FACILITY)\", \"marker\": {\"color\": \"#B6E880\", \"symbol\": \"circle\"}, \"mode\": \"markers\", \"name\": \"SH - BLDG W (COMPOST FACILITY)\", \"orientation\": \"h\", \"showlegend\": true, \"type\": \"scatter\", \"x\": [null, null, null, 3613911.0, 14359899.0, 10817489.0, null, 3148365.0], \"xaxis\": \"x\", \"y\": [2014, 2015, 2016, 2017, 2018, 2019, 2020, 2021], \"yaxis\": \"y\"}],\n",
       "                        {\"legend\": {\"title\": {\"text\": \"FacilityName\"}, \"tracegroupgap\": 0}, \"template\": {\"data\": {\"bar\": [{\"error_x\": {\"color\": \"#2a3f5f\"}, \"error_y\": {\"color\": \"#2a3f5f\"}, \"marker\": {\"line\": {\"color\": \"#E5ECF6\", \"width\": 0.5}}, \"type\": \"bar\"}], \"barpolar\": [{\"marker\": {\"line\": {\"color\": \"#E5ECF6\", \"width\": 0.5}}, \"type\": \"barpolar\"}], \"carpet\": [{\"aaxis\": {\"endlinecolor\": \"#2a3f5f\", \"gridcolor\": \"white\", \"linecolor\": \"white\", \"minorgridcolor\": \"white\", \"startlinecolor\": \"#2a3f5f\"}, \"baxis\": {\"endlinecolor\": \"#2a3f5f\", \"gridcolor\": \"white\", \"linecolor\": \"white\", \"minorgridcolor\": \"white\", \"startlinecolor\": \"#2a3f5f\"}, \"type\": \"carpet\"}], \"choropleth\": [{\"colorbar\": {\"outlinewidth\": 0, \"ticks\": \"\"}, \"type\": \"choropleth\"}], \"contour\": [{\"colorbar\": {\"outlinewidth\": 0, \"ticks\": \"\"}, \"colorscale\": [[0.0, \"#0d0887\"], [0.1111111111111111, \"#46039f\"], [0.2222222222222222, \"#7201a8\"], [0.3333333333333333, \"#9c179e\"], [0.4444444444444444, \"#bd3786\"], [0.5555555555555556, \"#d8576b\"], [0.6666666666666666, \"#ed7953\"], [0.7777777777777778, \"#fb9f3a\"], [0.8888888888888888, \"#fdca26\"], [1.0, \"#f0f921\"]], \"type\": \"contour\"}], \"contourcarpet\": [{\"colorbar\": {\"outlinewidth\": 0, \"ticks\": \"\"}, \"type\": \"contourcarpet\"}], \"heatmap\": [{\"colorbar\": {\"outlinewidth\": 0, \"ticks\": \"\"}, \"colorscale\": [[0.0, \"#0d0887\"], [0.1111111111111111, \"#46039f\"], [0.2222222222222222, \"#7201a8\"], [0.3333333333333333, \"#9c179e\"], [0.4444444444444444, \"#bd3786\"], [0.5555555555555556, \"#d8576b\"], [0.6666666666666666, \"#ed7953\"], [0.7777777777777778, \"#fb9f3a\"], [0.8888888888888888, \"#fdca26\"], [1.0, \"#f0f921\"]], \"type\": \"heatmap\"}], \"heatmapgl\": [{\"colorbar\": {\"outlinewidth\": 0, \"ticks\": \"\"}, \"colorscale\": [[0.0, \"#0d0887\"], [0.1111111111111111, \"#46039f\"], [0.2222222222222222, \"#7201a8\"], [0.3333333333333333, \"#9c179e\"], [0.4444444444444444, \"#bd3786\"], [0.5555555555555556, \"#d8576b\"], [0.6666666666666666, \"#ed7953\"], [0.7777777777777778, \"#fb9f3a\"], [0.8888888888888888, \"#fdca26\"], [1.0, \"#f0f921\"]], \"type\": \"heatmapgl\"}], \"histogram\": [{\"marker\": {\"colorbar\": {\"outlinewidth\": 0, \"ticks\": \"\"}}, \"type\": \"histogram\"}], \"histogram2d\": [{\"colorbar\": {\"outlinewidth\": 0, \"ticks\": \"\"}, \"colorscale\": [[0.0, \"#0d0887\"], [0.1111111111111111, \"#46039f\"], [0.2222222222222222, \"#7201a8\"], [0.3333333333333333, \"#9c179e\"], [0.4444444444444444, \"#bd3786\"], [0.5555555555555556, \"#d8576b\"], [0.6666666666666666, \"#ed7953\"], [0.7777777777777778, \"#fb9f3a\"], [0.8888888888888888, \"#fdca26\"], [1.0, \"#f0f921\"]], \"type\": \"histogram2d\"}], \"histogram2dcontour\": [{\"colorbar\": {\"outlinewidth\": 0, \"ticks\": \"\"}, \"colorscale\": [[0.0, \"#0d0887\"], [0.1111111111111111, \"#46039f\"], [0.2222222222222222, \"#7201a8\"], [0.3333333333333333, \"#9c179e\"], [0.4444444444444444, \"#bd3786\"], [0.5555555555555556, \"#d8576b\"], [0.6666666666666666, \"#ed7953\"], [0.7777777777777778, \"#fb9f3a\"], [0.8888888888888888, \"#fdca26\"], [1.0, \"#f0f921\"]], \"type\": \"histogram2dcontour\"}], \"mesh3d\": [{\"colorbar\": {\"outlinewidth\": 0, \"ticks\": \"\"}, \"type\": \"mesh3d\"}], \"parcoords\": [{\"line\": {\"colorbar\": {\"outlinewidth\": 0, \"ticks\": \"\"}}, \"type\": \"parcoords\"}], \"pie\": [{\"automargin\": true, \"type\": \"pie\"}], \"scatter\": [{\"marker\": {\"colorbar\": {\"outlinewidth\": 0, \"ticks\": \"\"}}, \"type\": \"scatter\"}], \"scatter3d\": [{\"line\": {\"colorbar\": {\"outlinewidth\": 0, \"ticks\": \"\"}}, \"marker\": {\"colorbar\": {\"outlinewidth\": 0, \"ticks\": \"\"}}, \"type\": \"scatter3d\"}], \"scattercarpet\": [{\"marker\": {\"colorbar\": {\"outlinewidth\": 0, \"ticks\": \"\"}}, \"type\": \"scattercarpet\"}], \"scattergeo\": [{\"marker\": {\"colorbar\": {\"outlinewidth\": 0, \"ticks\": \"\"}}, \"type\": \"scattergeo\"}], \"scattergl\": [{\"marker\": {\"colorbar\": {\"outlinewidth\": 0, \"ticks\": \"\"}}, \"type\": \"scattergl\"}], \"scattermapbox\": [{\"marker\": {\"colorbar\": {\"outlinewidth\": 0, \"ticks\": \"\"}}, \"type\": \"scattermapbox\"}], \"scatterpolar\": [{\"marker\": {\"colorbar\": {\"outlinewidth\": 0, \"ticks\": \"\"}}, \"type\": \"scatterpolar\"}], \"scatterpolargl\": [{\"marker\": {\"colorbar\": {\"outlinewidth\": 0, \"ticks\": \"\"}}, \"type\": \"scatterpolargl\"}], \"scatterternary\": [{\"marker\": {\"colorbar\": {\"outlinewidth\": 0, \"ticks\": \"\"}}, \"type\": \"scatterternary\"}], \"surface\": [{\"colorbar\": {\"outlinewidth\": 0, \"ticks\": \"\"}, \"colorscale\": [[0.0, \"#0d0887\"], [0.1111111111111111, \"#46039f\"], [0.2222222222222222, \"#7201a8\"], [0.3333333333333333, \"#9c179e\"], [0.4444444444444444, \"#bd3786\"], [0.5555555555555556, \"#d8576b\"], [0.6666666666666666, \"#ed7953\"], [0.7777777777777778, \"#fb9f3a\"], [0.8888888888888888, \"#fdca26\"], [1.0, \"#f0f921\"]], \"type\": \"surface\"}], \"table\": [{\"cells\": {\"fill\": {\"color\": \"#EBF0F8\"}, \"line\": {\"color\": \"white\"}}, \"header\": {\"fill\": {\"color\": \"#C8D4E3\"}, \"line\": {\"color\": \"white\"}}, \"type\": \"table\"}]}, \"layout\": {\"annotationdefaults\": {\"arrowcolor\": \"#2a3f5f\", \"arrowhead\": 0, \"arrowwidth\": 1}, \"coloraxis\": {\"colorbar\": {\"outlinewidth\": 0, \"ticks\": \"\"}}, \"colorscale\": {\"diverging\": [[0, \"#8e0152\"], [0.1, \"#c51b7d\"], [0.2, \"#de77ae\"], [0.3, \"#f1b6da\"], [0.4, \"#fde0ef\"], [0.5, \"#f7f7f7\"], [0.6, \"#e6f5d0\"], [0.7, \"#b8e186\"], [0.8, \"#7fbc41\"], [0.9, \"#4d9221\"], [1, \"#276419\"]], \"sequential\": [[0.0, \"#0d0887\"], [0.1111111111111111, \"#46039f\"], [0.2222222222222222, \"#7201a8\"], [0.3333333333333333, \"#9c179e\"], [0.4444444444444444, \"#bd3786\"], [0.5555555555555556, \"#d8576b\"], [0.6666666666666666, \"#ed7953\"], [0.7777777777777778, \"#fb9f3a\"], [0.8888888888888888, \"#fdca26\"], [1.0, \"#f0f921\"]], \"sequentialminus\": [[0.0, \"#0d0887\"], [0.1111111111111111, \"#46039f\"], [0.2222222222222222, \"#7201a8\"], [0.3333333333333333, \"#9c179e\"], [0.4444444444444444, \"#bd3786\"], [0.5555555555555556, \"#d8576b\"], [0.6666666666666666, \"#ed7953\"], [0.7777777777777778, \"#fb9f3a\"], [0.8888888888888888, \"#fdca26\"], [1.0, \"#f0f921\"]]}, \"colorway\": [\"#636efa\", \"#EF553B\", \"#00cc96\", \"#ab63fa\", \"#FFA15A\", \"#19d3f3\", \"#FF6692\", \"#B6E880\", \"#FF97FF\", \"#FECB52\"], \"font\": {\"color\": \"#2a3f5f\"}, \"geo\": {\"bgcolor\": \"white\", \"lakecolor\": \"white\", \"landcolor\": \"#E5ECF6\", \"showlakes\": true, \"showland\": true, \"subunitcolor\": \"white\"}, \"hoverlabel\": {\"align\": \"left\"}, \"hovermode\": \"closest\", \"mapbox\": {\"style\": \"light\"}, \"paper_bgcolor\": \"white\", \"plot_bgcolor\": \"#E5ECF6\", \"polar\": {\"angularaxis\": {\"gridcolor\": \"white\", \"linecolor\": \"white\", \"ticks\": \"\"}, \"bgcolor\": \"#E5ECF6\", \"radialaxis\": {\"gridcolor\": \"white\", \"linecolor\": \"white\", \"ticks\": \"\"}}, \"scene\": {\"xaxis\": {\"backgroundcolor\": \"#E5ECF6\", \"gridcolor\": \"white\", \"gridwidth\": 2, \"linecolor\": \"white\", \"showbackground\": true, \"ticks\": \"\", \"zerolinecolor\": \"white\"}, \"yaxis\": {\"backgroundcolor\": \"#E5ECF6\", \"gridcolor\": \"white\", \"gridwidth\": 2, \"linecolor\": \"white\", \"showbackground\": true, \"ticks\": \"\", \"zerolinecolor\": \"white\"}, \"zaxis\": {\"backgroundcolor\": \"#E5ECF6\", \"gridcolor\": \"white\", \"gridwidth\": 2, \"linecolor\": \"white\", \"showbackground\": true, \"ticks\": \"\", \"zerolinecolor\": \"white\"}}, \"shapedefaults\": {\"line\": {\"color\": \"#2a3f5f\"}}, \"ternary\": {\"aaxis\": {\"gridcolor\": \"white\", \"linecolor\": \"white\", \"ticks\": \"\"}, \"baxis\": {\"gridcolor\": \"white\", \"linecolor\": \"white\", \"ticks\": \"\"}, \"bgcolor\": \"#E5ECF6\", \"caxis\": {\"gridcolor\": \"white\", \"linecolor\": \"white\", \"ticks\": \"\"}}, \"title\": {\"x\": 0.05}, \"xaxis\": {\"automargin\": true, \"gridcolor\": \"white\", \"linecolor\": \"white\", \"ticks\": \"\", \"title\": {\"standoff\": 15}, \"zerolinecolor\": \"white\", \"zerolinewidth\": 2}, \"yaxis\": {\"automargin\": true, \"gridcolor\": \"white\", \"linecolor\": \"white\", \"ticks\": \"\", \"title\": {\"standoff\": 15}, \"zerolinecolor\": \"white\", \"zerolinewidth\": 2}}}, \"title\": {\"text\": \"Electricity Yearly Usage of each primaty facility \"}, \"xaxis\": {\"anchor\": \"y\", \"domain\": [0.0, 1.0], \"title\": {\"text\": \"value\"}}, \"yaxis\": {\"anchor\": \"x\", \"domain\": [0.0, 1.0], \"title\": {\"text\": \"Year\"}}},\n",
       "                        {\"responsive\": true}\n",
       "                    ).then(function(){\n",
       "                            \n",
       "var gd = document.getElementById('7110c394-b0e4-4fbc-aba2-4728661c1c5f');\n",
       "var x = new MutationObserver(function (mutations, observer) {{\n",
       "        var display = window.getComputedStyle(gd).display;\n",
       "        if (!display || display === 'none') {{\n",
       "            console.log([gd, 'removed!']);\n",
       "            Plotly.purge(gd);\n",
       "            observer.disconnect();\n",
       "        }}\n",
       "}});\n",
       "\n",
       "// Listen for the removal of the full notebook cells\n",
       "var notebookContainer = gd.closest('#notebook-container');\n",
       "if (notebookContainer) {{\n",
       "    x.observe(notebookContainer, {childList: true});\n",
       "}}\n",
       "\n",
       "// Listen for the clearing of the current output cell\n",
       "var outputEl = gd.closest('.output');\n",
       "if (outputEl) {{\n",
       "    x.observe(outputEl, {childList: true});\n",
       "}}\n",
       "\n",
       "                        })\n",
       "                };\n",
       "                });\n",
       "            </script>\n",
       "        </div>"
      ]
     },
     "metadata": {},
     "output_type": "display_data"
    }
   ],
   "source": [
    "df = pd.DataFrame(rdata,columns=[\"Business Unit Desc\",\"FacilityName\",\"Site ID\", \"FacilityAddress\",\"Energy Description\",\n",
    "                                 \"Year\",\"Month\",\"Total Consumption\",\"Unit\"])\n",
    "\n",
    "def func(df):\n",
    "    if(df['Unit'] == 'kWh'):\n",
    "        df['Total Consumption'] = pd.to_numeric(df['Total Consumption'])*0.0036\n",
    "        df['Unit'] = 'GJ'\n",
    "        return df\n",
    "    else:\n",
    "        return df\n",
    "    \n",
    "df1=pd.DataFrame.drop(rdata,[\"Business Unit Desc\",\"Site ID\",\"FacilityAddress\"], axis=1)\n",
    "df1 = df1.loc[df1['Energy Description'] == 'Electricity']\n",
    "df1=df1.loc[df1['Total Consumption'] > 1000000]\n",
    "df1=df1.loc[df1['Year'].between(2014,2021)]\n",
    "df1.name = \"Electricity Yearly Usage of each facility \"\n",
    "df1=df1.groupby(['FacilityName','Year'])['Total Consumption'].sum().unstack(level=1)\n",
    "display(df1)\n",
    "\n",
    "fig = plt.figure()\n",
    "df1.plot(kind='bar', colormap='tab20b', grid=True, title = 'Electricity Yearly Usage of each primary facility ')\n",
    "fig.set_size_inches(3600,3600)\n",
    "plt.show()\n",
    "\n",
    "\n",
    "df1=pd.DataFrame.drop(rdata,[\"Business Unit Desc\",\"Site ID\",\"FacilityAddress\"], axis=1)\n",
    "df1 = df1.loc[df1['Energy Description'] == 'Electricity']\n",
    "df1=df1.loc[df1['Total Consumption'] > 1000000]\n",
    "df1=df1.loc[df1['Year'].between(2014,2021)]\n",
    "df1.name = \"Electricity Usage of each Year \"\n",
    "df1=df1.groupby(['FacilityName','Year'])['Total Consumption'].sum().unstack(level=0)\n",
    "fig = px.violin(df1, y=df1.columns, box=True, title = 'Electricity Yearly Usage of each primary facility')\n",
    "fig.show()\n",
    "\n",
    "\n",
    "fig = px.scatter(df1, x=df1.columns, title = 'Electricity Yearly Usage of each primary facility ')\n",
    "fig.show()"
   ]
  },
  {
   "cell_type": "code",
   "execution_count": 11,
   "metadata": {},
   "outputs": [
    {
     "ename": "SyntaxError",
     "evalue": "invalid syntax (<ipython-input-11-017062341a4a>, line 1)",
     "output_type": "error",
     "traceback": [
      "\u001b[0;36m  File \u001b[0;32m\"<ipython-input-11-017062341a4a>\"\u001b[0;36m, line \u001b[0;32m1\u001b[0m\n\u001b[0;31m    From the data shows that all of the primary facilities in Calgary have decreased use the electricity from 2014 to 2021.\u001b[0m\n\u001b[0m         ^\u001b[0m\n\u001b[0;31mSyntaxError\u001b[0m\u001b[0;31m:\u001b[0m invalid syntax\n"
     ]
    }
   ],
   "source": [
    "From the data shows that all of the primary facilities in Calgary have decreased use the electricity from 2014 to 2021. \n",
    "BEARSPAW WATER TREATMENT PLANT and  INE CREEK WASTEWATER TREATMENT PLANT were increased the using the electricity from 2015 to 2016 but they were cut down the usage of electricity after 2016.\n",
    "Base on the violin plot, we realized that the most usage electricity facility is the Calgary Street Lighting and lowest is MUNICIPAL COMPLEX.\n"
   ]
  },
  {
   "cell_type": "code",
   "execution_count": null,
   "metadata": {},
   "outputs": [],
   "source": [
    "Natural Gas Yearly Usage of each primary facility"
   ]
  },
  {
   "cell_type": "code",
   "execution_count": 27,
   "metadata": {},
   "outputs": [
    {
     "data": {
      "text/html": [
       "<div>\n",
       "<style scoped>\n",
       "    .dataframe tbody tr th:only-of-type {\n",
       "        vertical-align: middle;\n",
       "    }\n",
       "\n",
       "    .dataframe tbody tr th {\n",
       "        vertical-align: top;\n",
       "    }\n",
       "\n",
       "    .dataframe thead th {\n",
       "        text-align: right;\n",
       "    }\n",
       "</style>\n",
       "<table border=\"1\" class=\"dataframe\">\n",
       "  <thead>\n",
       "    <tr style=\"text-align: right;\">\n",
       "      <th>Year</th>\n",
       "      <th>2014</th>\n",
       "      <th>2015</th>\n",
       "      <th>2016</th>\n",
       "      <th>2017</th>\n",
       "      <th>2018</th>\n",
       "      <th>2019</th>\n",
       "      <th>2020</th>\n",
       "      <th>2021</th>\n",
       "    </tr>\n",
       "    <tr>\n",
       "      <th>FacilityName</th>\n",
       "      <th></th>\n",
       "      <th></th>\n",
       "      <th></th>\n",
       "      <th></th>\n",
       "      <th></th>\n",
       "      <th></th>\n",
       "      <th></th>\n",
       "      <th></th>\n",
       "    </tr>\n",
       "  </thead>\n",
       "  <tbody>\n",
       "    <tr>\n",
       "      <th>BONNYBROOK WASTEWATER TREATMENT PLANT</th>\n",
       "      <td>330634.0</td>\n",
       "      <td>330946.0</td>\n",
       "      <td>301646.0</td>\n",
       "      <td>222472.0</td>\n",
       "      <td>297477.0</td>\n",
       "      <td>239497.0</td>\n",
       "      <td>324569.0</td>\n",
       "      <td>230045.0</td>\n",
       "    </tr>\n",
       "    <tr>\n",
       "      <th>BUS MAINTENANCE GARAGE - ANDERSON GARAGE</th>\n",
       "      <td>60583.0</td>\n",
       "      <td>36873.0</td>\n",
       "      <td>28061.0</td>\n",
       "      <td>60976.0</td>\n",
       "      <td>65357.0</td>\n",
       "      <td>65526.0</td>\n",
       "      <td>37648.0</td>\n",
       "      <td>13376.0</td>\n",
       "    </tr>\n",
       "    <tr>\n",
       "      <th>BUS MAINTENANCE GARAGE - SPRING GARDENS</th>\n",
       "      <td>84489.0</td>\n",
       "      <td>74310.0</td>\n",
       "      <td>90538.0</td>\n",
       "      <td>115916.0</td>\n",
       "      <td>107267.0</td>\n",
       "      <td>97391.0</td>\n",
       "      <td>89211.0</td>\n",
       "      <td>44413.0</td>\n",
       "    </tr>\n",
       "    <tr>\n",
       "      <th>BUS MAINTENANCE GARAGE - VICTORIA PARK</th>\n",
       "      <td>35680.0</td>\n",
       "      <td>46058.0</td>\n",
       "      <td>23843.0</td>\n",
       "      <td>23466.0</td>\n",
       "      <td>34771.0</td>\n",
       "      <td>33255.0</td>\n",
       "      <td>21858.0</td>\n",
       "      <td>11263.0</td>\n",
       "    </tr>\n",
       "    <tr>\n",
       "      <th>MANCHESTER ASPHALT PLANT</th>\n",
       "      <td>NaN</td>\n",
       "      <td>10875.0</td>\n",
       "      <td>21257.0</td>\n",
       "      <td>NaN</td>\n",
       "      <td>NaN</td>\n",
       "      <td>NaN</td>\n",
       "      <td>NaN</td>\n",
       "      <td>NaN</td>\n",
       "    </tr>\n",
       "    <tr>\n",
       "      <th>OLIVER BOWEN MAINTENANCE FACILITY</th>\n",
       "      <td>14030.0</td>\n",
       "      <td>NaN</td>\n",
       "      <td>10468.0</td>\n",
       "      <td>NaN</td>\n",
       "      <td>12024.0</td>\n",
       "      <td>12755.0</td>\n",
       "      <td>NaN</td>\n",
       "      <td>NaN</td>\n",
       "    </tr>\n",
       "    <tr>\n",
       "      <th>STONEY TRANSIT FACILITY</th>\n",
       "      <td>NaN</td>\n",
       "      <td>NaN</td>\n",
       "      <td>NaN</td>\n",
       "      <td>NaN</td>\n",
       "      <td>NaN</td>\n",
       "      <td>11107.0</td>\n",
       "      <td>90547.0</td>\n",
       "      <td>63122.0</td>\n",
       "    </tr>\n",
       "    <tr>\n",
       "      <th>VILLAGE SQUARE LEISURE CENTRE</th>\n",
       "      <td>NaN</td>\n",
       "      <td>NaN</td>\n",
       "      <td>10017.0</td>\n",
       "      <td>10098.0</td>\n",
       "      <td>43570.0</td>\n",
       "      <td>30835.0</td>\n",
       "      <td>11377.0</td>\n",
       "      <td>NaN</td>\n",
       "    </tr>\n",
       "  </tbody>\n",
       "</table>\n",
       "</div>"
      ],
      "text/plain": [
       "Year                                          2014      2015      2016  \\\n",
       "FacilityName                                                             \n",
       "BONNYBROOK WASTEWATER TREATMENT PLANT     330634.0  330946.0  301646.0   \n",
       "BUS MAINTENANCE GARAGE - ANDERSON GARAGE   60583.0   36873.0   28061.0   \n",
       "BUS MAINTENANCE GARAGE - SPRING GARDENS    84489.0   74310.0   90538.0   \n",
       "BUS MAINTENANCE GARAGE - VICTORIA PARK     35680.0   46058.0   23843.0   \n",
       "MANCHESTER ASPHALT PLANT                       NaN   10875.0   21257.0   \n",
       "OLIVER BOWEN MAINTENANCE FACILITY          14030.0       NaN   10468.0   \n",
       "STONEY TRANSIT FACILITY                        NaN       NaN       NaN   \n",
       "VILLAGE SQUARE LEISURE CENTRE                  NaN       NaN   10017.0   \n",
       "\n",
       "Year                                          2017      2018      2019  \\\n",
       "FacilityName                                                             \n",
       "BONNYBROOK WASTEWATER TREATMENT PLANT     222472.0  297477.0  239497.0   \n",
       "BUS MAINTENANCE GARAGE - ANDERSON GARAGE   60976.0   65357.0   65526.0   \n",
       "BUS MAINTENANCE GARAGE - SPRING GARDENS   115916.0  107267.0   97391.0   \n",
       "BUS MAINTENANCE GARAGE - VICTORIA PARK     23466.0   34771.0   33255.0   \n",
       "MANCHESTER ASPHALT PLANT                       NaN       NaN       NaN   \n",
       "OLIVER BOWEN MAINTENANCE FACILITY              NaN   12024.0   12755.0   \n",
       "STONEY TRANSIT FACILITY                        NaN       NaN   11107.0   \n",
       "VILLAGE SQUARE LEISURE CENTRE              10098.0   43570.0   30835.0   \n",
       "\n",
       "Year                                          2020      2021  \n",
       "FacilityName                                                  \n",
       "BONNYBROOK WASTEWATER TREATMENT PLANT     324569.0  230045.0  \n",
       "BUS MAINTENANCE GARAGE - ANDERSON GARAGE   37648.0   13376.0  \n",
       "BUS MAINTENANCE GARAGE - SPRING GARDENS    89211.0   44413.0  \n",
       "BUS MAINTENANCE GARAGE - VICTORIA PARK     21858.0   11263.0  \n",
       "MANCHESTER ASPHALT PLANT                       NaN       NaN  \n",
       "OLIVER BOWEN MAINTENANCE FACILITY              NaN       NaN  \n",
       "STONEY TRANSIT FACILITY                    90547.0   63122.0  \n",
       "VILLAGE SQUARE LEISURE CENTRE              11377.0       NaN  "
      ]
     },
     "metadata": {},
     "output_type": "display_data"
    },
    {
     "data": {
      "text/plain": [
       "<Figure size 259200x259200 with 0 Axes>"
      ]
     },
     "metadata": {},
     "output_type": "display_data"
    },
    {
     "data": {
      "image/png": "[encoded data removed]",
      "text/plain": [
       "<Figure size 432x288 with 1 Axes>"
      ]
     },
     "metadata": {
      "needs_background": "light"
     },
     "output_type": "display_data"
    },
    {
     "data": {
      "application/vnd.plotly.v1+json": {
       "config": {
        "plotlyServerURL": "https://plot.ly"
       },
       "data": [
        {
         "alignmentgroup": "True",
         "box": {
          "visible": false
         },
         "hovertemplate": "FacilityName=%{x}<br>value=%{y}<extra></extra>",
         "legendgroup": "",
         "marker": {
          "color": "#636efa"
         },
         "name": "",
         "offsetgroup": "",
         "orientation": "v",
         "scalegroup": "True",
         "showlegend": false,
         "type": "violin",
         "x": [
          "BONNYBROOK WASTEWATER TREATMENT PLANT",
          "BONNYBROOK WASTEWATER TREATMENT PLANT",
          "BONNYBROOK WASTEWATER TREATMENT PLANT",
          "BONNYBROOK WASTEWATER TREATMENT PLANT",
          "BONNYBROOK WASTEWATER TREATMENT PLANT",
          "BONNYBROOK WASTEWATER TREATMENT PLANT",
          "BONNYBROOK WASTEWATER TREATMENT PLANT",
          "BONNYBROOK WASTEWATER TREATMENT PLANT",
          "BUS MAINTENANCE GARAGE - ANDERSON GARAGE",
          "BUS MAINTENANCE GARAGE - ANDERSON GARAGE",
          "BUS MAINTENANCE GARAGE - ANDERSON GARAGE",
          "BUS MAINTENANCE GARAGE - ANDERSON GARAGE",
          "BUS MAINTENANCE GARAGE - ANDERSON GARAGE",
          "BUS MAINTENANCE GARAGE - ANDERSON GARAGE",
          "BUS MAINTENANCE GARAGE - ANDERSON GARAGE",
          "BUS MAINTENANCE GARAGE - ANDERSON GARAGE",
          "BUS MAINTENANCE GARAGE - SPRING GARDENS",
          "BUS MAINTENANCE GARAGE - SPRING GARDENS",
          "BUS MAINTENANCE GARAGE - SPRING GARDENS",
          "BUS MAINTENANCE GARAGE - SPRING GARDENS",
          "BUS MAINTENANCE GARAGE - SPRING GARDENS",
          "BUS MAINTENANCE GARAGE - SPRING GARDENS",
          "BUS MAINTENANCE GARAGE - SPRING GARDENS",
          "BUS MAINTENANCE GARAGE - SPRING GARDENS",
          "BUS MAINTENANCE GARAGE - VICTORIA PARK",
          "BUS MAINTENANCE GARAGE - VICTORIA PARK",
          "BUS MAINTENANCE GARAGE - VICTORIA PARK",
          "BUS MAINTENANCE GARAGE - VICTORIA PARK",
          "BUS MAINTENANCE GARAGE - VICTORIA PARK",
          "BUS MAINTENANCE GARAGE - VICTORIA PARK",
          "BUS MAINTENANCE GARAGE - VICTORIA PARK",
          "BUS MAINTENANCE GARAGE - VICTORIA PARK",
          "MANCHESTER ASPHALT PLANT",
          "MANCHESTER ASPHALT PLANT",
          "MANCHESTER ASPHALT PLANT",
          "MANCHESTER ASPHALT PLANT",
          "MANCHESTER ASPHALT PLANT",
          "MANCHESTER ASPHALT PLANT",
          "MANCHESTER ASPHALT PLANT",
          "MANCHESTER ASPHALT PLANT",
          "OLIVER BOWEN MAINTENANCE FACILITY",
          "OLIVER BOWEN MAINTENANCE FACILITY",
          "OLIVER BOWEN MAINTENANCE FACILITY",
          "OLIVER BOWEN MAINTENANCE FACILITY",
          "OLIVER BOWEN MAINTENANCE FACILITY",
          "OLIVER BOWEN MAINTENANCE FACILITY",
          "OLIVER BOWEN MAINTENANCE FACILITY",
          "OLIVER BOWEN MAINTENANCE FACILITY",
          "STONEY TRANSIT FACILITY",
          "STONEY TRANSIT FACILITY",
          "STONEY TRANSIT FACILITY",
          "STONEY TRANSIT FACILITY",
          "STONEY TRANSIT FACILITY",
          "STONEY TRANSIT FACILITY",
          "STONEY TRANSIT FACILITY",
          "STONEY TRANSIT FACILITY",
          "VILLAGE SQUARE LEISURE CENTRE",
          "VILLAGE SQUARE LEISURE CENTRE",
          "VILLAGE SQUARE LEISURE CENTRE",
          "VILLAGE SQUARE LEISURE CENTRE",
          "VILLAGE SQUARE LEISURE CENTRE",
          "VILLAGE SQUARE LEISURE CENTRE",
          "VILLAGE SQUARE LEISURE CENTRE",
          "VILLAGE SQUARE LEISURE CENTRE"
         ],
         "x0": " ",
         "xaxis": "x",
         "y": [
          330634,
          330946,
          301646,
          222472,
          297477,
          239497,
          324569,
          230045,
          60583,
          36873,
          28061,
          60976,
          65357,
          65526,
          37648,
          13376,
          84489,
          74310,
          90538,
          115916,
          107267,
          97391,
          89211,
          44413,
          35680,
          46058,
          23843,
          23466,
          34771,
          33255,
          21858,
          11263,
          null,
          10875,
          21257,
          null,
          null,
          null,
          null,
          null,
          14030,
          null,
          10468,
          null,
          12024,
          12755,
          null,
          null,
          null,
          null,
          null,
          null,
          null,
          11107,
          90547,
          63122,
          null,
          null,
          10017,
          10098,
          43570,
          30835,
          11377,
          null
         ],
         "y0": " ",
         "yaxis": "y"
        }
       ],
       "layout": {
        "autosize": true,
        "legend": {
         "tracegroupgap": 0
        },
        "template": {
         "data": {
          "bar": [
           {
            "error_x": {
             "color": "#2a3f5f"
            },
            "error_y": {
             "color": "#2a3f5f"
            },
            "marker": {
             "line": {
              "color": "#E5ECF6",
              "width": 0.5
             }
            },
            "type": "bar"
           }
          ],
          "barpolar": [
           {
            "marker": {
             "line": {
              "color": "#E5ECF6",
              "width": 0.5
             }
            },
            "type": "barpolar"
           }
          ],
          "carpet": [
           {
            "aaxis": {
             "endlinecolor": "#2a3f5f",
             "gridcolor": "white",
             "linecolor": "white",
             "minorgridcolor": "white",
             "startlinecolor": "#2a3f5f"
            },
            "baxis": {
             "endlinecolor": "#2a3f5f",
             "gridcolor": "white",
             "linecolor": "white",
             "minorgridcolor": "white",
             "startlinecolor": "#2a3f5f"
            },
            "type": "carpet"
           }
          ],
          "choropleth": [
           {
            "colorbar": {
             "outlinewidth": 0,
             "ticks": ""
            },
            "type": "choropleth"
           }
          ],
          "contour": [
           {
            "colorbar": {
             "outlinewidth": 0,
             "ticks": ""
            },
            "colorscale": [
             [
              0,
              "#0d0887"
             ],
             [
              0.1111111111111111,
              "#46039f"
             ],
             [
              0.2222222222222222,
              "#7201a8"
             ],
             [
              0.3333333333333333,
              "#9c179e"
             ],
             [
              0.4444444444444444,
              "#bd3786"
             ],
             [
              0.5555555555555556,
              "#d8576b"
             ],
             [
              0.6666666666666666,
              "#ed7953"
             ],
             [
              0.7777777777777778,
              "#fb9f3a"
             ],
             [
              0.8888888888888888,
              "#fdca26"
             ],
             [
              1,
              "#f0f921"
             ]
            ],
            "type": "contour"
           }
          ],
          "contourcarpet": [
           {
            "colorbar": {
             "outlinewidth": 0,
             "ticks": ""
            },
            "type": "contourcarpet"
           }
          ],
          "heatmap": [
           {
            "colorbar": {
             "outlinewidth": 0,
             "ticks": ""
            },
            "colorscale": [
             [
              0,
              "#0d0887"
             ],
             [
              0.1111111111111111,
              "#46039f"
             ],
             [
              0.2222222222222222,
              "#7201a8"
             ],
             [
              0.3333333333333333,
              "#9c179e"
             ],
             [
              0.4444444444444444,
              "#bd3786"
             ],
             [
              0.5555555555555556,
              "#d8576b"
             ],
             [
              0.6666666666666666,
              "#ed7953"
             ],
             [
              0.7777777777777778,
              "#fb9f3a"
             ],
             [
              0.8888888888888888,
              "#fdca26"
             ],
             [
              1,
              "#f0f921"
             ]
            ],
            "type": "heatmap"
           }
          ],
          "heatmapgl": [
           {
            "colorbar": {
             "outlinewidth": 0,
             "ticks": ""
            },
            "colorscale": [
             [
              0,
              "#0d0887"
             ],
             [
              0.1111111111111111,
              "#46039f"
             ],
             [
              0.2222222222222222,
              "#7201a8"
             ],
             [
              0.3333333333333333,
              "#9c179e"
             ],
             [
              0.4444444444444444,
              "#bd3786"
             ],
             [
              0.5555555555555556,
              "#d8576b"
             ],
             [
              0.6666666666666666,
              "#ed7953"
             ],
             [
              0.7777777777777778,
              "#fb9f3a"
             ],
             [
              0.8888888888888888,
              "#fdca26"
             ],
             [
              1,
              "#f0f921"
             ]
            ],
            "type": "heatmapgl"
           }
          ],
          "histogram": [
           {
            "marker": {
             "colorbar": {
              "outlinewidth": 0,
              "ticks": ""
             }
            },
            "type": "histogram"
           }
          ],
          "histogram2d": [
           {
            "colorbar": {
             "outlinewidth": 0,
             "ticks": ""
            },
            "colorscale": [
             [
              0,
              "#0d0887"
             ],
             [
              0.1111111111111111,
              "#46039f"
             ],
             [
              0.2222222222222222,
              "#7201a8"
             ],
             [
              0.3333333333333333,
              "#9c179e"
             ],
             [
              0.4444444444444444,
              "#bd3786"
             ],
             [
              0.5555555555555556,
              "#d8576b"
             ],
             [
              0.6666666666666666,
              "#ed7953"
             ],
             [
              0.7777777777777778,
              "#fb9f3a"
             ],
             [
              0.8888888888888888,
              "#fdca26"
             ],
             [
              1,
              "#f0f921"
             ]
            ],
            "type": "histogram2d"
           }
          ],
          "histogram2dcontour": [
           {
            "colorbar": {
             "outlinewidth": 0,
             "ticks": ""
            },
            "colorscale": [
             [
              0,
              "#0d0887"
             ],
             [
              0.1111111111111111,
              "#46039f"
             ],
             [
              0.2222222222222222,
              "#7201a8"
             ],
             [
              0.3333333333333333,
              "#9c179e"
             ],
             [
              0.4444444444444444,
              "#bd3786"
             ],
             [
              0.5555555555555556,
              "#d8576b"
             ],
             [
              0.6666666666666666,
              "#ed7953"
             ],
             [
              0.7777777777777778,
              "#fb9f3a"
             ],
             [
              0.8888888888888888,
              "#fdca26"
             ],
             [
              1,
              "#f0f921"
             ]
            ],
            "type": "histogram2dcontour"
           }
          ],
          "mesh3d": [
           {
            "colorbar": {
             "outlinewidth": 0,
             "ticks": ""
            },
            "type": "mesh3d"
           }
          ],
          "parcoords": [
           {
            "line": {
             "colorbar": {
              "outlinewidth": 0,
              "ticks": ""
             }
            },
            "type": "parcoords"
           }
          ],
          "pie": [
           {
            "automargin": true,
            "type": "pie"
           }
          ],
          "scatter": [
           {
            "marker": {
             "colorbar": {
              "outlinewidth": 0,
              "ticks": ""
             }
            },
            "type": "scatter"
           }
          ],
          "scatter3d": [
           {
            "line": {
             "colorbar": {
              "outlinewidth": 0,
              "ticks": ""
             }
            },
            "marker": {
             "colorbar": {
              "outlinewidth": 0,
              "ticks": ""
             }
            },
            "type": "scatter3d"
           }
          ],
          "scattercarpet": [
           {
            "marker": {
             "colorbar": {
              "outlinewidth": 0,
              "ticks": ""
             }
            },
            "type": "scattercarpet"
           }
          ],
          "scattergeo": [
           {
            "marker": {
             "colorbar": {
              "outlinewidth": 0,
              "ticks": ""
             }
            },
            "type": "scattergeo"
           }
          ],
          "scattergl": [
           {
            "marker": {
             "colorbar": {
              "outlinewidth": 0,
              "ticks": ""
             }
            },
            "type": "scattergl"
           }
          ],
          "scattermapbox": [
           {
            "marker": {
             "colorbar": {
              "outlinewidth": 0,
              "ticks": ""
             }
            },
            "type": "scattermapbox"
           }
          ],
          "scatterpolar": [
           {
            "marker": {
             "colorbar": {
              "outlinewidth": 0,
              "ticks": ""
             }
            },
            "type": "scatterpolar"
           }
          ],
          "scatterpolargl": [
           {
            "marker": {
             "colorbar": {
              "outlinewidth": 0,
              "ticks": ""
             }
            },
            "type": "scatterpolargl"
           }
          ],
          "scatterternary": [
           {
            "marker": {
             "colorbar": {
              "outlinewidth": 0,
              "ticks": ""
             }
            },
            "type": "scatterternary"
           }
          ],
          "surface": [
           {
            "colorbar": {
             "outlinewidth": 0,
             "ticks": ""
            },
            "colorscale": [
             [
              0,
              "#0d0887"
             ],
             [
              0.1111111111111111,
              "#46039f"
             ],
             [
              0.2222222222222222,
              "#7201a8"
             ],
             [
              0.3333333333333333,
              "#9c179e"
             ],
             [
              0.4444444444444444,
              "#bd3786"
             ],
             [
              0.5555555555555556,
              "#d8576b"
             ],
             [
              0.6666666666666666,
              "#ed7953"
             ],
             [
              0.7777777777777778,
              "#fb9f3a"
             ],
             [
              0.8888888888888888,
              "#fdca26"
             ],
             [
              1,
              "#f0f921"
             ]
            ],
            "type": "surface"
           }
          ],
          "table": [
           {
            "cells": {
             "fill": {
              "color": "#EBF0F8"
             },
             "line": {
              "color": "white"
             }
            },
            "header": {
             "fill": {
              "color": "#C8D4E3"
             },
             "line": {
              "color": "white"
             }
            },
            "type": "table"
           }
          ]
         },
         "layout": {
          "annotationdefaults": {
           "arrowcolor": "#2a3f5f",
           "arrowhead": 0,
           "arrowwidth": 1
          },
          "coloraxis": {
           "colorbar": {
            "outlinewidth": 0,
            "ticks": ""
           }
          },
          "colorscale": {
           "diverging": [
            [
             0,
             "#8e0152"
            ],
            [
             0.1,
             "#c51b7d"
            ],
            [
             0.2,
             "#de77ae"
            ],
            [
             0.3,
             "#f1b6da"
            ],
            [
             0.4,
             "#fde0ef"
            ],
            [
             0.5,
             "#f7f7f7"
            ],
            [
             0.6,
             "#e6f5d0"
            ],
            [
             0.7,
             "#b8e186"
            ],
            [
             0.8,
             "#7fbc41"
            ],
            [
             0.9,
             "#4d9221"
            ],
            [
             1,
             "#276419"
            ]
           ],
           "sequential": [
            [
             0,
             "#0d0887"
            ],
            [
             0.1111111111111111,
             "#46039f"
            ],
            [
             0.2222222222222222,
             "#7201a8"
            ],
            [
             0.3333333333333333,
             "#9c179e"
            ],
            [
             0.4444444444444444,
             "#bd3786"
            ],
            [
             0.5555555555555556,
             "#d8576b"
            ],
            [
             0.6666666666666666,
             "#ed7953"
            ],
            [
             0.7777777777777778,
             "#fb9f3a"
            ],
            [
             0.8888888888888888,
             "#fdca26"
            ],
            [
             1,
             "#f0f921"
            ]
           ],
           "sequentialminus": [
            [
             0,
             "#0d0887"
            ],
            [
             0.1111111111111111,
             "#46039f"
            ],
            [
             0.2222222222222222,
             "#7201a8"
            ],
            [
             0.3333333333333333,
             "#9c179e"
            ],
            [
             0.4444444444444444,
             "#bd3786"
            ],
            [
             0.5555555555555556,
             "#d8576b"
            ],
            [
             0.6666666666666666,
             "#ed7953"
            ],
            [
             0.7777777777777778,
             "#fb9f3a"
            ],
            [
             0.8888888888888888,
             "#fdca26"
            ],
            [
             1,
             "#f0f921"
            ]
           ]
          },
          "colorway": [
           "#636efa",
           "#EF553B",
           "#00cc96",
           "#ab63fa",
           "#FFA15A",
           "#19d3f3",
           "#FF6692",
           "#B6E880",
           "#FF97FF",
           "#FECB52"
          ],
          "font": {
           "color": "#2a3f5f"
          },
          "geo": {
           "bgcolor": "white",
           "lakecolor": "white",
           "landcolor": "#E5ECF6",
           "showlakes": true,
           "showland": true,
           "subunitcolor": "white"
          },
          "hoverlabel": {
           "align": "left"
          },
          "hovermode": "closest",
          "mapbox": {
           "style": "light"
          },
          "paper_bgcolor": "white",
          "plot_bgcolor": "#E5ECF6",
          "polar": {
           "angularaxis": {
            "gridcolor": "white",
            "linecolor": "white",
            "ticks": ""
           },
           "bgcolor": "#E5ECF6",
           "radialaxis": {
            "gridcolor": "white",
            "linecolor": "white",
            "ticks": ""
           }
          },
          "scene": {
           "xaxis": {
            "backgroundcolor": "#E5ECF6",
            "gridcolor": "white",
            "gridwidth": 2,
            "linecolor": "white",
            "showbackground": true,
            "ticks": "",
            "zerolinecolor": "white"
           },
           "yaxis": {
            "backgroundcolor": "#E5ECF6",
            "gridcolor": "white",
            "gridwidth": 2,
            "linecolor": "white",
            "showbackground": true,
            "ticks": "",
            "zerolinecolor": "white"
           },
           "zaxis": {
            "backgroundcolor": "#E5ECF6",
            "gridcolor": "white",
            "gridwidth": 2,
            "linecolor": "white",
            "showbackground": true,
            "ticks": "",
            "zerolinecolor": "white"
           }
          },
          "shapedefaults": {
           "line": {
            "color": "#2a3f5f"
           }
          },
          "ternary": {
           "aaxis": {
            "gridcolor": "white",
            "linecolor": "white",
            "ticks": ""
           },
           "baxis": {
            "gridcolor": "white",
            "linecolor": "white",
            "ticks": ""
           },
           "bgcolor": "#E5ECF6",
           "caxis": {
            "gridcolor": "white",
            "linecolor": "white",
            "ticks": ""
           }
          },
          "title": {
           "x": 0.05
          },
          "xaxis": {
           "automargin": true,
           "gridcolor": "white",
           "linecolor": "white",
           "ticks": "",
           "title": {
            "standoff": 15
           },
           "zerolinecolor": "white",
           "zerolinewidth": 2
          },
          "yaxis": {
           "automargin": true,
           "gridcolor": "white",
           "linecolor": "white",
           "ticks": "",
           "title": {
            "standoff": 15
           },
           "zerolinecolor": "white",
           "zerolinewidth": 2
          }
         }
        },
        "title": {
         "text": "Natual Gas Yearly Usage of each primary facility "
        },
        "violinmode": "group",
        "xaxis": {
         "anchor": "y",
         "autorange": true,
         "domain": [
          0,
          1
         ],
         "range": [
          -0.5,
          7.5
         ],
         "title": {
          "text": "FacilityName"
         },
         "type": "category"
        },
        "yaxis": {
         "anchor": "x",
         "autorange": true,
         "domain": [
          0,
          1
         ],
         "range": [
          -82691.71272829334,
          421239.0070772201
         ],
         "title": {
          "text": "value"
         },
         "type": "linear"
        }
       }
      },
      "image/png": "[encoded data removed]",
      "text/html": [
       "<div>\n",
       "        \n",
       "        \n",
       "            <div id=\"ccf6b4ee-8d0f-4309-b24b-6dc81db0e8e5\" class=\"plotly-graph-div\" style=\"height:525px; width:100%;\"></div>\n",
       "            <script type=\"text/javascript\">\n",
       "                require([\"plotly\"], function(Plotly) {\n",
       "                    window.PLOTLYENV=window.PLOTLYENV || {};\n",
       "                    \n",
       "                if (document.getElementById(\"ccf6b4ee-8d0f-4309-b24b-6dc81db0e8e5\")) {\n",
       "                    Plotly.newPlot(\n",
       "                        'ccf6b4ee-8d0f-4309-b24b-6dc81db0e8e5',\n",
       "                        [{\"alignmentgroup\": \"True\", \"box\": {\"visible\": false}, \"hovertemplate\": \"FacilityName=%{x}<br>value=%{y}<extra></extra>\", \"legendgroup\": \"\", \"marker\": {\"color\": \"#636efa\"}, \"name\": \"\", \"offsetgroup\": \"\", \"orientation\": \"v\", \"scalegroup\": \"True\", \"showlegend\": false, \"type\": \"violin\", \"x\": [\"BONNYBROOK WASTEWATER TREATMENT PLANT\", \"BONNYBROOK WASTEWATER TREATMENT PLANT\", \"BONNYBROOK WASTEWATER TREATMENT PLANT\", \"BONNYBROOK WASTEWATER TREATMENT PLANT\", \"BONNYBROOK WASTEWATER TREATMENT PLANT\", \"BONNYBROOK WASTEWATER TREATMENT PLANT\", \"BONNYBROOK WASTEWATER TREATMENT PLANT\", \"BONNYBROOK WASTEWATER TREATMENT PLANT\", \"BUS MAINTENANCE GARAGE - ANDERSON GARAGE\", \"BUS MAINTENANCE GARAGE - ANDERSON GARAGE\", \"BUS MAINTENANCE GARAGE - ANDERSON GARAGE\", \"BUS MAINTENANCE GARAGE - ANDERSON GARAGE\", \"BUS MAINTENANCE GARAGE - ANDERSON GARAGE\", \"BUS MAINTENANCE GARAGE - ANDERSON GARAGE\", \"BUS MAINTENANCE GARAGE - ANDERSON GARAGE\", \"BUS MAINTENANCE GARAGE - ANDERSON GARAGE\", \"BUS MAINTENANCE GARAGE - SPRING GARDENS\", \"BUS MAINTENANCE GARAGE - SPRING GARDENS\", \"BUS MAINTENANCE GARAGE - SPRING GARDENS\", \"BUS MAINTENANCE GARAGE - SPRING GARDENS\", \"BUS MAINTENANCE GARAGE - SPRING GARDENS\", \"BUS MAINTENANCE GARAGE - SPRING GARDENS\", \"BUS MAINTENANCE GARAGE - SPRING GARDENS\", \"BUS MAINTENANCE GARAGE - SPRING GARDENS\", \"BUS MAINTENANCE GARAGE - VICTORIA PARK\", \"BUS MAINTENANCE GARAGE - VICTORIA PARK\", \"BUS MAINTENANCE GARAGE - VICTORIA PARK\", \"BUS MAINTENANCE GARAGE - VICTORIA PARK\", \"BUS MAINTENANCE GARAGE - VICTORIA PARK\", \"BUS MAINTENANCE GARAGE - VICTORIA PARK\", \"BUS MAINTENANCE GARAGE - VICTORIA PARK\", \"BUS MAINTENANCE GARAGE - VICTORIA PARK\", \"MANCHESTER ASPHALT PLANT\", \"MANCHESTER ASPHALT PLANT\", \"MANCHESTER ASPHALT PLANT\", \"MANCHESTER ASPHALT PLANT\", \"MANCHESTER ASPHALT PLANT\", \"MANCHESTER ASPHALT PLANT\", \"MANCHESTER ASPHALT PLANT\", \"MANCHESTER ASPHALT PLANT\", \"OLIVER BOWEN MAINTENANCE FACILITY\", \"OLIVER BOWEN MAINTENANCE FACILITY\", \"OLIVER BOWEN MAINTENANCE FACILITY\", \"OLIVER BOWEN MAINTENANCE FACILITY\", \"OLIVER BOWEN MAINTENANCE FACILITY\", \"OLIVER BOWEN MAINTENANCE FACILITY\", \"OLIVER BOWEN MAINTENANCE FACILITY\", \"OLIVER BOWEN MAINTENANCE FACILITY\", \"STONEY TRANSIT FACILITY\", \"STONEY TRANSIT FACILITY\", \"STONEY TRANSIT FACILITY\", \"STONEY TRANSIT FACILITY\", \"STONEY TRANSIT FACILITY\", \"STONEY TRANSIT FACILITY\", \"STONEY TRANSIT FACILITY\", \"STONEY TRANSIT FACILITY\", \"VILLAGE SQUARE LEISURE CENTRE\", \"VILLAGE SQUARE LEISURE CENTRE\", \"VILLAGE SQUARE LEISURE CENTRE\", \"VILLAGE SQUARE LEISURE CENTRE\", \"VILLAGE SQUARE LEISURE CENTRE\", \"VILLAGE SQUARE LEISURE CENTRE\", \"VILLAGE SQUARE LEISURE CENTRE\", \"VILLAGE SQUARE LEISURE CENTRE\"], \"x0\": \" \", \"xaxis\": \"x\", \"y\": [330634.0, 330946.0, 301646.0, 222472.0, 297477.0, 239497.0, 324569.0, 230045.0, 60583.0, 36873.0, 28061.0, 60976.0, 65357.0, 65526.0, 37648.0, 13376.0, 84489.0, 74310.0, 90538.0, 115916.0, 107267.0, 97391.0, 89211.0, 44413.0, 35680.0, 46058.0, 23843.0, 23466.0, 34771.0, 33255.0, 21858.0, 11263.0, null, 10875.0, 21257.0, null, null, null, null, null, 14030.0, null, 10468.0, null, 12024.0, 12755.0, null, null, null, null, null, null, null, 11107.0, 90547.0, 63122.0, null, null, 10017.0, 10098.0, 43570.0, 30835.0, 11377.0, null], \"y0\": \" \", \"yaxis\": \"y\"}],\n",
       "                        {\"legend\": {\"tracegroupgap\": 0}, \"template\": {\"data\": {\"bar\": [{\"error_x\": {\"color\": \"#2a3f5f\"}, \"error_y\": {\"color\": \"#2a3f5f\"}, \"marker\": {\"line\": {\"color\": \"#E5ECF6\", \"width\": 0.5}}, \"type\": \"bar\"}], \"barpolar\": [{\"marker\": {\"line\": {\"color\": \"#E5ECF6\", \"width\": 0.5}}, \"type\": \"barpolar\"}], \"carpet\": [{\"aaxis\": {\"endlinecolor\": \"#2a3f5f\", \"gridcolor\": \"white\", \"linecolor\": \"white\", \"minorgridcolor\": \"white\", \"startlinecolor\": \"#2a3f5f\"}, \"baxis\": {\"endlinecolor\": \"#2a3f5f\", \"gridcolor\": \"white\", \"linecolor\": \"white\", \"minorgridcolor\": \"white\", \"startlinecolor\": \"#2a3f5f\"}, \"type\": \"carpet\"}], \"choropleth\": [{\"colorbar\": {\"outlinewidth\": 0, \"ticks\": \"\"}, \"type\": \"choropleth\"}], \"contour\": [{\"colorbar\": {\"outlinewidth\": 0, \"ticks\": \"\"}, \"colorscale\": [[0.0, \"#0d0887\"], [0.1111111111111111, \"#46039f\"], [0.2222222222222222, \"#7201a8\"], [0.3333333333333333, \"#9c179e\"], [0.4444444444444444, \"#bd3786\"], [0.5555555555555556, \"#d8576b\"], [0.6666666666666666, \"#ed7953\"], [0.7777777777777778, \"#fb9f3a\"], [0.8888888888888888, \"#fdca26\"], [1.0, \"#f0f921\"]], \"type\": \"contour\"}], \"contourcarpet\": [{\"colorbar\": {\"outlinewidth\": 0, \"ticks\": \"\"}, \"type\": \"contourcarpet\"}], \"heatmap\": [{\"colorbar\": {\"outlinewidth\": 0, \"ticks\": \"\"}, \"colorscale\": [[0.0, \"#0d0887\"], [0.1111111111111111, \"#46039f\"], [0.2222222222222222, \"#7201a8\"], [0.3333333333333333, \"#9c179e\"], [0.4444444444444444, \"#bd3786\"], [0.5555555555555556, \"#d8576b\"], [0.6666666666666666, \"#ed7953\"], [0.7777777777777778, \"#fb9f3a\"], [0.8888888888888888, \"#fdca26\"], [1.0, \"#f0f921\"]], \"type\": \"heatmap\"}], \"heatmapgl\": [{\"colorbar\": {\"outlinewidth\": 0, \"ticks\": \"\"}, \"colorscale\": [[0.0, \"#0d0887\"], [0.1111111111111111, \"#46039f\"], [0.2222222222222222, \"#7201a8\"], [0.3333333333333333, \"#9c179e\"], [0.4444444444444444, \"#bd3786\"], [0.5555555555555556, \"#d8576b\"], [0.6666666666666666, \"#ed7953\"], [0.7777777777777778, \"#fb9f3a\"], [0.8888888888888888, \"#fdca26\"], [1.0, \"#f0f921\"]], \"type\": \"heatmapgl\"}], \"histogram\": [{\"marker\": {\"colorbar\": {\"outlinewidth\": 0, \"ticks\": \"\"}}, \"type\": \"histogram\"}], \"histogram2d\": [{\"colorbar\": {\"outlinewidth\": 0, \"ticks\": \"\"}, \"colorscale\": [[0.0, \"#0d0887\"], [0.1111111111111111, \"#46039f\"], [0.2222222222222222, \"#7201a8\"], [0.3333333333333333, \"#9c179e\"], [0.4444444444444444, \"#bd3786\"], [0.5555555555555556, \"#d8576b\"], [0.6666666666666666, \"#ed7953\"], [0.7777777777777778, \"#fb9f3a\"], [0.8888888888888888, \"#fdca26\"], [1.0, \"#f0f921\"]], \"type\": \"histogram2d\"}], \"histogram2dcontour\": [{\"colorbar\": {\"outlinewidth\": 0, \"ticks\": \"\"}, \"colorscale\": [[0.0, \"#0d0887\"], [0.1111111111111111, \"#46039f\"], [0.2222222222222222, \"#7201a8\"], [0.3333333333333333, \"#9c179e\"], [0.4444444444444444, \"#bd3786\"], [0.5555555555555556, \"#d8576b\"], [0.6666666666666666, \"#ed7953\"], [0.7777777777777778, \"#fb9f3a\"], [0.8888888888888888, \"#fdca26\"], [1.0, \"#f0f921\"]], \"type\": \"histogram2dcontour\"}], \"mesh3d\": [{\"colorbar\": {\"outlinewidth\": 0, \"ticks\": \"\"}, \"type\": \"mesh3d\"}], \"parcoords\": [{\"line\": {\"colorbar\": {\"outlinewidth\": 0, \"ticks\": \"\"}}, \"type\": \"parcoords\"}], \"pie\": [{\"automargin\": true, \"type\": \"pie\"}], \"scatter\": [{\"marker\": {\"colorbar\": {\"outlinewidth\": 0, \"ticks\": \"\"}}, \"type\": \"scatter\"}], \"scatter3d\": [{\"line\": {\"colorbar\": {\"outlinewidth\": 0, \"ticks\": \"\"}}, \"marker\": {\"colorbar\": {\"outlinewidth\": 0, \"ticks\": \"\"}}, \"type\": \"scatter3d\"}], \"scattercarpet\": [{\"marker\": {\"colorbar\": {\"outlinewidth\": 0, \"ticks\": \"\"}}, \"type\": \"scattercarpet\"}], \"scattergeo\": [{\"marker\": {\"colorbar\": {\"outlinewidth\": 0, \"ticks\": \"\"}}, \"type\": \"scattergeo\"}], \"scattergl\": [{\"marker\": {\"colorbar\": {\"outlinewidth\": 0, \"ticks\": \"\"}}, \"type\": \"scattergl\"}], \"scattermapbox\": [{\"marker\": {\"colorbar\": {\"outlinewidth\": 0, \"ticks\": \"\"}}, \"type\": \"scattermapbox\"}], \"scatterpolar\": [{\"marker\": {\"colorbar\": {\"outlinewidth\": 0, \"ticks\": \"\"}}, \"type\": \"scatterpolar\"}], \"scatterpolargl\": [{\"marker\": {\"colorbar\": {\"outlinewidth\": 0, \"ticks\": \"\"}}, \"type\": \"scatterpolargl\"}], \"scatterternary\": [{\"marker\": {\"colorbar\": {\"outlinewidth\": 0, \"ticks\": \"\"}}, \"type\": \"scatterternary\"}], \"surface\": [{\"colorbar\": {\"outlinewidth\": 0, \"ticks\": \"\"}, \"colorscale\": [[0.0, \"#0d0887\"], [0.1111111111111111, \"#46039f\"], [0.2222222222222222, \"#7201a8\"], [0.3333333333333333, \"#9c179e\"], [0.4444444444444444, \"#bd3786\"], [0.5555555555555556, \"#d8576b\"], [0.6666666666666666, \"#ed7953\"], [0.7777777777777778, \"#fb9f3a\"], [0.8888888888888888, \"#fdca26\"], [1.0, \"#f0f921\"]], \"type\": \"surface\"}], \"table\": [{\"cells\": {\"fill\": {\"color\": \"#EBF0F8\"}, \"line\": {\"color\": \"white\"}}, \"header\": {\"fill\": {\"color\": \"#C8D4E3\"}, \"line\": {\"color\": \"white\"}}, \"type\": \"table\"}]}, \"layout\": {\"annotationdefaults\": {\"arrowcolor\": \"#2a3f5f\", \"arrowhead\": 0, \"arrowwidth\": 1}, \"coloraxis\": {\"colorbar\": {\"outlinewidth\": 0, \"ticks\": \"\"}}, \"colorscale\": {\"diverging\": [[0, \"#8e0152\"], [0.1, \"#c51b7d\"], [0.2, \"#de77ae\"], [0.3, \"#f1b6da\"], [0.4, \"#fde0ef\"], [0.5, \"#f7f7f7\"], [0.6, \"#e6f5d0\"], [0.7, \"#b8e186\"], [0.8, \"#7fbc41\"], [0.9, \"#4d9221\"], [1, \"#276419\"]], \"sequential\": [[0.0, \"#0d0887\"], [0.1111111111111111, \"#46039f\"], [0.2222222222222222, \"#7201a8\"], [0.3333333333333333, \"#9c179e\"], [0.4444444444444444, \"#bd3786\"], [0.5555555555555556, \"#d8576b\"], [0.6666666666666666, \"#ed7953\"], [0.7777777777777778, \"#fb9f3a\"], [0.8888888888888888, \"#fdca26\"], [1.0, \"#f0f921\"]], \"sequentialminus\": [[0.0, \"#0d0887\"], [0.1111111111111111, \"#46039f\"], [0.2222222222222222, \"#7201a8\"], [0.3333333333333333, \"#9c179e\"], [0.4444444444444444, \"#bd3786\"], [0.5555555555555556, \"#d8576b\"], [0.6666666666666666, \"#ed7953\"], [0.7777777777777778, \"#fb9f3a\"], [0.8888888888888888, \"#fdca26\"], [1.0, \"#f0f921\"]]}, \"colorway\": [\"#636efa\", \"#EF553B\", \"#00cc96\", \"#ab63fa\", \"#FFA15A\", \"#19d3f3\", \"#FF6692\", \"#B6E880\", \"#FF97FF\", \"#FECB52\"], \"font\": {\"color\": \"#2a3f5f\"}, \"geo\": {\"bgcolor\": \"white\", \"lakecolor\": \"white\", \"landcolor\": \"#E5ECF6\", \"showlakes\": true, \"showland\": true, \"subunitcolor\": \"white\"}, \"hoverlabel\": {\"align\": \"left\"}, \"hovermode\": \"closest\", \"mapbox\": {\"style\": \"light\"}, \"paper_bgcolor\": \"white\", \"plot_bgcolor\": \"#E5ECF6\", \"polar\": {\"angularaxis\": {\"gridcolor\": \"white\", \"linecolor\": \"white\", \"ticks\": \"\"}, \"bgcolor\": \"#E5ECF6\", \"radialaxis\": {\"gridcolor\": \"white\", \"linecolor\": \"white\", \"ticks\": \"\"}}, \"scene\": {\"xaxis\": {\"backgroundcolor\": \"#E5ECF6\", \"gridcolor\": \"white\", \"gridwidth\": 2, \"linecolor\": \"white\", \"showbackground\": true, \"ticks\": \"\", \"zerolinecolor\": \"white\"}, \"yaxis\": {\"backgroundcolor\": \"#E5ECF6\", \"gridcolor\": \"white\", \"gridwidth\": 2, \"linecolor\": \"white\", \"showbackground\": true, \"ticks\": \"\", \"zerolinecolor\": \"white\"}, \"zaxis\": {\"backgroundcolor\": \"#E5ECF6\", \"gridcolor\": \"white\", \"gridwidth\": 2, \"linecolor\": \"white\", \"showbackground\": true, \"ticks\": \"\", \"zerolinecolor\": \"white\"}}, \"shapedefaults\": {\"line\": {\"color\": \"#2a3f5f\"}}, \"ternary\": {\"aaxis\": {\"gridcolor\": \"white\", \"linecolor\": \"white\", \"ticks\": \"\"}, \"baxis\": {\"gridcolor\": \"white\", \"linecolor\": \"white\", \"ticks\": \"\"}, \"bgcolor\": \"#E5ECF6\", \"caxis\": {\"gridcolor\": \"white\", \"linecolor\": \"white\", \"ticks\": \"\"}}, \"title\": {\"x\": 0.05}, \"xaxis\": {\"automargin\": true, \"gridcolor\": \"white\", \"linecolor\": \"white\", \"ticks\": \"\", \"title\": {\"standoff\": 15}, \"zerolinecolor\": \"white\", \"zerolinewidth\": 2}, \"yaxis\": {\"automargin\": true, \"gridcolor\": \"white\", \"linecolor\": \"white\", \"ticks\": \"\", \"title\": {\"standoff\": 15}, \"zerolinecolor\": \"white\", \"zerolinewidth\": 2}}}, \"title\": {\"text\": \"Natual Gas Yearly Usage of each primary facility \"}, \"violinmode\": \"group\", \"xaxis\": {\"anchor\": \"y\", \"domain\": [0.0, 1.0], \"title\": {\"text\": \"FacilityName\"}}, \"yaxis\": {\"anchor\": \"x\", \"domain\": [0.0, 1.0], \"title\": {\"text\": \"value\"}}},\n",
       "                        {\"responsive\": true}\n",
       "                    ).then(function(){\n",
       "                            \n",
       "var gd = document.getElementById('ccf6b4ee-8d0f-4309-b24b-6dc81db0e8e5');\n",
       "var x = new MutationObserver(function (mutations, observer) {{\n",
       "        var display = window.getComputedStyle(gd).display;\n",
       "        if (!display || display === 'none') {{\n",
       "            console.log([gd, 'removed!']);\n",
       "            Plotly.purge(gd);\n",
       "            observer.disconnect();\n",
       "        }}\n",
       "}});\n",
       "\n",
       "// Listen for the removal of the full notebook cells\n",
       "var notebookContainer = gd.closest('#notebook-container');\n",
       "if (notebookContainer) {{\n",
       "    x.observe(notebookContainer, {childList: true});\n",
       "}}\n",
       "\n",
       "// Listen for the clearing of the current output cell\n",
       "var outputEl = gd.closest('.output');\n",
       "if (outputEl) {{\n",
       "    x.observe(outputEl, {childList: true});\n",
       "}}\n",
       "\n",
       "                        })\n",
       "                };\n",
       "                });\n",
       "            </script>\n",
       "        </div>"
      ]
     },
     "metadata": {},
     "output_type": "display_data"
    },
    {
     "data": {
      "application/vnd.plotly.v1+json": {
       "config": {
        "plotlyServerURL": "https://plot.ly"
       },
       "data": [
        {
         "hovertemplate": "FacilityName=BONNYBROOK WASTEWATER TREATMENT PLANT<br>value=%{x}<br>Year=%{y}<extra></extra>",
         "legendgroup": "BONNYBROOK WASTEWATER TREATMENT PLANT",
         "marker": {
          "color": "#636efa",
          "symbol": "circle"
         },
         "mode": "markers",
         "name": "BONNYBROOK WASTEWATER TREATMENT PLANT",
         "orientation": "h",
         "showlegend": true,
         "type": "scatter",
         "x": [
          330634,
          330946,
          301646,
          222472,
          297477,
          239497,
          324569,
          230045
         ],
         "xaxis": "x",
         "y": [
          2014,
          2015,
          2016,
          2017,
          2018,
          2019,
          2020,
          2021
         ],
         "yaxis": "y"
        },
        {
         "hovertemplate": "FacilityName=BUS MAINTENANCE GARAGE - ANDERSON GARAGE<br>value=%{x}<br>Year=%{y}<extra></extra>",
         "legendgroup": "BUS MAINTENANCE GARAGE - ANDERSON GARAGE",
         "marker": {
          "color": "#EF553B",
          "symbol": "circle"
         },
         "mode": "markers",
         "name": "BUS MAINTENANCE GARAGE - ANDERSON GARAGE",
         "orientation": "h",
         "showlegend": true,
         "type": "scatter",
         "x": [
          60583,
          36873,
          28061,
          60976,
          65357,
          65526,
          37648,
          13376
         ],
         "xaxis": "x",
         "y": [
          2014,
          2015,
          2016,
          2017,
          2018,
          2019,
          2020,
          2021
         ],
         "yaxis": "y"
        },
        {
         "hovertemplate": "FacilityName=BUS MAINTENANCE GARAGE - SPRING GARDENS<br>value=%{x}<br>Year=%{y}<extra></extra>",
         "legendgroup": "BUS MAINTENANCE GARAGE - SPRING GARDENS",
         "marker": {
          "color": "#00cc96",
          "symbol": "circle"
         },
         "mode": "markers",
         "name": "BUS MAINTENANCE GARAGE - SPRING GARDENS",
         "orientation": "h",
         "showlegend": true,
         "type": "scatter",
         "x": [
          84489,
          74310,
          90538,
          115916,
          107267,
          97391,
          89211,
          44413
         ],
         "xaxis": "x",
         "y": [
          2014,
          2015,
          2016,
          2017,
          2018,
          2019,
          2020,
          2021
         ],
         "yaxis": "y"
        },
        {
         "hovertemplate": "FacilityName=BUS MAINTENANCE GARAGE - VICTORIA PARK<br>value=%{x}<br>Year=%{y}<extra></extra>",
         "legendgroup": "BUS MAINTENANCE GARAGE - VICTORIA PARK",
         "marker": {
          "color": "#ab63fa",
          "symbol": "circle"
         },
         "mode": "markers",
         "name": "BUS MAINTENANCE GARAGE - VICTORIA PARK",
         "orientation": "h",
         "showlegend": true,
         "type": "scatter",
         "x": [
          35680,
          46058,
          23843,
          23466,
          34771,
          33255,
          21858,
          11263
         ],
         "xaxis": "x",
         "y": [
          2014,
          2015,
          2016,
          2017,
          2018,
          2019,
          2020,
          2021
         ],
         "yaxis": "y"
        },
        {
         "hovertemplate": "FacilityName=MANCHESTER ASPHALT PLANT<br>value=%{x}<br>Year=%{y}<extra></extra>",
         "legendgroup": "MANCHESTER ASPHALT PLANT",
         "marker": {
          "color": "#FFA15A",
          "symbol": "circle"
         },
         "mode": "markers",
         "name": "MANCHESTER ASPHALT PLANT",
         "orientation": "h",
         "showlegend": true,
         "type": "scatter",
         "x": [
          null,
          10875,
          21257,
          null,
          null,
          null,
          null,
          null
         ],
         "xaxis": "x",
         "y": [
          2014,
          2015,
          2016,
          2017,
          2018,
          2019,
          2020,
          2021
         ],
         "yaxis": "y"
        },
        {
         "hovertemplate": "FacilityName=OLIVER BOWEN MAINTENANCE FACILITY<br>value=%{x}<br>Year=%{y}<extra></extra>",
         "legendgroup": "OLIVER BOWEN MAINTENANCE FACILITY",
         "marker": {
          "color": "#19d3f3",
          "symbol": "circle"
         },
         "mode": "markers",
         "name": "OLIVER BOWEN MAINTENANCE FACILITY",
         "orientation": "h",
         "showlegend": true,
         "type": "scatter",
         "x": [
          14030,
          null,
          10468,
          null,
          12024,
          12755,
          null,
          null
         ],
         "xaxis": "x",
         "y": [
          2014,
          2015,
          2016,
          2017,
          2018,
          2019,
          2020,
          2021
         ],
         "yaxis": "y"
        },
        {
         "hovertemplate": "FacilityName=STONEY TRANSIT FACILITY<br>value=%{x}<br>Year=%{y}<extra></extra>",
         "legendgroup": "STONEY TRANSIT FACILITY",
         "marker": {
          "color": "#FF6692",
          "symbol": "circle"
         },
         "mode": "markers",
         "name": "STONEY TRANSIT FACILITY",
         "orientation": "h",
         "showlegend": true,
         "type": "scatter",
         "x": [
          null,
          null,
          null,
          null,
          null,
          11107,
          90547,
          63122
         ],
         "xaxis": "x",
         "y": [
          2014,
          2015,
          2016,
          2017,
          2018,
          2019,
          2020,
          2021
         ],
         "yaxis": "y"
        },
        {
         "hovertemplate": "FacilityName=VILLAGE SQUARE LEISURE CENTRE<br>value=%{x}<br>Year=%{y}<extra></extra>",
         "legendgroup": "VILLAGE SQUARE LEISURE CENTRE",
         "marker": {
          "color": "#B6E880",
          "symbol": "circle"
         },
         "mode": "markers",
         "name": "VILLAGE SQUARE LEISURE CENTRE",
         "orientation": "h",
         "showlegend": true,
         "type": "scatter",
         "x": [
          null,
          null,
          10017,
          10098,
          43570,
          30835,
          11377,
          null
         ],
         "xaxis": "x",
         "y": [
          2014,
          2015,
          2016,
          2017,
          2018,
          2019,
          2020,
          2021
         ],
         "yaxis": "y"
        }
       ],
       "layout": {
        "autosize": true,
        "legend": {
         "title": {
          "text": "FacilityName"
         },
         "tracegroupgap": 0
        },
        "template": {
         "data": {
          "bar": [
           {
            "error_x": {
             "color": "#2a3f5f"
            },
            "error_y": {
             "color": "#2a3f5f"
            },
            "marker": {
             "line": {
              "color": "#E5ECF6",
              "width": 0.5
             }
            },
            "type": "bar"
           }
          ],
          "barpolar": [
           {
            "marker": {
             "line": {
              "color": "#E5ECF6",
              "width": 0.5
             }
            },
            "type": "barpolar"
           }
          ],
          "carpet": [
           {
            "aaxis": {
             "endlinecolor": "#2a3f5f",
             "gridcolor": "white",
             "linecolor": "white",
             "minorgridcolor": "white",
             "startlinecolor": "#2a3f5f"
            },
            "baxis": {
             "endlinecolor": "#2a3f5f",
             "gridcolor": "white",
             "linecolor": "white",
             "minorgridcolor": "white",
             "startlinecolor": "#2a3f5f"
            },
            "type": "carpet"
           }
          ],
          "choropleth": [
           {
            "colorbar": {
             "outlinewidth": 0,
             "ticks": ""
            },
            "type": "choropleth"
           }
          ],
          "contour": [
           {
            "colorbar": {
             "outlinewidth": 0,
             "ticks": ""
            },
            "colorscale": [
             [
              0,
              "#0d0887"
             ],
             [
              0.1111111111111111,
              "#46039f"
             ],
             [
              0.2222222222222222,
              "#7201a8"
             ],
             [
              0.3333333333333333,
              "#9c179e"
             ],
             [
              0.4444444444444444,
              "#bd3786"
             ],
             [
              0.5555555555555556,
              "#d8576b"
             ],
             [
              0.6666666666666666,
              "#ed7953"
             ],
             [
              0.7777777777777778,
              "#fb9f3a"
             ],
             [
              0.8888888888888888,
              "#fdca26"
             ],
             [
              1,
              "#f0f921"
             ]
            ],
            "type": "contour"
           }
          ],
          "contourcarpet": [
           {
            "colorbar": {
             "outlinewidth": 0,
             "ticks": ""
            },
            "type": "contourcarpet"
           }
          ],
          "heatmap": [
           {
            "colorbar": {
             "outlinewidth": 0,
             "ticks": ""
            },
            "colorscale": [
             [
              0,
              "#0d0887"
             ],
             [
              0.1111111111111111,
              "#46039f"
             ],
             [
              0.2222222222222222,
              "#7201a8"
             ],
             [
              0.3333333333333333,
              "#9c179e"
             ],
             [
              0.4444444444444444,
              "#bd3786"
             ],
             [
              0.5555555555555556,
              "#d8576b"
             ],
             [
              0.6666666666666666,
              "#ed7953"
             ],
             [
              0.7777777777777778,
              "#fb9f3a"
             ],
             [
              0.8888888888888888,
              "#fdca26"
             ],
             [
              1,
              "#f0f921"
             ]
            ],
            "type": "heatmap"
           }
          ],
          "heatmapgl": [
           {
            "colorbar": {
             "outlinewidth": 0,
             "ticks": ""
            },
            "colorscale": [
             [
              0,
              "#0d0887"
             ],
             [
              0.1111111111111111,
              "#46039f"
             ],
             [
              0.2222222222222222,
              "#7201a8"
             ],
             [
              0.3333333333333333,
              "#9c179e"
             ],
             [
              0.4444444444444444,
              "#bd3786"
             ],
             [
              0.5555555555555556,
              "#d8576b"
             ],
             [
              0.6666666666666666,
              "#ed7953"
             ],
             [
              0.7777777777777778,
              "#fb9f3a"
             ],
             [
              0.8888888888888888,
              "#fdca26"
             ],
             [
              1,
              "#f0f921"
             ]
            ],
            "type": "heatmapgl"
           }
          ],
          "histogram": [
           {
            "marker": {
             "colorbar": {
              "outlinewidth": 0,
              "ticks": ""
             }
            },
            "type": "histogram"
           }
          ],
          "histogram2d": [
           {
            "colorbar": {
             "outlinewidth": 0,
             "ticks": ""
            },
            "colorscale": [
             [
              0,
              "#0d0887"
             ],
             [
              0.1111111111111111,
              "#46039f"
             ],
             [
              0.2222222222222222,
              "#7201a8"
             ],
             [
              0.3333333333333333,
              "#9c179e"
             ],
             [
              0.4444444444444444,
              "#bd3786"
             ],
             [
              0.5555555555555556,
              "#d8576b"
             ],
             [
              0.6666666666666666,
              "#ed7953"
             ],
             [
              0.7777777777777778,
              "#fb9f3a"
             ],
             [
              0.8888888888888888,
              "#fdca26"
             ],
             [
              1,
              "#f0f921"
             ]
            ],
            "type": "histogram2d"
           }
          ],
          "histogram2dcontour": [
           {
            "colorbar": {
             "outlinewidth": 0,
             "ticks": ""
            },
            "colorscale": [
             [
              0,
              "#0d0887"
             ],
             [
              0.1111111111111111,
              "#46039f"
             ],
             [
              0.2222222222222222,
              "#7201a8"
             ],
             [
              0.3333333333333333,
              "#9c179e"
             ],
             [
              0.4444444444444444,
              "#bd3786"
             ],
             [
              0.5555555555555556,
              "#d8576b"
             ],
             [
              0.6666666666666666,
              "#ed7953"
             ],
             [
              0.7777777777777778,
              "#fb9f3a"
             ],
             [
              0.8888888888888888,
              "#fdca26"
             ],
             [
              1,
              "#f0f921"
             ]
            ],
            "type": "histogram2dcontour"
           }
          ],
          "mesh3d": [
           {
            "colorbar": {
             "outlinewidth": 0,
             "ticks": ""
            },
            "type": "mesh3d"
           }
          ],
          "parcoords": [
           {
            "line": {
             "colorbar": {
              "outlinewidth": 0,
              "ticks": ""
             }
            },
            "type": "parcoords"
           }
          ],
          "pie": [
           {
            "automargin": true,
            "type": "pie"
           }
          ],
          "scatter": [
           {
            "marker": {
             "colorbar": {
              "outlinewidth": 0,
              "ticks": ""
             }
            },
            "type": "scatter"
           }
          ],
          "scatter3d": [
           {
            "line": {
             "colorbar": {
              "outlinewidth": 0,
              "ticks": ""
             }
            },
            "marker": {
             "colorbar": {
              "outlinewidth": 0,
              "ticks": ""
             }
            },
            "type": "scatter3d"
           }
          ],
          "scattercarpet": [
           {
            "marker": {
             "colorbar": {
              "outlinewidth": 0,
              "ticks": ""
             }
            },
            "type": "scattercarpet"
           }
          ],
          "scattergeo": [
           {
            "marker": {
             "colorbar": {
              "outlinewidth": 0,
              "ticks": ""
             }
            },
            "type": "scattergeo"
           }
          ],
          "scattergl": [
           {
            "marker": {
             "colorbar": {
              "outlinewidth": 0,
              "ticks": ""
             }
            },
            "type": "scattergl"
           }
          ],
          "scattermapbox": [
           {
            "marker": {
             "colorbar": {
              "outlinewidth": 0,
              "ticks": ""
             }
            },
            "type": "scattermapbox"
           }
          ],
          "scatterpolar": [
           {
            "marker": {
             "colorbar": {
              "outlinewidth": 0,
              "ticks": ""
             }
            },
            "type": "scatterpolar"
           }
          ],
          "scatterpolargl": [
           {
            "marker": {
             "colorbar": {
              "outlinewidth": 0,
              "ticks": ""
             }
            },
            "type": "scatterpolargl"
           }
          ],
          "scatterternary": [
           {
            "marker": {
             "colorbar": {
              "outlinewidth": 0,
              "ticks": ""
             }
            },
            "type": "scatterternary"
           }
          ],
          "surface": [
           {
            "colorbar": {
             "outlinewidth": 0,
             "ticks": ""
            },
            "colorscale": [
             [
              0,
              "#0d0887"
             ],
             [
              0.1111111111111111,
              "#46039f"
             ],
             [
              0.2222222222222222,
              "#7201a8"
             ],
             [
              0.3333333333333333,
              "#9c179e"
             ],
             [
              0.4444444444444444,
              "#bd3786"
             ],
             [
              0.5555555555555556,
              "#d8576b"
             ],
             [
              0.6666666666666666,
              "#ed7953"
             ],
             [
              0.7777777777777778,
              "#fb9f3a"
             ],
             [
              0.8888888888888888,
              "#fdca26"
             ],
             [
              1,
              "#f0f921"
             ]
            ],
            "type": "surface"
           }
          ],
          "table": [
           {
            "cells": {
             "fill": {
              "color": "#EBF0F8"
             },
             "line": {
              "color": "white"
             }
            },
            "header": {
             "fill": {
              "color": "#C8D4E3"
             },
             "line": {
              "color": "white"
             }
            },
            "type": "table"
           }
          ]
         },
         "layout": {
          "annotationdefaults": {
           "arrowcolor": "#2a3f5f",
           "arrowhead": 0,
           "arrowwidth": 1
          },
          "coloraxis": {
           "colorbar": {
            "outlinewidth": 0,
            "ticks": ""
           }
          },
          "colorscale": {
           "diverging": [
            [
             0,
             "#8e0152"
            ],
            [
             0.1,
             "#c51b7d"
            ],
            [
             0.2,
             "#de77ae"
            ],
            [
             0.3,
             "#f1b6da"
            ],
            [
             0.4,
             "#fde0ef"
            ],
            [
             0.5,
             "#f7f7f7"
            ],
            [
             0.6,
             "#e6f5d0"
            ],
            [
             0.7,
             "#b8e186"
            ],
            [
             0.8,
             "#7fbc41"
            ],
            [
             0.9,
             "#4d9221"
            ],
            [
             1,
             "#276419"
            ]
           ],
           "sequential": [
            [
             0,
             "#0d0887"
            ],
            [
             0.1111111111111111,
             "#46039f"
            ],
            [
             0.2222222222222222,
             "#7201a8"
            ],
            [
             0.3333333333333333,
             "#9c179e"
            ],
            [
             0.4444444444444444,
             "#bd3786"
            ],
            [
             0.5555555555555556,
             "#d8576b"
            ],
            [
             0.6666666666666666,
             "#ed7953"
            ],
            [
             0.7777777777777778,
             "#fb9f3a"
            ],
            [
             0.8888888888888888,
             "#fdca26"
            ],
            [
             1,
             "#f0f921"
            ]
           ],
           "sequentialminus": [
            [
             0,
             "#0d0887"
            ],
            [
             0.1111111111111111,
             "#46039f"
            ],
            [
             0.2222222222222222,
             "#7201a8"
            ],
            [
             0.3333333333333333,
             "#9c179e"
            ],
            [
             0.4444444444444444,
             "#bd3786"
            ],
            [
             0.5555555555555556,
             "#d8576b"
            ],
            [
             0.6666666666666666,
             "#ed7953"
            ],
            [
             0.7777777777777778,
             "#fb9f3a"
            ],
            [
             0.8888888888888888,
             "#fdca26"
            ],
            [
             1,
             "#f0f921"
            ]
           ]
          },
          "colorway": [
           "#636efa",
           "#EF553B",
           "#00cc96",
           "#ab63fa",
           "#FFA15A",
           "#19d3f3",
           "#FF6692",
           "#B6E880",
           "#FF97FF",
           "#FECB52"
          ],
          "font": {
           "color": "#2a3f5f"
          },
          "geo": {
           "bgcolor": "white",
           "lakecolor": "white",
           "landcolor": "#E5ECF6",
           "showlakes": true,
           "showland": true,
           "subunitcolor": "white"
          },
          "hoverlabel": {
           "align": "left"
          },
          "hovermode": "closest",
          "mapbox": {
           "style": "light"
          },
          "paper_bgcolor": "white",
          "plot_bgcolor": "#E5ECF6",
          "polar": {
           "angularaxis": {
            "gridcolor": "white",
            "linecolor": "white",
            "ticks": ""
           },
           "bgcolor": "#E5ECF6",
           "radialaxis": {
            "gridcolor": "white",
            "linecolor": "white",
            "ticks": ""
           }
          },
          "scene": {
           "xaxis": {
            "backgroundcolor": "#E5ECF6",
            "gridcolor": "white",
            "gridwidth": 2,
            "linecolor": "white",
            "showbackground": true,
            "ticks": "",
            "zerolinecolor": "white"
           },
           "yaxis": {
            "backgroundcolor": "#E5ECF6",
            "gridcolor": "white",
            "gridwidth": 2,
            "linecolor": "white",
            "showbackground": true,
            "ticks": "",
            "zerolinecolor": "white"
           },
           "zaxis": {
            "backgroundcolor": "#E5ECF6",
            "gridcolor": "white",
            "gridwidth": 2,
            "linecolor": "white",
            "showbackground": true,
            "ticks": "",
            "zerolinecolor": "white"
           }
          },
          "shapedefaults": {
           "line": {
            "color": "#2a3f5f"
           }
          },
          "ternary": {
           "aaxis": {
            "gridcolor": "white",
            "linecolor": "white",
            "ticks": ""
           },
           "baxis": {
            "gridcolor": "white",
            "linecolor": "white",
            "ticks": ""
           },
           "bgcolor": "#E5ECF6",
           "caxis": {
            "gridcolor": "white",
            "linecolor": "white",
            "ticks": ""
           }
          },
          "title": {
           "x": 0.05
          },
          "xaxis": {
           "automargin": true,
           "gridcolor": "white",
           "linecolor": "white",
           "ticks": "",
           "title": {
            "standoff": 15
           },
           "zerolinecolor": "white",
           "zerolinewidth": 2
          },
          "yaxis": {
           "automargin": true,
           "gridcolor": "white",
           "linecolor": "white",
           "ticks": "",
           "title": {
            "standoff": 15
           },
           "zerolinecolor": "white",
           "zerolinewidth": 2
          }
         }
        },
        "title": {
         "text": "Natual Gas Yearly Usage of each primary facility "
        },
        "xaxis": {
         "anchor": "y",
         "autorange": true,
         "domain": [
          0,
          1
         ],
         "range": [
          -10245.43868267832,
          351208.43868267833
         ],
         "title": {
          "text": "value"
         },
         "type": "linear"
        },
        "yaxis": {
         "anchor": "x",
         "autorange": true,
         "domain": [
          0,
          1
         ],
         "range": [
          2013.4872611464968,
          2021.5127388535032
         ],
         "title": {
          "text": "Year"
         },
         "type": "linear"
        }
       }
      },
      "image/png": "[encoded data removed]",
      "text/html": [
       "<div>\n",
       "        \n",
       "        \n",
       "            <div id=\"c4ac2c73-b382-4971-a11a-dc2ee0efee18\" class=\"plotly-graph-div\" style=\"height:525px; width:100%;\"></div>\n",
       "            <script type=\"text/javascript\">\n",
       "                require([\"plotly\"], function(Plotly) {\n",
       "                    window.PLOTLYENV=window.PLOTLYENV || {};\n",
       "                    \n",
       "                if (document.getElementById(\"c4ac2c73-b382-4971-a11a-dc2ee0efee18\")) {\n",
       "                    Plotly.newPlot(\n",
       "                        'c4ac2c73-b382-4971-a11a-dc2ee0efee18',\n",
       "                        [{\"hovertemplate\": \"FacilityName=BONNYBROOK WASTEWATER TREATMENT PLANT<br>value=%{x}<br>Year=%{y}<extra></extra>\", \"legendgroup\": \"BONNYBROOK WASTEWATER TREATMENT PLANT\", \"marker\": {\"color\": \"#636efa\", \"symbol\": \"circle\"}, \"mode\": \"markers\", \"name\": \"BONNYBROOK WASTEWATER TREATMENT PLANT\", \"orientation\": \"h\", \"showlegend\": true, \"type\": \"scatter\", \"x\": [330634.0, 330946.0, 301646.0, 222472.0, 297477.0, 239497.0, 324569.0, 230045.0], \"xaxis\": \"x\", \"y\": [2014, 2015, 2016, 2017, 2018, 2019, 2020, 2021], \"yaxis\": \"y\"}, {\"hovertemplate\": \"FacilityName=BUS MAINTENANCE GARAGE - ANDERSON GARAGE<br>value=%{x}<br>Year=%{y}<extra></extra>\", \"legendgroup\": \"BUS MAINTENANCE GARAGE - ANDERSON GARAGE\", \"marker\": {\"color\": \"#EF553B\", \"symbol\": \"circle\"}, \"mode\": \"markers\", \"name\": \"BUS MAINTENANCE GARAGE - ANDERSON GARAGE\", \"orientation\": \"h\", \"showlegend\": true, \"type\": \"scatter\", \"x\": [60583.0, 36873.0, 28061.0, 60976.0, 65357.0, 65526.0, 37648.0, 13376.0], \"xaxis\": \"x\", \"y\": [2014, 2015, 2016, 2017, 2018, 2019, 2020, 2021], \"yaxis\": \"y\"}, {\"hovertemplate\": \"FacilityName=BUS MAINTENANCE GARAGE - SPRING GARDENS<br>value=%{x}<br>Year=%{y}<extra></extra>\", \"legendgroup\": \"BUS MAINTENANCE GARAGE - SPRING GARDENS\", \"marker\": {\"color\": \"#00cc96\", \"symbol\": \"circle\"}, \"mode\": \"markers\", \"name\": \"BUS MAINTENANCE GARAGE - SPRING GARDENS\", \"orientation\": \"h\", \"showlegend\": true, \"type\": \"scatter\", \"x\": [84489.0, 74310.0, 90538.0, 115916.0, 107267.0, 97391.0, 89211.0, 44413.0], \"xaxis\": \"x\", \"y\": [2014, 2015, 2016, 2017, 2018, 2019, 2020, 2021], \"yaxis\": \"y\"}, {\"hovertemplate\": \"FacilityName=BUS MAINTENANCE GARAGE - VICTORIA PARK<br>value=%{x}<br>Year=%{y}<extra></extra>\", \"legendgroup\": \"BUS MAINTENANCE GARAGE - VICTORIA PARK\", \"marker\": {\"color\": \"#ab63fa\", \"symbol\": \"circle\"}, \"mode\": \"markers\", \"name\": \"BUS MAINTENANCE GARAGE - VICTORIA PARK\", \"orientation\": \"h\", \"showlegend\": true, \"type\": \"scatter\", \"x\": [35680.0, 46058.0, 23843.0, 23466.0, 34771.0, 33255.0, 21858.0, 11263.0], \"xaxis\": \"x\", \"y\": [2014, 2015, 2016, 2017, 2018, 2019, 2020, 2021], \"yaxis\": \"y\"}, {\"hovertemplate\": \"FacilityName=MANCHESTER ASPHALT PLANT<br>value=%{x}<br>Year=%{y}<extra></extra>\", \"legendgroup\": \"MANCHESTER ASPHALT PLANT\", \"marker\": {\"color\": \"#FFA15A\", \"symbol\": \"circle\"}, \"mode\": \"markers\", \"name\": \"MANCHESTER ASPHALT PLANT\", \"orientation\": \"h\", \"showlegend\": true, \"type\": \"scatter\", \"x\": [null, 10875.0, 21257.0, null, null, null, null, null], \"xaxis\": \"x\", \"y\": [2014, 2015, 2016, 2017, 2018, 2019, 2020, 2021], \"yaxis\": \"y\"}, {\"hovertemplate\": \"FacilityName=OLIVER BOWEN MAINTENANCE FACILITY<br>value=%{x}<br>Year=%{y}<extra></extra>\", \"legendgroup\": \"OLIVER BOWEN MAINTENANCE FACILITY\", \"marker\": {\"color\": \"#19d3f3\", \"symbol\": \"circle\"}, \"mode\": \"markers\", \"name\": \"OLIVER BOWEN MAINTENANCE FACILITY\", \"orientation\": \"h\", \"showlegend\": true, \"type\": \"scatter\", \"x\": [14030.0, null, 10468.0, null, 12024.0, 12755.0, null, null], \"xaxis\": \"x\", \"y\": [2014, 2015, 2016, 2017, 2018, 2019, 2020, 2021], \"yaxis\": \"y\"}, {\"hovertemplate\": \"FacilityName=STONEY TRANSIT FACILITY<br>value=%{x}<br>Year=%{y}<extra></extra>\", \"legendgroup\": \"STONEY TRANSIT FACILITY\", \"marker\": {\"color\": \"#FF6692\", \"symbol\": \"circle\"}, \"mode\": \"markers\", \"name\": \"STONEY TRANSIT FACILITY\", \"orientation\": \"h\", \"showlegend\": true, \"type\": \"scatter\", \"x\": [null, null, null, null, null, 11107.0, 90547.0, 63122.0], \"xaxis\": \"x\", \"y\": [2014, 2015, 2016, 2017, 2018, 2019, 2020, 2021], \"yaxis\": \"y\"}, {\"hovertemplate\": \"FacilityName=VILLAGE SQUARE LEISURE CENTRE<br>value=%{x}<br>Year=%{y}<extra></extra>\", \"legendgroup\": \"VILLAGE SQUARE LEISURE CENTRE\", \"marker\": {\"color\": \"#B6E880\", \"symbol\": \"circle\"}, \"mode\": \"markers\", \"name\": \"VILLAGE SQUARE LEISURE CENTRE\", \"orientation\": \"h\", \"showlegend\": true, \"type\": \"scatter\", \"x\": [null, null, 10017.0, 10098.0, 43570.0, 30835.0, 11377.0, null], \"xaxis\": \"x\", \"y\": [2014, 2015, 2016, 2017, 2018, 2019, 2020, 2021], \"yaxis\": \"y\"}],\n",
       "                        {\"legend\": {\"title\": {\"text\": \"FacilityName\"}, \"tracegroupgap\": 0}, \"template\": {\"data\": {\"bar\": [{\"error_x\": {\"color\": \"#2a3f5f\"}, \"error_y\": {\"color\": \"#2a3f5f\"}, \"marker\": {\"line\": {\"color\": \"#E5ECF6\", \"width\": 0.5}}, \"type\": \"bar\"}], \"barpolar\": [{\"marker\": {\"line\": {\"color\": \"#E5ECF6\", \"width\": 0.5}}, \"type\": \"barpolar\"}], \"carpet\": [{\"aaxis\": {\"endlinecolor\": \"#2a3f5f\", \"gridcolor\": \"white\", \"linecolor\": \"white\", \"minorgridcolor\": \"white\", \"startlinecolor\": \"#2a3f5f\"}, \"baxis\": {\"endlinecolor\": \"#2a3f5f\", \"gridcolor\": \"white\", \"linecolor\": \"white\", \"minorgridcolor\": \"white\", \"startlinecolor\": \"#2a3f5f\"}, \"type\": \"carpet\"}], \"choropleth\": [{\"colorbar\": {\"outlinewidth\": 0, \"ticks\": \"\"}, \"type\": \"choropleth\"}], \"contour\": [{\"colorbar\": {\"outlinewidth\": 0, \"ticks\": \"\"}, \"colorscale\": [[0.0, \"#0d0887\"], [0.1111111111111111, \"#46039f\"], [0.2222222222222222, \"#7201a8\"], [0.3333333333333333, \"#9c179e\"], [0.4444444444444444, \"#bd3786\"], [0.5555555555555556, \"#d8576b\"], [0.6666666666666666, \"#ed7953\"], [0.7777777777777778, \"#fb9f3a\"], [0.8888888888888888, \"#fdca26\"], [1.0, \"#f0f921\"]], \"type\": \"contour\"}], \"contourcarpet\": [{\"colorbar\": {\"outlinewidth\": 0, \"ticks\": \"\"}, \"type\": \"contourcarpet\"}], \"heatmap\": [{\"colorbar\": {\"outlinewidth\": 0, \"ticks\": \"\"}, \"colorscale\": [[0.0, \"#0d0887\"], [0.1111111111111111, \"#46039f\"], [0.2222222222222222, \"#7201a8\"], [0.3333333333333333, \"#9c179e\"], [0.4444444444444444, \"#bd3786\"], [0.5555555555555556, \"#d8576b\"], [0.6666666666666666, \"#ed7953\"], [0.7777777777777778, \"#fb9f3a\"], [0.8888888888888888, \"#fdca26\"], [1.0, \"#f0f921\"]], \"type\": \"heatmap\"}], \"heatmapgl\": [{\"colorbar\": {\"outlinewidth\": 0, \"ticks\": \"\"}, \"colorscale\": [[0.0, \"#0d0887\"], [0.1111111111111111, \"#46039f\"], [0.2222222222222222, \"#7201a8\"], [0.3333333333333333, \"#9c179e\"], [0.4444444444444444, \"#bd3786\"], [0.5555555555555556, \"#d8576b\"], [0.6666666666666666, \"#ed7953\"], [0.7777777777777778, \"#fb9f3a\"], [0.8888888888888888, \"#fdca26\"], [1.0, \"#f0f921\"]], \"type\": \"heatmapgl\"}], \"histogram\": [{\"marker\": {\"colorbar\": {\"outlinewidth\": 0, \"ticks\": \"\"}}, \"type\": \"histogram\"}], \"histogram2d\": [{\"colorbar\": {\"outlinewidth\": 0, \"ticks\": \"\"}, \"colorscale\": [[0.0, \"#0d0887\"], [0.1111111111111111, \"#46039f\"], [0.2222222222222222, \"#7201a8\"], [0.3333333333333333, \"#9c179e\"], [0.4444444444444444, \"#bd3786\"], [0.5555555555555556, \"#d8576b\"], [0.6666666666666666, \"#ed7953\"], [0.7777777777777778, \"#fb9f3a\"], [0.8888888888888888, \"#fdca26\"], [1.0, \"#f0f921\"]], \"type\": \"histogram2d\"}], \"histogram2dcontour\": [{\"colorbar\": {\"outlinewidth\": 0, \"ticks\": \"\"}, \"colorscale\": [[0.0, \"#0d0887\"], [0.1111111111111111, \"#46039f\"], [0.2222222222222222, \"#7201a8\"], [0.3333333333333333, \"#9c179e\"], [0.4444444444444444, \"#bd3786\"], [0.5555555555555556, \"#d8576b\"], [0.6666666666666666, \"#ed7953\"], [0.7777777777777778, \"#fb9f3a\"], [0.8888888888888888, \"#fdca26\"], [1.0, \"#f0f921\"]], \"type\": \"histogram2dcontour\"}], \"mesh3d\": [{\"colorbar\": {\"outlinewidth\": 0, \"ticks\": \"\"}, \"type\": \"mesh3d\"}], \"parcoords\": [{\"line\": {\"colorbar\": {\"outlinewidth\": 0, \"ticks\": \"\"}}, \"type\": \"parcoords\"}], \"pie\": [{\"automargin\": true, \"type\": \"pie\"}], \"scatter\": [{\"marker\": {\"colorbar\": {\"outlinewidth\": 0, \"ticks\": \"\"}}, \"type\": \"scatter\"}], \"scatter3d\": [{\"line\": {\"colorbar\": {\"outlinewidth\": 0, \"ticks\": \"\"}}, \"marker\": {\"colorbar\": {\"outlinewidth\": 0, \"ticks\": \"\"}}, \"type\": \"scatter3d\"}], \"scattercarpet\": [{\"marker\": {\"colorbar\": {\"outlinewidth\": 0, \"ticks\": \"\"}}, \"type\": \"scattercarpet\"}], \"scattergeo\": [{\"marker\": {\"colorbar\": {\"outlinewidth\": 0, \"ticks\": \"\"}}, \"type\": \"scattergeo\"}], \"scattergl\": [{\"marker\": {\"colorbar\": {\"outlinewidth\": 0, \"ticks\": \"\"}}, \"type\": \"scattergl\"}], \"scattermapbox\": [{\"marker\": {\"colorbar\": {\"outlinewidth\": 0, \"ticks\": \"\"}}, \"type\": \"scattermapbox\"}], \"scatterpolar\": [{\"marker\": {\"colorbar\": {\"outlinewidth\": 0, \"ticks\": \"\"}}, \"type\": \"scatterpolar\"}], \"scatterpolargl\": [{\"marker\": {\"colorbar\": {\"outlinewidth\": 0, \"ticks\": \"\"}}, \"type\": \"scatterpolargl\"}], \"scatterternary\": [{\"marker\": {\"colorbar\": {\"outlinewidth\": 0, \"ticks\": \"\"}}, \"type\": \"scatterternary\"}], \"surface\": [{\"colorbar\": {\"outlinewidth\": 0, \"ticks\": \"\"}, \"colorscale\": [[0.0, \"#0d0887\"], [0.1111111111111111, \"#46039f\"], [0.2222222222222222, \"#7201a8\"], [0.3333333333333333, \"#9c179e\"], [0.4444444444444444, \"#bd3786\"], [0.5555555555555556, \"#d8576b\"], [0.6666666666666666, \"#ed7953\"], [0.7777777777777778, \"#fb9f3a\"], [0.8888888888888888, \"#fdca26\"], [1.0, \"#f0f921\"]], \"type\": \"surface\"}], \"table\": [{\"cells\": {\"fill\": {\"color\": \"#EBF0F8\"}, \"line\": {\"color\": \"white\"}}, \"header\": {\"fill\": {\"color\": \"#C8D4E3\"}, \"line\": {\"color\": \"white\"}}, \"type\": \"table\"}]}, \"layout\": {\"annotationdefaults\": {\"arrowcolor\": \"#2a3f5f\", \"arrowhead\": 0, \"arrowwidth\": 1}, \"coloraxis\": {\"colorbar\": {\"outlinewidth\": 0, \"ticks\": \"\"}}, \"colorscale\": {\"diverging\": [[0, \"#8e0152\"], [0.1, \"#c51b7d\"], [0.2, \"#de77ae\"], [0.3, \"#f1b6da\"], [0.4, \"#fde0ef\"], [0.5, \"#f7f7f7\"], [0.6, \"#e6f5d0\"], [0.7, \"#b8e186\"], [0.8, \"#7fbc41\"], [0.9, \"#4d9221\"], [1, \"#276419\"]], \"sequential\": [[0.0, \"#0d0887\"], [0.1111111111111111, \"#46039f\"], [0.2222222222222222, \"#7201a8\"], [0.3333333333333333, \"#9c179e\"], [0.4444444444444444, \"#bd3786\"], [0.5555555555555556, \"#d8576b\"], [0.6666666666666666, \"#ed7953\"], [0.7777777777777778, \"#fb9f3a\"], [0.8888888888888888, \"#fdca26\"], [1.0, \"#f0f921\"]], \"sequentialminus\": [[0.0, \"#0d0887\"], [0.1111111111111111, \"#46039f\"], [0.2222222222222222, \"#7201a8\"], [0.3333333333333333, \"#9c179e\"], [0.4444444444444444, \"#bd3786\"], [0.5555555555555556, \"#d8576b\"], [0.6666666666666666, \"#ed7953\"], [0.7777777777777778, \"#fb9f3a\"], [0.8888888888888888, \"#fdca26\"], [1.0, \"#f0f921\"]]}, \"colorway\": [\"#636efa\", \"#EF553B\", \"#00cc96\", \"#ab63fa\", \"#FFA15A\", \"#19d3f3\", \"#FF6692\", \"#B6E880\", \"#FF97FF\", \"#FECB52\"], \"font\": {\"color\": \"#2a3f5f\"}, \"geo\": {\"bgcolor\": \"white\", \"lakecolor\": \"white\", \"landcolor\": \"#E5ECF6\", \"showlakes\": true, \"showland\": true, \"subunitcolor\": \"white\"}, \"hoverlabel\": {\"align\": \"left\"}, \"hovermode\": \"closest\", \"mapbox\": {\"style\": \"light\"}, \"paper_bgcolor\": \"white\", \"plot_bgcolor\": \"#E5ECF6\", \"polar\": {\"angularaxis\": {\"gridcolor\": \"white\", \"linecolor\": \"white\", \"ticks\": \"\"}, \"bgcolor\": \"#E5ECF6\", \"radialaxis\": {\"gridcolor\": \"white\", \"linecolor\": \"white\", \"ticks\": \"\"}}, \"scene\": {\"xaxis\": {\"backgroundcolor\": \"#E5ECF6\", \"gridcolor\": \"white\", \"gridwidth\": 2, \"linecolor\": \"white\", \"showbackground\": true, \"ticks\": \"\", \"zerolinecolor\": \"white\"}, \"yaxis\": {\"backgroundcolor\": \"#E5ECF6\", \"gridcolor\": \"white\", \"gridwidth\": 2, \"linecolor\": \"white\", \"showbackground\": true, \"ticks\": \"\", \"zerolinecolor\": \"white\"}, \"zaxis\": {\"backgroundcolor\": \"#E5ECF6\", \"gridcolor\": \"white\", \"gridwidth\": 2, \"linecolor\": \"white\", \"showbackground\": true, \"ticks\": \"\", \"zerolinecolor\": \"white\"}}, \"shapedefaults\": {\"line\": {\"color\": \"#2a3f5f\"}}, \"ternary\": {\"aaxis\": {\"gridcolor\": \"white\", \"linecolor\": \"white\", \"ticks\": \"\"}, \"baxis\": {\"gridcolor\": \"white\", \"linecolor\": \"white\", \"ticks\": \"\"}, \"bgcolor\": \"#E5ECF6\", \"caxis\": {\"gridcolor\": \"white\", \"linecolor\": \"white\", \"ticks\": \"\"}}, \"title\": {\"x\": 0.05}, \"xaxis\": {\"automargin\": true, \"gridcolor\": \"white\", \"linecolor\": \"white\", \"ticks\": \"\", \"title\": {\"standoff\": 15}, \"zerolinecolor\": \"white\", \"zerolinewidth\": 2}, \"yaxis\": {\"automargin\": true, \"gridcolor\": \"white\", \"linecolor\": \"white\", \"ticks\": \"\", \"title\": {\"standoff\": 15}, \"zerolinecolor\": \"white\", \"zerolinewidth\": 2}}}, \"title\": {\"text\": \"Natual Gas Yearly Usage of each primary facility \"}, \"xaxis\": {\"anchor\": \"y\", \"domain\": [0.0, 1.0], \"title\": {\"text\": \"value\"}}, \"yaxis\": {\"anchor\": \"x\", \"domain\": [0.0, 1.0], \"title\": {\"text\": \"Year\"}}},\n",
       "                        {\"responsive\": true}\n",
       "                    ).then(function(){\n",
       "                            \n",
       "var gd = document.getElementById('c4ac2c73-b382-4971-a11a-dc2ee0efee18');\n",
       "var x = new MutationObserver(function (mutations, observer) {{\n",
       "        var display = window.getComputedStyle(gd).display;\n",
       "        if (!display || display === 'none') {{\n",
       "            console.log([gd, 'removed!']);\n",
       "            Plotly.purge(gd);\n",
       "            observer.disconnect();\n",
       "        }}\n",
       "}});\n",
       "\n",
       "// Listen for the removal of the full notebook cells\n",
       "var notebookContainer = gd.closest('#notebook-container');\n",
       "if (notebookContainer) {{\n",
       "    x.observe(notebookContainer, {childList: true});\n",
       "}}\n",
       "\n",
       "// Listen for the clearing of the current output cell\n",
       "var outputEl = gd.closest('.output');\n",
       "if (outputEl) {{\n",
       "    x.observe(outputEl, {childList: true});\n",
       "}}\n",
       "\n",
       "                        })\n",
       "                };\n",
       "                });\n",
       "            </script>\n",
       "        </div>"
      ]
     },
     "metadata": {},
     "output_type": "display_data"
    }
   ],
   "source": [
    "df2=pd.DataFrame.drop(rdata,[\"Business Unit Desc\",\"Site ID\",\"FacilityAddress\"], axis=1)\n",
    "df2= df2.loc[df2['Energy Description'] == 'Natural Gas']\n",
    "df2 =df2.loc[df2['Total Consumption'] > 10000]\n",
    "df2 =df2.loc[df2['Year'].between(2014,2021)]\n",
    "df2.name = \"Natual Gas Yearly Usage of each facility \"\n",
    "df2=df2.groupby(['FacilityName','Year'])['Total Consumption'].sum().unstack(level=1)\n",
    "display(df2)\n",
    "\n",
    "fig = plt.figure()\n",
    "df2.plot(kind='bar', colormap='tab20b', grid=True, title = 'Natual Gas Yearly Usage of each primary facility')\n",
    "fig.set_size_inches(3600,3600)\n",
    "plt.show()\n",
    "\n",
    "df2=pd.DataFrame.drop(rdata,[\"Business Unit Desc\",\"Site ID\",\"FacilityAddress\"], axis=1)\n",
    "df2= df2.loc[df2['Energy Description'] == 'Natural Gas']\n",
    "df2 =df2.loc[df2['Total Consumption'] > 10000]\n",
    "df2 =df2.loc[df2['Year'].between(2014,2021)]\n",
    "df2.name = \"Natual Gas Usage of each Year \"\n",
    "df2=df2.groupby(['FacilityName','Year'])['Total Consumption'].sum().unstack(level=0)\n",
    "\n",
    "fig = px.violin(df2, y=df2.columns, title ='Natual Gas Yearly Usage of each primary facility ')\n",
    "fig.show()\n",
    "fig = px.scatter(df2, x=df2.columns, title ='Natual Gas Yearly Usage of each primary facility ')\n",
    "fig.show()"
   ]
  },
  {
   "cell_type": "code",
   "execution_count": null,
   "metadata": {},
   "outputs": [],
   "source": [
    "From the data shows that all of the primary facilities in Calgary have decreased use the Natural Gas from 2014 to 2021. \n",
    "Most primay facilities were increased the using the Natural Gas in 2018 but they were cut down the usage of Natural Gas after 2018.\n",
    "Base on the violin plot, we realized that the most usage Natural Gas facility is the BONNYBROOK WASTEWATER TREATMENT PLANT and lowest is OLIVER BOWEN MAINTENANCE FACILITY."
   ]
  },
  {
   "cell_type": "code",
   "execution_count": null,
   "metadata": {},
   "outputs": [],
   "source": [
    "Solar Power Yearly Usage of each primary facility"
   ]
  },
  {
   "cell_type": "code",
   "execution_count": 28,
   "metadata": {},
   "outputs": [
    {
     "data": {
      "text/html": [
       "<div>\n",
       "<style scoped>\n",
       "    .dataframe tbody tr th:only-of-type {\n",
       "        vertical-align: middle;\n",
       "    }\n",
       "\n",
       "    .dataframe tbody tr th {\n",
       "        vertical-align: top;\n",
       "    }\n",
       "\n",
       "    .dataframe thead th {\n",
       "        text-align: right;\n",
       "    }\n",
       "</style>\n",
       "<table border=\"1\" class=\"dataframe\">\n",
       "  <thead>\n",
       "    <tr style=\"text-align: right;\">\n",
       "      <th>Year</th>\n",
       "      <th>2015</th>\n",
       "      <th>2016</th>\n",
       "      <th>2017</th>\n",
       "      <th>2018</th>\n",
       "      <th>2019</th>\n",
       "      <th>2020</th>\n",
       "      <th>2021</th>\n",
       "    </tr>\n",
       "    <tr>\n",
       "      <th>FacilityName</th>\n",
       "      <th></th>\n",
       "      <th></th>\n",
       "      <th></th>\n",
       "      <th></th>\n",
       "      <th></th>\n",
       "      <th></th>\n",
       "      <th></th>\n",
       "    </tr>\n",
       "  </thead>\n",
       "  <tbody>\n",
       "    <tr>\n",
       "      <th>BEARSPAW WATER TREATMENT PLANT</th>\n",
       "      <td>NaN</td>\n",
       "      <td>NaN</td>\n",
       "      <td>NaN</td>\n",
       "      <td>672336.0</td>\n",
       "      <td>645145.0</td>\n",
       "      <td>629182.0</td>\n",
       "      <td>303027.0</td>\n",
       "    </tr>\n",
       "    <tr>\n",
       "      <th>CORPORATE WAREHOUSE</th>\n",
       "      <td>NaN</td>\n",
       "      <td>NaN</td>\n",
       "      <td>116749.0</td>\n",
       "      <td>88286.0</td>\n",
       "      <td>78731.0</td>\n",
       "      <td>113931.0</td>\n",
       "      <td>89822.0</td>\n",
       "    </tr>\n",
       "    <tr>\n",
       "      <th>GLENMORE WATER TREATMENT PLANT - WB</th>\n",
       "      <td>NaN</td>\n",
       "      <td>NaN</td>\n",
       "      <td>286548.0</td>\n",
       "      <td>232262.0</td>\n",
       "      <td>257429.0</td>\n",
       "      <td>279510.0</td>\n",
       "      <td>171879.0</td>\n",
       "    </tr>\n",
       "    <tr>\n",
       "      <th>SH - BLDG W (COMPOST FACILITY)</th>\n",
       "      <td>NaN</td>\n",
       "      <td>NaN</td>\n",
       "      <td>NaN</td>\n",
       "      <td>1052172.0</td>\n",
       "      <td>1316807.0</td>\n",
       "      <td>5369296.0</td>\n",
       "      <td>3088045.0</td>\n",
       "    </tr>\n",
       "    <tr>\n",
       "      <th>SOUTHLAND LEISURE CENTRE</th>\n",
       "      <td>29977.0</td>\n",
       "      <td>131036.0</td>\n",
       "      <td>156458.0</td>\n",
       "      <td>124332.0</td>\n",
       "      <td>146456.0</td>\n",
       "      <td>138671.0</td>\n",
       "      <td>104938.0</td>\n",
       "    </tr>\n",
       "    <tr>\n",
       "      <th>WHITEHORN MULTI SERVICE CENTRE</th>\n",
       "      <td>NaN</td>\n",
       "      <td>NaN</td>\n",
       "      <td>459307.0</td>\n",
       "      <td>365949.0</td>\n",
       "      <td>406581.0</td>\n",
       "      <td>367328.0</td>\n",
       "      <td>283833.0</td>\n",
       "    </tr>\n",
       "  </tbody>\n",
       "</table>\n",
       "</div>"
      ],
      "text/plain": [
       "Year                                    2015      2016      2017       2018  \\\n",
       "FacilityName                                                                  \n",
       "BEARSPAW WATER TREATMENT PLANT           NaN       NaN       NaN   672336.0   \n",
       "CORPORATE WAREHOUSE                      NaN       NaN  116749.0    88286.0   \n",
       "GLENMORE WATER TREATMENT PLANT - WB      NaN       NaN  286548.0   232262.0   \n",
       "SH - BLDG W (COMPOST FACILITY)           NaN       NaN       NaN  1052172.0   \n",
       "SOUTHLAND LEISURE CENTRE             29977.0  131036.0  156458.0   124332.0   \n",
       "WHITEHORN MULTI SERVICE CENTRE           NaN       NaN  459307.0   365949.0   \n",
       "\n",
       "Year                                      2019       2020       2021  \n",
       "FacilityName                                                          \n",
       "BEARSPAW WATER TREATMENT PLANT        645145.0   629182.0   303027.0  \n",
       "CORPORATE WAREHOUSE                    78731.0   113931.0    89822.0  \n",
       "GLENMORE WATER TREATMENT PLANT - WB   257429.0   279510.0   171879.0  \n",
       "SH - BLDG W (COMPOST FACILITY)       1316807.0  5369296.0  3088045.0  \n",
       "SOUTHLAND LEISURE CENTRE              146456.0   138671.0   104938.0  \n",
       "WHITEHORN MULTI SERVICE CENTRE        406581.0   367328.0   283833.0  "
      ]
     },
     "metadata": {},
     "output_type": "display_data"
    },
    {
     "data": {
      "text/plain": [
       "<Figure size 259200x259200 with 0 Axes>"
      ]
     },
     "metadata": {},
     "output_type": "display_data"
    },
    {
     "data": {
      "image/png": "[encoded data removed]",
      "text/plain": [
       "<Figure size 432x288 with 1 Axes>"
      ]
     },
     "metadata": {
      "needs_background": "light"
     },
     "output_type": "display_data"
    },
    {
     "data": {
      "application/vnd.plotly.v1+json": {
       "config": {
        "plotlyServerURL": "https://plot.ly"
       },
       "data": [
        {
         "alignmentgroup": "True",
         "box": {
          "visible": false
         },
         "hovertemplate": "FacilityName=%{x}<br>value=%{y}<extra></extra>",
         "legendgroup": "",
         "marker": {
          "color": "#636efa"
         },
         "name": "",
         "offsetgroup": "",
         "orientation": "v",
         "scalegroup": "True",
         "showlegend": false,
         "type": "violin",
         "x": [
          "BEARSPAW SALT SILO",
          "BEARSPAW SALT SILO",
          "BEARSPAW SALT SILO",
          "BEARSPAW SALT SILO",
          "BEARSPAW SALT SILO",
          "BEARSPAW SALT SILO",
          "BEARSPAW SALT SILO",
          "BEARSPAW SALT SILO",
          "BEARSPAW WATER TREATMENT PLANT",
          "BEARSPAW WATER TREATMENT PLANT",
          "BEARSPAW WATER TREATMENT PLANT",
          "BEARSPAW WATER TREATMENT PLANT",
          "BEARSPAW WATER TREATMENT PLANT",
          "BEARSPAW WATER TREATMENT PLANT",
          "BEARSPAW WATER TREATMENT PLANT",
          "BEARSPAW WATER TREATMENT PLANT",
          "CORPORATE WAREHOUSE",
          "CORPORATE WAREHOUSE",
          "CORPORATE WAREHOUSE",
          "CORPORATE WAREHOUSE",
          "CORPORATE WAREHOUSE",
          "CORPORATE WAREHOUSE",
          "CORPORATE WAREHOUSE",
          "CORPORATE WAREHOUSE",
          "CTRAIN STATION - 69TH STREET SW",
          "CTRAIN STATION - 69TH STREET SW",
          "CTRAIN STATION - 69TH STREET SW",
          "CTRAIN STATION - 69TH STREET SW",
          "CTRAIN STATION - 69TH STREET SW",
          "CTRAIN STATION - 69TH STREET SW",
          "CTRAIN STATION - 69TH STREET SW",
          "CTRAIN STATION - 69TH STREET SW",
          "FIRE HEADQUARTERS",
          "FIRE HEADQUARTERS",
          "FIRE HEADQUARTERS",
          "FIRE HEADQUARTERS",
          "FIRE HEADQUARTERS",
          "FIRE HEADQUARTERS",
          "FIRE HEADQUARTERS",
          "FIRE HEADQUARTERS",
          "FIRE STATION 07 - MOUNT PLEASANT",
          "FIRE STATION 07 - MOUNT PLEASANT",
          "FIRE STATION 07 - MOUNT PLEASANT",
          "FIRE STATION 07 - MOUNT PLEASANT",
          "FIRE STATION 07 - MOUNT PLEASANT",
          "FIRE STATION 07 - MOUNT PLEASANT",
          "FIRE STATION 07 - MOUNT PLEASANT",
          "FIRE STATION 07 - MOUNT PLEASANT",
          "FIRE STATION 42 - TUSCANY",
          "FIRE STATION 42 - TUSCANY",
          "FIRE STATION 42 - TUSCANY",
          "FIRE STATION 42 - TUSCANY",
          "FIRE STATION 42 - TUSCANY",
          "FIRE STATION 42 - TUSCANY",
          "FIRE STATION 42 - TUSCANY",
          "FIRE STATION 42 - TUSCANY",
          "GLENMORE WATER TREATMENT PLANT - WB",
          "GLENMORE WATER TREATMENT PLANT - WB",
          "GLENMORE WATER TREATMENT PLANT - WB",
          "GLENMORE WATER TREATMENT PLANT - WB",
          "GLENMORE WATER TREATMENT PLANT - WB",
          "GLENMORE WATER TREATMENT PLANT - WB",
          "GLENMORE WATER TREATMENT PLANT - WB",
          "GLENMORE WATER TREATMENT PLANT - WB",
          "MANCHESTER BUILDING M",
          "MANCHESTER BUILDING M",
          "MANCHESTER BUILDING M",
          "MANCHESTER BUILDING M",
          "MANCHESTER BUILDING M",
          "MANCHESTER BUILDING M",
          "MANCHESTER BUILDING M",
          "MANCHESTER BUILDING M",
          "SARCEE OWC - ADMINISTRATION BUILDING",
          "SARCEE OWC - ADMINISTRATION BUILDING",
          "SARCEE OWC - ADMINISTRATION BUILDING",
          "SARCEE OWC - ADMINISTRATION BUILDING",
          "SARCEE OWC - ADMINISTRATION BUILDING",
          "SARCEE OWC - ADMINISTRATION BUILDING",
          "SARCEE OWC - ADMINISTRATION BUILDING",
          "SARCEE OWC - ADMINISTRATION BUILDING",
          "SH - BLDG W (COMPOST FACILITY)",
          "SH - BLDG W (COMPOST FACILITY)",
          "SH - BLDG W (COMPOST FACILITY)",
          "SH - BLDG W (COMPOST FACILITY)",
          "SH - BLDG W (COMPOST FACILITY)",
          "SH - BLDG W (COMPOST FACILITY)",
          "SH - BLDG W (COMPOST FACILITY)",
          "SH - BLDG W (COMPOST FACILITY)",
          "SOUTHLAND LEISURE CENTRE",
          "SOUTHLAND LEISURE CENTRE",
          "SOUTHLAND LEISURE CENTRE",
          "SOUTHLAND LEISURE CENTRE",
          "SOUTHLAND LEISURE CENTRE",
          "SOUTHLAND LEISURE CENTRE",
          "SOUTHLAND LEISURE CENTRE",
          "SOUTHLAND LEISURE CENTRE",
          "WHITEHORN MULTI SERVICE CENTRE",
          "WHITEHORN MULTI SERVICE CENTRE",
          "WHITEHORN MULTI SERVICE CENTRE",
          "WHITEHORN MULTI SERVICE CENTRE",
          "WHITEHORN MULTI SERVICE CENTRE",
          "WHITEHORN MULTI SERVICE CENTRE",
          "WHITEHORN MULTI SERVICE CENTRE",
          "WHITEHORN MULTI SERVICE CENTRE"
         ],
         "x0": " ",
         "xaxis": "x",
         "y": [
          30258,
          53333,
          52745,
          41361,
          21530,
          44588,
          22003,
          25680,
          null,
          null,
          null,
          9791,
          678536,
          652587,
          635422,
          303027,
          null,
          null,
          null,
          131593,
          114787,
          102931,
          132010,
          95881,
          null,
          null,
          null,
          null,
          18536,
          34891,
          41160,
          28126,
          null,
          null,
          null,
          15354,
          16725,
          17176,
          16572,
          12328,
          null,
          null,
          null,
          1322,
          23928,
          31510,
          32930,
          23707,
          null,
          null,
          null,
          null,
          1214,
          19822,
          18929,
          14990,
          null,
          null,
          null,
          292019,
          249129,
          270977,
          293788,
          180644,
          null,
          null,
          null,
          null,
          29390,
          38138,
          41756,
          25765,
          null,
          null,
          null,
          null,
          32099,
          52613,
          56295,
          39875,
          null,
          null,
          null,
          null,
          1052172,
          1316807,
          5369296,
          3088045,
          null,
          36003,
          162547,
          167406,
          142226,
          152230,
          158293,
          109947,
          null,
          null,
          null,
          468438,
          393663,
          427151,
          387335,
          302970
         ],
         "y0": " ",
         "yaxis": "y"
        }
       ],
       "layout": {
        "autosize": true,
        "legend": {
         "tracegroupgap": 0
        },
        "template": {
         "data": {
          "bar": [
           {
            "error_x": {
             "color": "#2a3f5f"
            },
            "error_y": {
             "color": "#2a3f5f"
            },
            "marker": {
             "line": {
              "color": "#E5ECF6",
              "width": 0.5
             }
            },
            "type": "bar"
           }
          ],
          "barpolar": [
           {
            "marker": {
             "line": {
              "color": "#E5ECF6",
              "width": 0.5
             }
            },
            "type": "barpolar"
           }
          ],
          "carpet": [
           {
            "aaxis": {
             "endlinecolor": "#2a3f5f",
             "gridcolor": "white",
             "linecolor": "white",
             "minorgridcolor": "white",
             "startlinecolor": "#2a3f5f"
            },
            "baxis": {
             "endlinecolor": "#2a3f5f",
             "gridcolor": "white",
             "linecolor": "white",
             "minorgridcolor": "white",
             "startlinecolor": "#2a3f5f"
            },
            "type": "carpet"
           }
          ],
          "choropleth": [
           {
            "colorbar": {
             "outlinewidth": 0,
             "ticks": ""
            },
            "type": "choropleth"
           }
          ],
          "contour": [
           {
            "colorbar": {
             "outlinewidth": 0,
             "ticks": ""
            },
            "colorscale": [
             [
              0,
              "#0d0887"
             ],
             [
              0.1111111111111111,
              "#46039f"
             ],
             [
              0.2222222222222222,
              "#7201a8"
             ],
             [
              0.3333333333333333,
              "#9c179e"
             ],
             [
              0.4444444444444444,
              "#bd3786"
             ],
             [
              0.5555555555555556,
              "#d8576b"
             ],
             [
              0.6666666666666666,
              "#ed7953"
             ],
             [
              0.7777777777777778,
              "#fb9f3a"
             ],
             [
              0.8888888888888888,
              "#fdca26"
             ],
             [
              1,
              "#f0f921"
             ]
            ],
            "type": "contour"
           }
          ],
          "contourcarpet": [
           {
            "colorbar": {
             "outlinewidth": 0,
             "ticks": ""
            },
            "type": "contourcarpet"
           }
          ],
          "heatmap": [
           {
            "colorbar": {
             "outlinewidth": 0,
             "ticks": ""
            },
            "colorscale": [
             [
              0,
              "#0d0887"
             ],
             [
              0.1111111111111111,
              "#46039f"
             ],
             [
              0.2222222222222222,
              "#7201a8"
             ],
             [
              0.3333333333333333,
              "#9c179e"
             ],
             [
              0.4444444444444444,
              "#bd3786"
             ],
             [
              0.5555555555555556,
              "#d8576b"
             ],
             [
              0.6666666666666666,
              "#ed7953"
             ],
             [
              0.7777777777777778,
              "#fb9f3a"
             ],
             [
              0.8888888888888888,
              "#fdca26"
             ],
             [
              1,
              "#f0f921"
             ]
            ],
            "type": "heatmap"
           }
          ],
          "heatmapgl": [
           {
            "colorbar": {
             "outlinewidth": 0,
             "ticks": ""
            },
            "colorscale": [
             [
              0,
              "#0d0887"
             ],
             [
              0.1111111111111111,
              "#46039f"
             ],
             [
              0.2222222222222222,
              "#7201a8"
             ],
             [
              0.3333333333333333,
              "#9c179e"
             ],
             [
              0.4444444444444444,
              "#bd3786"
             ],
             [
              0.5555555555555556,
              "#d8576b"
             ],
             [
              0.6666666666666666,
              "#ed7953"
             ],
             [
              0.7777777777777778,
              "#fb9f3a"
             ],
             [
              0.8888888888888888,
              "#fdca26"
             ],
             [
              1,
              "#f0f921"
             ]
            ],
            "type": "heatmapgl"
           }
          ],
          "histogram": [
           {
            "marker": {
             "colorbar": {
              "outlinewidth": 0,
              "ticks": ""
             }
            },
            "type": "histogram"
           }
          ],
          "histogram2d": [
           {
            "colorbar": {
             "outlinewidth": 0,
             "ticks": ""
            },
            "colorscale": [
             [
              0,
              "#0d0887"
             ],
             [
              0.1111111111111111,
              "#46039f"
             ],
             [
              0.2222222222222222,
              "#7201a8"
             ],
             [
              0.3333333333333333,
              "#9c179e"
             ],
             [
              0.4444444444444444,
              "#bd3786"
             ],
             [
              0.5555555555555556,
              "#d8576b"
             ],
             [
              0.6666666666666666,
              "#ed7953"
             ],
             [
              0.7777777777777778,
              "#fb9f3a"
             ],
             [
              0.8888888888888888,
              "#fdca26"
             ],
             [
              1,
              "#f0f921"
             ]
            ],
            "type": "histogram2d"
           }
          ],
          "histogram2dcontour": [
           {
            "colorbar": {
             "outlinewidth": 0,
             "ticks": ""
            },
            "colorscale": [
             [
              0,
              "#0d0887"
             ],
             [
              0.1111111111111111,
              "#46039f"
             ],
             [
              0.2222222222222222,
              "#7201a8"
             ],
             [
              0.3333333333333333,
              "#9c179e"
             ],
             [
              0.4444444444444444,
              "#bd3786"
             ],
             [
              0.5555555555555556,
              "#d8576b"
             ],
             [
              0.6666666666666666,
              "#ed7953"
             ],
             [
              0.7777777777777778,
              "#fb9f3a"
             ],
             [
              0.8888888888888888,
              "#fdca26"
             ],
             [
              1,
              "#f0f921"
             ]
            ],
            "type": "histogram2dcontour"
           }
          ],
          "mesh3d": [
           {
            "colorbar": {
             "outlinewidth": 0,
             "ticks": ""
            },
            "type": "mesh3d"
           }
          ],
          "parcoords": [
           {
            "line": {
             "colorbar": {
              "outlinewidth": 0,
              "ticks": ""
             }
            },
            "type": "parcoords"
           }
          ],
          "pie": [
           {
            "automargin": true,
            "type": "pie"
           }
          ],
          "scatter": [
           {
            "marker": {
             "colorbar": {
              "outlinewidth": 0,
              "ticks": ""
             }
            },
            "type": "scatter"
           }
          ],
          "scatter3d": [
           {
            "line": {
             "colorbar": {
              "outlinewidth": 0,
              "ticks": ""
             }
            },
            "marker": {
             "colorbar": {
              "outlinewidth": 0,
              "ticks": ""
             }
            },
            "type": "scatter3d"
           }
          ],
          "scattercarpet": [
           {
            "marker": {
             "colorbar": {
              "outlinewidth": 0,
              "ticks": ""
             }
            },
            "type": "scattercarpet"
           }
          ],
          "scattergeo": [
           {
            "marker": {
             "colorbar": {
              "outlinewidth": 0,
              "ticks": ""
             }
            },
            "type": "scattergeo"
           }
          ],
          "scattergl": [
           {
            "marker": {
             "colorbar": {
              "outlinewidth": 0,
              "ticks": ""
             }
            },
            "type": "scattergl"
           }
          ],
          "scattermapbox": [
           {
            "marker": {
             "colorbar": {
              "outlinewidth": 0,
              "ticks": ""
             }
            },
            "type": "scattermapbox"
           }
          ],
          "scatterpolar": [
           {
            "marker": {
             "colorbar": {
              "outlinewidth": 0,
              "ticks": ""
             }
            },
            "type": "scatterpolar"
           }
          ],
          "scatterpolargl": [
           {
            "marker": {
             "colorbar": {
              "outlinewidth": 0,
              "ticks": ""
             }
            },
            "type": "scatterpolargl"
           }
          ],
          "scatterternary": [
           {
            "marker": {
             "colorbar": {
              "outlinewidth": 0,
              "ticks": ""
             }
            },
            "type": "scatterternary"
           }
          ],
          "surface": [
           {
            "colorbar": {
             "outlinewidth": 0,
             "ticks": ""
            },
            "colorscale": [
             [
              0,
              "#0d0887"
             ],
             [
              0.1111111111111111,
              "#46039f"
             ],
             [
              0.2222222222222222,
              "#7201a8"
             ],
             [
              0.3333333333333333,
              "#9c179e"
             ],
             [
              0.4444444444444444,
              "#bd3786"
             ],
             [
              0.5555555555555556,
              "#d8576b"
             ],
             [
              0.6666666666666666,
              "#ed7953"
             ],
             [
              0.7777777777777778,
              "#fb9f3a"
             ],
             [
              0.8888888888888888,
              "#fdca26"
             ],
             [
              1,
              "#f0f921"
             ]
            ],
            "type": "surface"
           }
          ],
          "table": [
           {
            "cells": {
             "fill": {
              "color": "#EBF0F8"
             },
             "line": {
              "color": "white"
             }
            },
            "header": {
             "fill": {
              "color": "#C8D4E3"
             },
             "line": {
              "color": "white"
             }
            },
            "type": "table"
           }
          ]
         },
         "layout": {
          "annotationdefaults": {
           "arrowcolor": "#2a3f5f",
           "arrowhead": 0,
           "arrowwidth": 1
          },
          "coloraxis": {
           "colorbar": {
            "outlinewidth": 0,
            "ticks": ""
           }
          },
          "colorscale": {
           "diverging": [
            [
             0,
             "#8e0152"
            ],
            [
             0.1,
             "#c51b7d"
            ],
            [
             0.2,
             "#de77ae"
            ],
            [
             0.3,
             "#f1b6da"
            ],
            [
             0.4,
             "#fde0ef"
            ],
            [
             0.5,
             "#f7f7f7"
            ],
            [
             0.6,
             "#e6f5d0"
            ],
            [
             0.7,
             "#b8e186"
            ],
            [
             0.8,
             "#7fbc41"
            ],
            [
             0.9,
             "#4d9221"
            ],
            [
             1,
             "#276419"
            ]
           ],
           "sequential": [
            [
             0,
             "#0d0887"
            ],
            [
             0.1111111111111111,
             "#46039f"
            ],
            [
             0.2222222222222222,
             "#7201a8"
            ],
            [
             0.3333333333333333,
             "#9c179e"
            ],
            [
             0.4444444444444444,
             "#bd3786"
            ],
            [
             0.5555555555555556,
             "#d8576b"
            ],
            [
             0.6666666666666666,
             "#ed7953"
            ],
            [
             0.7777777777777778,
             "#fb9f3a"
            ],
            [
             0.8888888888888888,
             "#fdca26"
            ],
            [
             1,
             "#f0f921"
            ]
           ],
           "sequentialminus": [
            [
             0,
             "#0d0887"
            ],
            [
             0.1111111111111111,
             "#46039f"
            ],
            [
             0.2222222222222222,
             "#7201a8"
            ],
            [
             0.3333333333333333,
             "#9c179e"
            ],
            [
             0.4444444444444444,
             "#bd3786"
            ],
            [
             0.5555555555555556,
             "#d8576b"
            ],
            [
             0.6666666666666666,
             "#ed7953"
            ],
            [
             0.7777777777777778,
             "#fb9f3a"
            ],
            [
             0.8888888888888888,
             "#fdca26"
            ],
            [
             1,
             "#f0f921"
            ]
           ]
          },
          "colorway": [
           "#636efa",
           "#EF553B",
           "#00cc96",
           "#ab63fa",
           "#FFA15A",
           "#19d3f3",
           "#FF6692",
           "#B6E880",
           "#FF97FF",
           "#FECB52"
          ],
          "font": {
           "color": "#2a3f5f"
          },
          "geo": {
           "bgcolor": "white",
           "lakecolor": "white",
           "landcolor": "#E5ECF6",
           "showlakes": true,
           "showland": true,
           "subunitcolor": "white"
          },
          "hoverlabel": {
           "align": "left"
          },
          "hovermode": "closest",
          "mapbox": {
           "style": "light"
          },
          "paper_bgcolor": "white",
          "plot_bgcolor": "#E5ECF6",
          "polar": {
           "angularaxis": {
            "gridcolor": "white",
            "linecolor": "white",
            "ticks": ""
           },
           "bgcolor": "#E5ECF6",
           "radialaxis": {
            "gridcolor": "white",
            "linecolor": "white",
            "ticks": ""
           }
          },
          "scene": {
           "xaxis": {
            "backgroundcolor": "#E5ECF6",
            "gridcolor": "white",
            "gridwidth": 2,
            "linecolor": "white",
            "showbackground": true,
            "ticks": "",
            "zerolinecolor": "white"
           },
           "yaxis": {
            "backgroundcolor": "#E5ECF6",
            "gridcolor": "white",
            "gridwidth": 2,
            "linecolor": "white",
            "showbackground": true,
            "ticks": "",
            "zerolinecolor": "white"
           },
           "zaxis": {
            "backgroundcolor": "#E5ECF6",
            "gridcolor": "white",
            "gridwidth": 2,
            "linecolor": "white",
            "showbackground": true,
            "ticks": "",
            "zerolinecolor": "white"
           }
          },
          "shapedefaults": {
           "line": {
            "color": "#2a3f5f"
           }
          },
          "ternary": {
           "aaxis": {
            "gridcolor": "white",
            "linecolor": "white",
            "ticks": ""
           },
           "baxis": {
            "gridcolor": "white",
            "linecolor": "white",
            "ticks": ""
           },
           "bgcolor": "#E5ECF6",
           "caxis": {
            "gridcolor": "white",
            "linecolor": "white",
            "ticks": ""
           }
          },
          "title": {
           "x": 0.05
          },
          "xaxis": {
           "automargin": true,
           "gridcolor": "white",
           "linecolor": "white",
           "ticks": "",
           "title": {
            "standoff": 15
           },
           "zerolinecolor": "white",
           "zerolinewidth": 2
          },
          "yaxis": {
           "automargin": true,
           "gridcolor": "white",
           "linecolor": "white",
           "ticks": "",
           "title": {
            "standoff": 15
           },
           "zerolinecolor": "white",
           "zerolinewidth": 2
          }
         }
        },
        "title": {
         "text": "Solar Power Yearly Usage of each primary facility"
        },
        "violinmode": "group",
        "xaxis": {
         "anchor": "y",
         "autorange": true,
         "domain": [
          0,
          1
         ],
         "range": [
          -0.5,
          12.5
         ],
         "title": {
          "text": "FacilityName"
         },
         "type": "category"
        },
        "yaxis": {
         "anchor": "x",
         "autorange": true,
         "domain": [
          0,
          1
         ],
         "range": [
          -2740373.8927990845,
          9161841.892799083
         ],
         "title": {
          "text": "value"
         },
         "type": "linear"
        }
       }
      },
      "image/png": "[encoded data removed]",
      "text/html": [
       "<div>\n",
       "        \n",
       "        \n",
       "            <div id=\"07213f93-549c-4f3a-b10a-436f252ba2bd\" class=\"plotly-graph-div\" style=\"height:525px; width:100%;\"></div>\n",
       "            <script type=\"text/javascript\">\n",
       "                require([\"plotly\"], function(Plotly) {\n",
       "                    window.PLOTLYENV=window.PLOTLYENV || {};\n",
       "                    \n",
       "                if (document.getElementById(\"07213f93-549c-4f3a-b10a-436f252ba2bd\")) {\n",
       "                    Plotly.newPlot(\n",
       "                        '07213f93-549c-4f3a-b10a-436f252ba2bd',\n",
       "                        [{\"alignmentgroup\": \"True\", \"box\": {\"visible\": false}, \"hovertemplate\": \"FacilityName=%{x}<br>value=%{y}<extra></extra>\", \"legendgroup\": \"\", \"marker\": {\"color\": \"#636efa\"}, \"name\": \"\", \"offsetgroup\": \"\", \"orientation\": \"v\", \"scalegroup\": \"True\", \"showlegend\": false, \"type\": \"violin\", \"x\": [\"BEARSPAW SALT SILO\", \"BEARSPAW SALT SILO\", \"BEARSPAW SALT SILO\", \"BEARSPAW SALT SILO\", \"BEARSPAW SALT SILO\", \"BEARSPAW SALT SILO\", \"BEARSPAW SALT SILO\", \"BEARSPAW SALT SILO\", \"BEARSPAW WATER TREATMENT PLANT\", \"BEARSPAW WATER TREATMENT PLANT\", \"BEARSPAW WATER TREATMENT PLANT\", \"BEARSPAW WATER TREATMENT PLANT\", \"BEARSPAW WATER TREATMENT PLANT\", \"BEARSPAW WATER TREATMENT PLANT\", \"BEARSPAW WATER TREATMENT PLANT\", \"BEARSPAW WATER TREATMENT PLANT\", \"CORPORATE WAREHOUSE\", \"CORPORATE WAREHOUSE\", \"CORPORATE WAREHOUSE\", \"CORPORATE WAREHOUSE\", \"CORPORATE WAREHOUSE\", \"CORPORATE WAREHOUSE\", \"CORPORATE WAREHOUSE\", \"CORPORATE WAREHOUSE\", \"CTRAIN STATION - 69TH STREET SW\", \"CTRAIN STATION - 69TH STREET SW\", \"CTRAIN STATION - 69TH STREET SW\", \"CTRAIN STATION - 69TH STREET SW\", \"CTRAIN STATION - 69TH STREET SW\", \"CTRAIN STATION - 69TH STREET SW\", \"CTRAIN STATION - 69TH STREET SW\", \"CTRAIN STATION - 69TH STREET SW\", \"FIRE HEADQUARTERS\", \"FIRE HEADQUARTERS\", \"FIRE HEADQUARTERS\", \"FIRE HEADQUARTERS\", \"FIRE HEADQUARTERS\", \"FIRE HEADQUARTERS\", \"FIRE HEADQUARTERS\", \"FIRE HEADQUARTERS\", \"FIRE STATION 07 - MOUNT PLEASANT\", \"FIRE STATION 07 - MOUNT PLEASANT\", \"FIRE STATION 07 - MOUNT PLEASANT\", \"FIRE STATION 07 - MOUNT PLEASANT\", \"FIRE STATION 07 - MOUNT PLEASANT\", \"FIRE STATION 07 - MOUNT PLEASANT\", \"FIRE STATION 07 - MOUNT PLEASANT\", \"FIRE STATION 07 - MOUNT PLEASANT\", \"FIRE STATION 42 - TUSCANY\", \"FIRE STATION 42 - TUSCANY\", \"FIRE STATION 42 - TUSCANY\", \"FIRE STATION 42 - TUSCANY\", \"FIRE STATION 42 - TUSCANY\", \"FIRE STATION 42 - TUSCANY\", \"FIRE STATION 42 - TUSCANY\", \"FIRE STATION 42 - TUSCANY\", \"GLENMORE WATER TREATMENT PLANT - WB\", \"GLENMORE WATER TREATMENT PLANT - WB\", \"GLENMORE WATER TREATMENT PLANT - WB\", \"GLENMORE WATER TREATMENT PLANT - WB\", \"GLENMORE WATER TREATMENT PLANT - WB\", \"GLENMORE WATER TREATMENT PLANT - WB\", \"GLENMORE WATER TREATMENT PLANT - WB\", \"GLENMORE WATER TREATMENT PLANT - WB\", \"MANCHESTER BUILDING M\", \"MANCHESTER BUILDING M\", \"MANCHESTER BUILDING M\", \"MANCHESTER BUILDING M\", \"MANCHESTER BUILDING M\", \"MANCHESTER BUILDING M\", \"MANCHESTER BUILDING M\", \"MANCHESTER BUILDING M\", \"SARCEE OWC - ADMINISTRATION BUILDING\", \"SARCEE OWC - ADMINISTRATION BUILDING\", \"SARCEE OWC - ADMINISTRATION BUILDING\", \"SARCEE OWC - ADMINISTRATION BUILDING\", \"SARCEE OWC - ADMINISTRATION BUILDING\", \"SARCEE OWC - ADMINISTRATION BUILDING\", \"SARCEE OWC - ADMINISTRATION BUILDING\", \"SARCEE OWC - ADMINISTRATION BUILDING\", \"SH - BLDG W (COMPOST FACILITY)\", \"SH - BLDG W (COMPOST FACILITY)\", \"SH - BLDG W (COMPOST FACILITY)\", \"SH - BLDG W (COMPOST FACILITY)\", \"SH - BLDG W (COMPOST FACILITY)\", \"SH - BLDG W (COMPOST FACILITY)\", \"SH - BLDG W (COMPOST FACILITY)\", \"SH - BLDG W (COMPOST FACILITY)\", \"SOUTHLAND LEISURE CENTRE\", \"SOUTHLAND LEISURE CENTRE\", \"SOUTHLAND LEISURE CENTRE\", \"SOUTHLAND LEISURE CENTRE\", \"SOUTHLAND LEISURE CENTRE\", \"SOUTHLAND LEISURE CENTRE\", \"SOUTHLAND LEISURE CENTRE\", \"SOUTHLAND LEISURE CENTRE\", \"WHITEHORN MULTI SERVICE CENTRE\", \"WHITEHORN MULTI SERVICE CENTRE\", \"WHITEHORN MULTI SERVICE CENTRE\", \"WHITEHORN MULTI SERVICE CENTRE\", \"WHITEHORN MULTI SERVICE CENTRE\", \"WHITEHORN MULTI SERVICE CENTRE\", \"WHITEHORN MULTI SERVICE CENTRE\", \"WHITEHORN MULTI SERVICE CENTRE\"], \"x0\": \" \", \"xaxis\": \"x\", \"y\": [30258.0, 53333.0, 52745.0, 41361.0, 21530.0, 44588.0, 22003.0, 25680.0, null, null, null, 9791.0, 678536.0, 652587.0, 635422.0, 303027.0, null, null, null, 131593.0, 114787.0, 102931.0, 132010.0, 95881.0, null, null, null, null, 18536.0, 34891.0, 41160.0, 28126.0, null, null, null, 15354.0, 16725.0, 17176.0, 16572.0, 12328.0, null, null, null, 1322.0, 23928.0, 31510.0, 32930.0, 23707.0, null, null, null, null, 1214.0, 19822.0, 18929.0, 14990.0, null, null, null, 292019.0, 249129.0, 270977.0, 293788.0, 180644.0, null, null, null, null, 29390.0, 38138.0, 41756.0, 25765.0, null, null, null, null, 32099.0, 52613.0, 56295.0, 39875.0, null, null, null, null, 1052172.0, 1316807.0, 5369296.0, 3088045.0, null, 36003.0, 162547.0, 167406.0, 142226.0, 152230.0, 158293.0, 109947.0, null, null, null, 468438.0, 393663.0, 427151.0, 387335.0, 302970.0], \"y0\": \" \", \"yaxis\": \"y\"}],\n",
       "                        {\"legend\": {\"tracegroupgap\": 0}, \"template\": {\"data\": {\"bar\": [{\"error_x\": {\"color\": \"#2a3f5f\"}, \"error_y\": {\"color\": \"#2a3f5f\"}, \"marker\": {\"line\": {\"color\": \"#E5ECF6\", \"width\": 0.5}}, \"type\": \"bar\"}], \"barpolar\": [{\"marker\": {\"line\": {\"color\": \"#E5ECF6\", \"width\": 0.5}}, \"type\": \"barpolar\"}], \"carpet\": [{\"aaxis\": {\"endlinecolor\": \"#2a3f5f\", \"gridcolor\": \"white\", \"linecolor\": \"white\", \"minorgridcolor\": \"white\", \"startlinecolor\": \"#2a3f5f\"}, \"baxis\": {\"endlinecolor\": \"#2a3f5f\", \"gridcolor\": \"white\", \"linecolor\": \"white\", \"minorgridcolor\": \"white\", \"startlinecolor\": \"#2a3f5f\"}, \"type\": \"carpet\"}], \"choropleth\": [{\"colorbar\": {\"outlinewidth\": 0, \"ticks\": \"\"}, \"type\": \"choropleth\"}], \"contour\": [{\"colorbar\": {\"outlinewidth\": 0, \"ticks\": \"\"}, \"colorscale\": [[0.0, \"#0d0887\"], [0.1111111111111111, \"#46039f\"], [0.2222222222222222, \"#7201a8\"], [0.3333333333333333, \"#9c179e\"], [0.4444444444444444, \"#bd3786\"], [0.5555555555555556, \"#d8576b\"], [0.6666666666666666, \"#ed7953\"], [0.7777777777777778, \"#fb9f3a\"], [0.8888888888888888, \"#fdca26\"], [1.0, \"#f0f921\"]], \"type\": \"contour\"}], \"contourcarpet\": [{\"colorbar\": {\"outlinewidth\": 0, \"ticks\": \"\"}, \"type\": \"contourcarpet\"}], \"heatmap\": [{\"colorbar\": {\"outlinewidth\": 0, \"ticks\": \"\"}, \"colorscale\": [[0.0, \"#0d0887\"], [0.1111111111111111, \"#46039f\"], [0.2222222222222222, \"#7201a8\"], [0.3333333333333333, \"#9c179e\"], [0.4444444444444444, \"#bd3786\"], [0.5555555555555556, \"#d8576b\"], [0.6666666666666666, \"#ed7953\"], [0.7777777777777778, \"#fb9f3a\"], [0.8888888888888888, \"#fdca26\"], [1.0, \"#f0f921\"]], \"type\": \"heatmap\"}], \"heatmapgl\": [{\"colorbar\": {\"outlinewidth\": 0, \"ticks\": \"\"}, \"colorscale\": [[0.0, \"#0d0887\"], [0.1111111111111111, \"#46039f\"], [0.2222222222222222, \"#7201a8\"], [0.3333333333333333, \"#9c179e\"], [0.4444444444444444, \"#bd3786\"], [0.5555555555555556, \"#d8576b\"], [0.6666666666666666, \"#ed7953\"], [0.7777777777777778, \"#fb9f3a\"], [0.8888888888888888, \"#fdca26\"], [1.0, \"#f0f921\"]], \"type\": \"heatmapgl\"}], \"histogram\": [{\"marker\": {\"colorbar\": {\"outlinewidth\": 0, \"ticks\": \"\"}}, \"type\": \"histogram\"}], \"histogram2d\": [{\"colorbar\": {\"outlinewidth\": 0, \"ticks\": \"\"}, \"colorscale\": [[0.0, \"#0d0887\"], [0.1111111111111111, \"#46039f\"], [0.2222222222222222, \"#7201a8\"], [0.3333333333333333, \"#9c179e\"], [0.4444444444444444, \"#bd3786\"], [0.5555555555555556, \"#d8576b\"], [0.6666666666666666, \"#ed7953\"], [0.7777777777777778, \"#fb9f3a\"], [0.8888888888888888, \"#fdca26\"], [1.0, \"#f0f921\"]], \"type\": \"histogram2d\"}], \"histogram2dcontour\": [{\"colorbar\": {\"outlinewidth\": 0, \"ticks\": \"\"}, \"colorscale\": [[0.0, \"#0d0887\"], [0.1111111111111111, \"#46039f\"], [0.2222222222222222, \"#7201a8\"], [0.3333333333333333, \"#9c179e\"], [0.4444444444444444, \"#bd3786\"], [0.5555555555555556, \"#d8576b\"], [0.6666666666666666, \"#ed7953\"], [0.7777777777777778, \"#fb9f3a\"], [0.8888888888888888, \"#fdca26\"], [1.0, \"#f0f921\"]], \"type\": \"histogram2dcontour\"}], \"mesh3d\": [{\"colorbar\": {\"outlinewidth\": 0, \"ticks\": \"\"}, \"type\": \"mesh3d\"}], \"parcoords\": [{\"line\": {\"colorbar\": {\"outlinewidth\": 0, \"ticks\": \"\"}}, \"type\": \"parcoords\"}], \"pie\": [{\"automargin\": true, \"type\": \"pie\"}], \"scatter\": [{\"marker\": {\"colorbar\": {\"outlinewidth\": 0, \"ticks\": \"\"}}, \"type\": \"scatter\"}], \"scatter3d\": [{\"line\": {\"colorbar\": {\"outlinewidth\": 0, \"ticks\": \"\"}}, \"marker\": {\"colorbar\": {\"outlinewidth\": 0, \"ticks\": \"\"}}, \"type\": \"scatter3d\"}], \"scattercarpet\": [{\"marker\": {\"colorbar\": {\"outlinewidth\": 0, \"ticks\": \"\"}}, \"type\": \"scattercarpet\"}], \"scattergeo\": [{\"marker\": {\"colorbar\": {\"outlinewidth\": 0, \"ticks\": \"\"}}, \"type\": \"scattergeo\"}], \"scattergl\": [{\"marker\": {\"colorbar\": {\"outlinewidth\": 0, \"ticks\": \"\"}}, \"type\": \"scattergl\"}], \"scattermapbox\": [{\"marker\": {\"colorbar\": {\"outlinewidth\": 0, \"ticks\": \"\"}}, \"type\": \"scattermapbox\"}], \"scatterpolar\": [{\"marker\": {\"colorbar\": {\"outlinewidth\": 0, \"ticks\": \"\"}}, \"type\": \"scatterpolar\"}], \"scatterpolargl\": [{\"marker\": {\"colorbar\": {\"outlinewidth\": 0, \"ticks\": \"\"}}, \"type\": \"scatterpolargl\"}], \"scatterternary\": [{\"marker\": {\"colorbar\": {\"outlinewidth\": 0, \"ticks\": \"\"}}, \"type\": \"scatterternary\"}], \"surface\": [{\"colorbar\": {\"outlinewidth\": 0, \"ticks\": \"\"}, \"colorscale\": [[0.0, \"#0d0887\"], [0.1111111111111111, \"#46039f\"], [0.2222222222222222, \"#7201a8\"], [0.3333333333333333, \"#9c179e\"], [0.4444444444444444, \"#bd3786\"], [0.5555555555555556, \"#d8576b\"], [0.6666666666666666, \"#ed7953\"], [0.7777777777777778, \"#fb9f3a\"], [0.8888888888888888, \"#fdca26\"], [1.0, \"#f0f921\"]], \"type\": \"surface\"}], \"table\": [{\"cells\": {\"fill\": {\"color\": \"#EBF0F8\"}, \"line\": {\"color\": \"white\"}}, \"header\": {\"fill\": {\"color\": \"#C8D4E3\"}, \"line\": {\"color\": \"white\"}}, \"type\": \"table\"}]}, \"layout\": {\"annotationdefaults\": {\"arrowcolor\": \"#2a3f5f\", \"arrowhead\": 0, \"arrowwidth\": 1}, \"coloraxis\": {\"colorbar\": {\"outlinewidth\": 0, \"ticks\": \"\"}}, \"colorscale\": {\"diverging\": [[0, \"#8e0152\"], [0.1, \"#c51b7d\"], [0.2, \"#de77ae\"], [0.3, \"#f1b6da\"], [0.4, \"#fde0ef\"], [0.5, \"#f7f7f7\"], [0.6, \"#e6f5d0\"], [0.7, \"#b8e186\"], [0.8, \"#7fbc41\"], [0.9, \"#4d9221\"], [1, \"#276419\"]], \"sequential\": [[0.0, \"#0d0887\"], [0.1111111111111111, \"#46039f\"], [0.2222222222222222, \"#7201a8\"], [0.3333333333333333, \"#9c179e\"], [0.4444444444444444, \"#bd3786\"], [0.5555555555555556, \"#d8576b\"], [0.6666666666666666, \"#ed7953\"], [0.7777777777777778, \"#fb9f3a\"], [0.8888888888888888, \"#fdca26\"], [1.0, \"#f0f921\"]], \"sequentialminus\": [[0.0, \"#0d0887\"], [0.1111111111111111, \"#46039f\"], [0.2222222222222222, \"#7201a8\"], [0.3333333333333333, \"#9c179e\"], [0.4444444444444444, \"#bd3786\"], [0.5555555555555556, \"#d8576b\"], [0.6666666666666666, \"#ed7953\"], [0.7777777777777778, \"#fb9f3a\"], [0.8888888888888888, \"#fdca26\"], [1.0, \"#f0f921\"]]}, \"colorway\": [\"#636efa\", \"#EF553B\", \"#00cc96\", \"#ab63fa\", \"#FFA15A\", \"#19d3f3\", \"#FF6692\", \"#B6E880\", \"#FF97FF\", \"#FECB52\"], \"font\": {\"color\": \"#2a3f5f\"}, \"geo\": {\"bgcolor\": \"white\", \"lakecolor\": \"white\", \"landcolor\": \"#E5ECF6\", \"showlakes\": true, \"showland\": true, \"subunitcolor\": \"white\"}, \"hoverlabel\": {\"align\": \"left\"}, \"hovermode\": \"closest\", \"mapbox\": {\"style\": \"light\"}, \"paper_bgcolor\": \"white\", \"plot_bgcolor\": \"#E5ECF6\", \"polar\": {\"angularaxis\": {\"gridcolor\": \"white\", \"linecolor\": \"white\", \"ticks\": \"\"}, \"bgcolor\": \"#E5ECF6\", \"radialaxis\": {\"gridcolor\": \"white\", \"linecolor\": \"white\", \"ticks\": \"\"}}, \"scene\": {\"xaxis\": {\"backgroundcolor\": \"#E5ECF6\", \"gridcolor\": \"white\", \"gridwidth\": 2, \"linecolor\": \"white\", \"showbackground\": true, \"ticks\": \"\", \"zerolinecolor\": \"white\"}, \"yaxis\": {\"backgroundcolor\": \"#E5ECF6\", \"gridcolor\": \"white\", \"gridwidth\": 2, \"linecolor\": \"white\", \"showbackground\": true, \"ticks\": \"\", \"zerolinecolor\": \"white\"}, \"zaxis\": {\"backgroundcolor\": \"#E5ECF6\", \"gridcolor\": \"white\", \"gridwidth\": 2, \"linecolor\": \"white\", \"showbackground\": true, \"ticks\": \"\", \"zerolinecolor\": \"white\"}}, \"shapedefaults\": {\"line\": {\"color\": \"#2a3f5f\"}}, \"ternary\": {\"aaxis\": {\"gridcolor\": \"white\", \"linecolor\": \"white\", \"ticks\": \"\"}, \"baxis\": {\"gridcolor\": \"white\", \"linecolor\": \"white\", \"ticks\": \"\"}, \"bgcolor\": \"#E5ECF6\", \"caxis\": {\"gridcolor\": \"white\", \"linecolor\": \"white\", \"ticks\": \"\"}}, \"title\": {\"x\": 0.05}, \"xaxis\": {\"automargin\": true, \"gridcolor\": \"white\", \"linecolor\": \"white\", \"ticks\": \"\", \"title\": {\"standoff\": 15}, \"zerolinecolor\": \"white\", \"zerolinewidth\": 2}, \"yaxis\": {\"automargin\": true, \"gridcolor\": \"white\", \"linecolor\": \"white\", \"ticks\": \"\", \"title\": {\"standoff\": 15}, \"zerolinecolor\": \"white\", \"zerolinewidth\": 2}}}, \"title\": {\"text\": \"Solar Power Yearly Usage of each primary facility\"}, \"violinmode\": \"group\", \"xaxis\": {\"anchor\": \"y\", \"domain\": [0.0, 1.0], \"title\": {\"text\": \"FacilityName\"}}, \"yaxis\": {\"anchor\": \"x\", \"domain\": [0.0, 1.0], \"title\": {\"text\": \"value\"}}},\n",
       "                        {\"responsive\": true}\n",
       "                    ).then(function(){\n",
       "                            \n",
       "var gd = document.getElementById('07213f93-549c-4f3a-b10a-436f252ba2bd');\n",
       "var x = new MutationObserver(function (mutations, observer) {{\n",
       "        var display = window.getComputedStyle(gd).display;\n",
       "        if (!display || display === 'none') {{\n",
       "            console.log([gd, 'removed!']);\n",
       "            Plotly.purge(gd);\n",
       "            observer.disconnect();\n",
       "        }}\n",
       "}});\n",
       "\n",
       "// Listen for the removal of the full notebook cells\n",
       "var notebookContainer = gd.closest('#notebook-container');\n",
       "if (notebookContainer) {{\n",
       "    x.observe(notebookContainer, {childList: true});\n",
       "}}\n",
       "\n",
       "// Listen for the clearing of the current output cell\n",
       "var outputEl = gd.closest('.output');\n",
       "if (outputEl) {{\n",
       "    x.observe(outputEl, {childList: true});\n",
       "}}\n",
       "\n",
       "                        })\n",
       "                };\n",
       "                });\n",
       "            </script>\n",
       "        </div>"
      ]
     },
     "metadata": {},
     "output_type": "display_data"
    },
    {
     "data": {
      "application/vnd.plotly.v1+json": {
       "config": {
        "plotlyServerURL": "https://plot.ly"
       },
       "data": [
        {
         "hovertemplate": "FacilityName=BEARSPAW SALT SILO<br>value=%{x}<br>Year=%{y}<extra></extra>",
         "legendgroup": "BEARSPAW SALT SILO",
         "marker": {
          "color": "#636efa",
          "symbol": "circle"
         },
         "mode": "markers",
         "name": "BEARSPAW SALT SILO",
         "orientation": "h",
         "showlegend": true,
         "type": "scatter",
         "x": [
          30258,
          53333,
          52745,
          41361,
          21530,
          44588,
          22003,
          25680
         ],
         "xaxis": "x",
         "y": [
          2014,
          2015,
          2016,
          2017,
          2018,
          2019,
          2020,
          2021
         ],
         "yaxis": "y"
        },
        {
         "hovertemplate": "FacilityName=BEARSPAW WATER TREATMENT PLANT<br>value=%{x}<br>Year=%{y}<extra></extra>",
         "legendgroup": "BEARSPAW WATER TREATMENT PLANT",
         "marker": {
          "color": "#EF553B",
          "symbol": "circle"
         },
         "mode": "markers",
         "name": "BEARSPAW WATER TREATMENT PLANT",
         "orientation": "h",
         "showlegend": true,
         "type": "scatter",
         "x": [
          null,
          null,
          null,
          9791,
          678536,
          652587,
          635422,
          303027
         ],
         "xaxis": "x",
         "y": [
          2014,
          2015,
          2016,
          2017,
          2018,
          2019,
          2020,
          2021
         ],
         "yaxis": "y"
        },
        {
         "hovertemplate": "FacilityName=CORPORATE WAREHOUSE<br>value=%{x}<br>Year=%{y}<extra></extra>",
         "legendgroup": "CORPORATE WAREHOUSE",
         "marker": {
          "color": "#00cc96",
          "symbol": "circle"
         },
         "mode": "markers",
         "name": "CORPORATE WAREHOUSE",
         "orientation": "h",
         "showlegend": true,
         "type": "scatter",
         "x": [
          null,
          null,
          null,
          131593,
          114787,
          102931,
          132010,
          95881
         ],
         "xaxis": "x",
         "y": [
          2014,
          2015,
          2016,
          2017,
          2018,
          2019,
          2020,
          2021
         ],
         "yaxis": "y"
        },
        {
         "hovertemplate": "FacilityName=CTRAIN STATION - 69TH STREET SW<br>value=%{x}<br>Year=%{y}<extra></extra>",
         "legendgroup": "CTRAIN STATION - 69TH STREET SW",
         "marker": {
          "color": "#ab63fa",
          "symbol": "circle"
         },
         "mode": "markers",
         "name": "CTRAIN STATION - 69TH STREET SW",
         "orientation": "h",
         "showlegend": true,
         "type": "scatter",
         "x": [
          null,
          null,
          null,
          null,
          18536,
          34891,
          41160,
          28126
         ],
         "xaxis": "x",
         "y": [
          2014,
          2015,
          2016,
          2017,
          2018,
          2019,
          2020,
          2021
         ],
         "yaxis": "y"
        },
        {
         "hovertemplate": "FacilityName=FIRE HEADQUARTERS<br>value=%{x}<br>Year=%{y}<extra></extra>",
         "legendgroup": "FIRE HEADQUARTERS",
         "marker": {
          "color": "#FFA15A",
          "symbol": "circle"
         },
         "mode": "markers",
         "name": "FIRE HEADQUARTERS",
         "orientation": "h",
         "showlegend": true,
         "type": "scatter",
         "x": [
          null,
          null,
          null,
          15354,
          16725,
          17176,
          16572,
          12328
         ],
         "xaxis": "x",
         "y": [
          2014,
          2015,
          2016,
          2017,
          2018,
          2019,
          2020,
          2021
         ],
         "yaxis": "y"
        },
        {
         "hovertemplate": "FacilityName=FIRE STATION 07 - MOUNT PLEASANT<br>value=%{x}<br>Year=%{y}<extra></extra>",
         "legendgroup": "FIRE STATION 07 - MOUNT PLEASANT",
         "marker": {
          "color": "#19d3f3",
          "symbol": "circle"
         },
         "mode": "markers",
         "name": "FIRE STATION 07 - MOUNT PLEASANT",
         "orientation": "h",
         "showlegend": true,
         "type": "scatter",
         "x": [
          null,
          null,
          null,
          1322,
          23928,
          31510,
          32930,
          23707
         ],
         "xaxis": "x",
         "y": [
          2014,
          2015,
          2016,
          2017,
          2018,
          2019,
          2020,
          2021
         ],
         "yaxis": "y"
        },
        {
         "hovertemplate": "FacilityName=FIRE STATION 42 - TUSCANY<br>value=%{x}<br>Year=%{y}<extra></extra>",
         "legendgroup": "FIRE STATION 42 - TUSCANY",
         "marker": {
          "color": "#FF6692",
          "symbol": "circle"
         },
         "mode": "markers",
         "name": "FIRE STATION 42 - TUSCANY",
         "orientation": "h",
         "showlegend": true,
         "type": "scatter",
         "x": [
          null,
          null,
          null,
          null,
          1214,
          19822,
          18929,
          14990
         ],
         "xaxis": "x",
         "y": [
          2014,
          2015,
          2016,
          2017,
          2018,
          2019,
          2020,
          2021
         ],
         "yaxis": "y"
        },
        {
         "hovertemplate": "FacilityName=GLENMORE WATER TREATMENT PLANT - WB<br>value=%{x}<br>Year=%{y}<extra></extra>",
         "legendgroup": "GLENMORE WATER TREATMENT PLANT - WB",
         "marker": {
          "color": "#B6E880",
          "symbol": "circle"
         },
         "mode": "markers",
         "name": "GLENMORE WATER TREATMENT PLANT - WB",
         "orientation": "h",
         "showlegend": true,
         "type": "scatter",
         "x": [
          null,
          null,
          null,
          292019,
          249129,
          270977,
          293788,
          180644
         ],
         "xaxis": "x",
         "y": [
          2014,
          2015,
          2016,
          2017,
          2018,
          2019,
          2020,
          2021
         ],
         "yaxis": "y"
        },
        {
         "hovertemplate": "FacilityName=MANCHESTER BUILDING M<br>value=%{x}<br>Year=%{y}<extra></extra>",
         "legendgroup": "MANCHESTER BUILDING M",
         "marker": {
          "color": "#FF97FF",
          "symbol": "circle"
         },
         "mode": "markers",
         "name": "MANCHESTER BUILDING M",
         "orientation": "h",
         "showlegend": true,
         "type": "scatter",
         "x": [
          null,
          null,
          null,
          null,
          29390,
          38138,
          41756,
          25765
         ],
         "xaxis": "x",
         "y": [
          2014,
          2015,
          2016,
          2017,
          2018,
          2019,
          2020,
          2021
         ],
         "yaxis": "y"
        },
        {
         "hovertemplate": "FacilityName=SARCEE OWC - ADMINISTRATION BUILDING<br>value=%{x}<br>Year=%{y}<extra></extra>",
         "legendgroup": "SARCEE OWC - ADMINISTRATION BUILDING",
         "marker": {
          "color": "#FECB52",
          "symbol": "circle"
         },
         "mode": "markers",
         "name": "SARCEE OWC - ADMINISTRATION BUILDING",
         "orientation": "h",
         "showlegend": true,
         "type": "scatter",
         "x": [
          null,
          null,
          null,
          null,
          32099,
          52613,
          56295,
          39875
         ],
         "xaxis": "x",
         "y": [
          2014,
          2015,
          2016,
          2017,
          2018,
          2019,
          2020,
          2021
         ],
         "yaxis": "y"
        },
        {
         "hovertemplate": "FacilityName=SH - BLDG W (COMPOST FACILITY)<br>value=%{x}<br>Year=%{y}<extra></extra>",
         "legendgroup": "SH - BLDG W (COMPOST FACILITY)",
         "marker": {
          "color": "#636efa",
          "symbol": "circle"
         },
         "mode": "markers",
         "name": "SH - BLDG W (COMPOST FACILITY)",
         "orientation": "h",
         "showlegend": true,
         "type": "scatter",
         "x": [
          null,
          null,
          null,
          null,
          1052172,
          1316807,
          5369296,
          3088045
         ],
         "xaxis": "x",
         "y": [
          2014,
          2015,
          2016,
          2017,
          2018,
          2019,
          2020,
          2021
         ],
         "yaxis": "y"
        },
        {
         "hovertemplate": "FacilityName=SOUTHLAND LEISURE CENTRE<br>value=%{x}<br>Year=%{y}<extra></extra>",
         "legendgroup": "SOUTHLAND LEISURE CENTRE",
         "marker": {
          "color": "#EF553B",
          "symbol": "circle"
         },
         "mode": "markers",
         "name": "SOUTHLAND LEISURE CENTRE",
         "orientation": "h",
         "showlegend": true,
         "type": "scatter",
         "x": [
          null,
          36003,
          162547,
          167406,
          142226,
          152230,
          158293,
          109947
         ],
         "xaxis": "x",
         "y": [
          2014,
          2015,
          2016,
          2017,
          2018,
          2019,
          2020,
          2021
         ],
         "yaxis": "y"
        },
        {
         "hovertemplate": "FacilityName=WHITEHORN MULTI SERVICE CENTRE<br>value=%{x}<br>Year=%{y}<extra></extra>",
         "legendgroup": "WHITEHORN MULTI SERVICE CENTRE",
         "marker": {
          "color": "#00cc96",
          "symbol": "circle"
         },
         "mode": "markers",
         "name": "WHITEHORN MULTI SERVICE CENTRE",
         "orientation": "h",
         "showlegend": true,
         "type": "scatter",
         "x": [
          null,
          null,
          null,
          468438,
          393663,
          427151,
          387335,
          302970
         ],
         "xaxis": "x",
         "y": [
          2014,
          2015,
          2016,
          2017,
          2018,
          2019,
          2020,
          2021
         ],
         "yaxis": "y"
        }
       ],
       "layout": {
        "autosize": true,
        "legend": {
         "title": {
          "text": "FacilityName"
         },
         "tracegroupgap": 0
        },
        "template": {
         "data": {
          "bar": [
           {
            "error_x": {
             "color": "#2a3f5f"
            },
            "error_y": {
             "color": "#2a3f5f"
            },
            "marker": {
             "line": {
              "color": "#E5ECF6",
              "width": 0.5
             }
            },
            "type": "bar"
           }
          ],
          "barpolar": [
           {
            "marker": {
             "line": {
              "color": "#E5ECF6",
              "width": 0.5
             }
            },
            "type": "barpolar"
           }
          ],
          "carpet": [
           {
            "aaxis": {
             "endlinecolor": "#2a3f5f",
             "gridcolor": "white",
             "linecolor": "white",
             "minorgridcolor": "white",
             "startlinecolor": "#2a3f5f"
            },
            "baxis": {
             "endlinecolor": "#2a3f5f",
             "gridcolor": "white",
             "linecolor": "white",
             "minorgridcolor": "white",
             "startlinecolor": "#2a3f5f"
            },
            "type": "carpet"
           }
          ],
          "choropleth": [
           {
            "colorbar": {
             "outlinewidth": 0,
             "ticks": ""
            },
            "type": "choropleth"
           }
          ],
          "contour": [
           {
            "colorbar": {
             "outlinewidth": 0,
             "ticks": ""
            },
            "colorscale": [
             [
              0,
              "#0d0887"
             ],
             [
              0.1111111111111111,
              "#46039f"
             ],
             [
              0.2222222222222222,
              "#7201a8"
             ],
             [
              0.3333333333333333,
              "#9c179e"
             ],
             [
              0.4444444444444444,
              "#bd3786"
             ],
             [
              0.5555555555555556,
              "#d8576b"
             ],
             [
              0.6666666666666666,
              "#ed7953"
             ],
             [
              0.7777777777777778,
              "#fb9f3a"
             ],
             [
              0.8888888888888888,
              "#fdca26"
             ],
             [
              1,
              "#f0f921"
             ]
            ],
            "type": "contour"
           }
          ],
          "contourcarpet": [
           {
            "colorbar": {
             "outlinewidth": 0,
             "ticks": ""
            },
            "type": "contourcarpet"
           }
          ],
          "heatmap": [
           {
            "colorbar": {
             "outlinewidth": 0,
             "ticks": ""
            },
            "colorscale": [
             [
              0,
              "#0d0887"
             ],
             [
              0.1111111111111111,
              "#46039f"
             ],
             [
              0.2222222222222222,
              "#7201a8"
             ],
             [
              0.3333333333333333,
              "#9c179e"
             ],
             [
              0.4444444444444444,
              "#bd3786"
             ],
             [
              0.5555555555555556,
              "#d8576b"
             ],
             [
              0.6666666666666666,
              "#ed7953"
             ],
             [
              0.7777777777777778,
              "#fb9f3a"
             ],
             [
              0.8888888888888888,
              "#fdca26"
             ],
             [
              1,
              "#f0f921"
             ]
            ],
            "type": "heatmap"
           }
          ],
          "heatmapgl": [
           {
            "colorbar": {
             "outlinewidth": 0,
             "ticks": ""
            },
            "colorscale": [
             [
              0,
              "#0d0887"
             ],
             [
              0.1111111111111111,
              "#46039f"
             ],
             [
              0.2222222222222222,
              "#7201a8"
             ],
             [
              0.3333333333333333,
              "#9c179e"
             ],
             [
              0.4444444444444444,
              "#bd3786"
             ],
             [
              0.5555555555555556,
              "#d8576b"
             ],
             [
              0.6666666666666666,
              "#ed7953"
             ],
             [
              0.7777777777777778,
              "#fb9f3a"
             ],
             [
              0.8888888888888888,
              "#fdca26"
             ],
             [
              1,
              "#f0f921"
             ]
            ],
            "type": "heatmapgl"
           }
          ],
          "histogram": [
           {
            "marker": {
             "colorbar": {
              "outlinewidth": 0,
              "ticks": ""
             }
            },
            "type": "histogram"
           }
          ],
          "histogram2d": [
           {
            "colorbar": {
             "outlinewidth": 0,
             "ticks": ""
            },
            "colorscale": [
             [
              0,
              "#0d0887"
             ],
             [
              0.1111111111111111,
              "#46039f"
             ],
             [
              0.2222222222222222,
              "#7201a8"
             ],
             [
              0.3333333333333333,
              "#9c179e"
             ],
             [
              0.4444444444444444,
              "#bd3786"
             ],
             [
              0.5555555555555556,
              "#d8576b"
             ],
             [
              0.6666666666666666,
              "#ed7953"
             ],
             [
              0.7777777777777778,
              "#fb9f3a"
             ],
             [
              0.8888888888888888,
              "#fdca26"
             ],
             [
              1,
              "#f0f921"
             ]
            ],
            "type": "histogram2d"
           }
          ],
          "histogram2dcontour": [
           {
            "colorbar": {
             "outlinewidth": 0,
             "ticks": ""
            },
            "colorscale": [
             [
              0,
              "#0d0887"
             ],
             [
              0.1111111111111111,
              "#46039f"
             ],
             [
              0.2222222222222222,
              "#7201a8"
             ],
             [
              0.3333333333333333,
              "#9c179e"
             ],
             [
              0.4444444444444444,
              "#bd3786"
             ],
             [
              0.5555555555555556,
              "#d8576b"
             ],
             [
              0.6666666666666666,
              "#ed7953"
             ],
             [
              0.7777777777777778,
              "#fb9f3a"
             ],
             [
              0.8888888888888888,
              "#fdca26"
             ],
             [
              1,
              "#f0f921"
             ]
            ],
            "type": "histogram2dcontour"
           }
          ],
          "mesh3d": [
           {
            "colorbar": {
             "outlinewidth": 0,
             "ticks": ""
            },
            "type": "mesh3d"
           }
          ],
          "parcoords": [
           {
            "line": {
             "colorbar": {
              "outlinewidth": 0,
              "ticks": ""
             }
            },
            "type": "parcoords"
           }
          ],
          "pie": [
           {
            "automargin": true,
            "type": "pie"
           }
          ],
          "scatter": [
           {
            "marker": {
             "colorbar": {
              "outlinewidth": 0,
              "ticks": ""
             }
            },
            "type": "scatter"
           }
          ],
          "scatter3d": [
           {
            "line": {
             "colorbar": {
              "outlinewidth": 0,
              "ticks": ""
             }
            },
            "marker": {
             "colorbar": {
              "outlinewidth": 0,
              "ticks": ""
             }
            },
            "type": "scatter3d"
           }
          ],
          "scattercarpet": [
           {
            "marker": {
             "colorbar": {
              "outlinewidth": 0,
              "ticks": ""
             }
            },
            "type": "scattercarpet"
           }
          ],
          "scattergeo": [
           {
            "marker": {
             "colorbar": {
              "outlinewidth": 0,
              "ticks": ""
             }
            },
            "type": "scattergeo"
           }
          ],
          "scattergl": [
           {
            "marker": {
             "colorbar": {
              "outlinewidth": 0,
              "ticks": ""
             }
            },
            "type": "scattergl"
           }
          ],
          "scattermapbox": [
           {
            "marker": {
             "colorbar": {
              "outlinewidth": 0,
              "ticks": ""
             }
            },
            "type": "scattermapbox"
           }
          ],
          "scatterpolar": [
           {
            "marker": {
             "colorbar": {
              "outlinewidth": 0,
              "ticks": ""
             }
            },
            "type": "scatterpolar"
           }
          ],
          "scatterpolargl": [
           {
            "marker": {
             "colorbar": {
              "outlinewidth": 0,
              "ticks": ""
             }
            },
            "type": "scatterpolargl"
           }
          ],
          "scatterternary": [
           {
            "marker": {
             "colorbar": {
              "outlinewidth": 0,
              "ticks": ""
             }
            },
            "type": "scatterternary"
           }
          ],
          "surface": [
           {
            "colorbar": {
             "outlinewidth": 0,
             "ticks": ""
            },
            "colorscale": [
             [
              0,
              "#0d0887"
             ],
             [
              0.1111111111111111,
              "#46039f"
             ],
             [
              0.2222222222222222,
              "#7201a8"
             ],
             [
              0.3333333333333333,
              "#9c179e"
             ],
             [
              0.4444444444444444,
              "#bd3786"
             ],
             [
              0.5555555555555556,
              "#d8576b"
             ],
             [
              0.6666666666666666,
              "#ed7953"
             ],
             [
              0.7777777777777778,
              "#fb9f3a"
             ],
             [
              0.8888888888888888,
              "#fdca26"
             ],
             [
              1,
              "#f0f921"
             ]
            ],
            "type": "surface"
           }
          ],
          "table": [
           {
            "cells": {
             "fill": {
              "color": "#EBF0F8"
             },
             "line": {
              "color": "white"
             }
            },
            "header": {
             "fill": {
              "color": "#C8D4E3"
             },
             "line": {
              "color": "white"
             }
            },
            "type": "table"
           }
          ]
         },
         "layout": {
          "annotationdefaults": {
           "arrowcolor": "#2a3f5f",
           "arrowhead": 0,
           "arrowwidth": 1
          },
          "coloraxis": {
           "colorbar": {
            "outlinewidth": 0,
            "ticks": ""
           }
          },
          "colorscale": {
           "diverging": [
            [
             0,
             "#8e0152"
            ],
            [
             0.1,
             "#c51b7d"
            ],
            [
             0.2,
             "#de77ae"
            ],
            [
             0.3,
             "#f1b6da"
            ],
            [
             0.4,
             "#fde0ef"
            ],
            [
             0.5,
             "#f7f7f7"
            ],
            [
             0.6,
             "#e6f5d0"
            ],
            [
             0.7,
             "#b8e186"
            ],
            [
             0.8,
             "#7fbc41"
            ],
            [
             0.9,
             "#4d9221"
            ],
            [
             1,
             "#276419"
            ]
           ],
           "sequential": [
            [
             0,
             "#0d0887"
            ],
            [
             0.1111111111111111,
             "#46039f"
            ],
            [
             0.2222222222222222,
             "#7201a8"
            ],
            [
             0.3333333333333333,
             "#9c179e"
            ],
            [
             0.4444444444444444,
             "#bd3786"
            ],
            [
             0.5555555555555556,
             "#d8576b"
            ],
            [
             0.6666666666666666,
             "#ed7953"
            ],
            [
             0.7777777777777778,
             "#fb9f3a"
            ],
            [
             0.8888888888888888,
             "#fdca26"
            ],
            [
             1,
             "#f0f921"
            ]
           ],
           "sequentialminus": [
            [
             0,
             "#0d0887"
            ],
            [
             0.1111111111111111,
             "#46039f"
            ],
            [
             0.2222222222222222,
             "#7201a8"
            ],
            [
             0.3333333333333333,
             "#9c179e"
            ],
            [
             0.4444444444444444,
             "#bd3786"
            ],
            [
             0.5555555555555556,
             "#d8576b"
            ],
            [
             0.6666666666666666,
             "#ed7953"
            ],
            [
             0.7777777777777778,
             "#fb9f3a"
            ],
            [
             0.8888888888888888,
             "#fdca26"
            ],
            [
             1,
             "#f0f921"
            ]
           ]
          },
          "colorway": [
           "#636efa",
           "#EF553B",
           "#00cc96",
           "#ab63fa",
           "#FFA15A",
           "#19d3f3",
           "#FF6692",
           "#B6E880",
           "#FF97FF",
           "#FECB52"
          ],
          "font": {
           "color": "#2a3f5f"
          },
          "geo": {
           "bgcolor": "white",
           "lakecolor": "white",
           "landcolor": "#E5ECF6",
           "showlakes": true,
           "showland": true,
           "subunitcolor": "white"
          },
          "hoverlabel": {
           "align": "left"
          },
          "hovermode": "closest",
          "mapbox": {
           "style": "light"
          },
          "paper_bgcolor": "white",
          "plot_bgcolor": "#E5ECF6",
          "polar": {
           "angularaxis": {
            "gridcolor": "white",
            "linecolor": "white",
            "ticks": ""
           },
           "bgcolor": "#E5ECF6",
           "radialaxis": {
            "gridcolor": "white",
            "linecolor": "white",
            "ticks": ""
           }
          },
          "scene": {
           "xaxis": {
            "backgroundcolor": "#E5ECF6",
            "gridcolor": "white",
            "gridwidth": 2,
            "linecolor": "white",
            "showbackground": true,
            "ticks": "",
            "zerolinecolor": "white"
           },
           "yaxis": {
            "backgroundcolor": "#E5ECF6",
            "gridcolor": "white",
            "gridwidth": 2,
            "linecolor": "white",
            "showbackground": true,
            "ticks": "",
            "zerolinecolor": "white"
           },
           "zaxis": {
            "backgroundcolor": "#E5ECF6",
            "gridcolor": "white",
            "gridwidth": 2,
            "linecolor": "white",
            "showbackground": true,
            "ticks": "",
            "zerolinecolor": "white"
           }
          },
          "shapedefaults": {
           "line": {
            "color": "#2a3f5f"
           }
          },
          "ternary": {
           "aaxis": {
            "gridcolor": "white",
            "linecolor": "white",
            "ticks": ""
           },
           "baxis": {
            "gridcolor": "white",
            "linecolor": "white",
            "ticks": ""
           },
           "bgcolor": "#E5ECF6",
           "caxis": {
            "gridcolor": "white",
            "linecolor": "white",
            "ticks": ""
           }
          },
          "title": {
           "x": 0.05
          },
          "xaxis": {
           "automargin": true,
           "gridcolor": "white",
           "linecolor": "white",
           "ticks": "",
           "title": {
            "standoff": 15
           },
           "zerolinecolor": "white",
           "zerolinewidth": 2
          },
          "yaxis": {
           "automargin": true,
           "gridcolor": "white",
           "linecolor": "white",
           "ticks": "",
           "title": {
            "standoff": 15
           },
           "zerolinecolor": "white",
           "zerolinewidth": 2
          }
         }
        },
        "title": {
         "text": "Solar Power Yearly Usage of each primary facility "
        },
        "xaxis": {
         "anchor": "y",
         "autorange": true,
         "domain": [
          0,
          1
         ],
         "range": [
          -335149.1943734015,
          5705659.194373402
         ],
         "title": {
          "text": "value"
         },
         "type": "linear"
        },
        "yaxis": {
         "anchor": "x",
         "autorange": true,
         "domain": [
          0,
          1
         ],
         "range": [
          2013.4872611464968,
          2021.5127388535032
         ],
         "title": {
          "text": "Year"
         },
         "type": "linear"
        }
       }
      },
      "image/png": "[encoded data removed]",
      "text/html": [
       "<div>\n",
       "        \n",
       "        \n",
       "            <div id=\"ff787278-b149-411e-be80-1e8acc123fdc\" class=\"plotly-graph-div\" style=\"height:525px; width:100%;\"></div>\n",
       "            <script type=\"text/javascript\">\n",
       "                require([\"plotly\"], function(Plotly) {\n",
       "                    window.PLOTLYENV=window.PLOTLYENV || {};\n",
       "                    \n",
       "                if (document.getElementById(\"ff787278-b149-411e-be80-1e8acc123fdc\")) {\n",
       "                    Plotly.newPlot(\n",
       "                        'ff787278-b149-411e-be80-1e8acc123fdc',\n",
       "                        [{\"hovertemplate\": \"FacilityName=BEARSPAW SALT SILO<br>value=%{x}<br>Year=%{y}<extra></extra>\", \"legendgroup\": \"BEARSPAW SALT SILO\", \"marker\": {\"color\": \"#636efa\", \"symbol\": \"circle\"}, \"mode\": \"markers\", \"name\": \"BEARSPAW SALT SILO\", \"orientation\": \"h\", \"showlegend\": true, \"type\": \"scatter\", \"x\": [30258.0, 53333.0, 52745.0, 41361.0, 21530.0, 44588.0, 22003.0, 25680.0], \"xaxis\": \"x\", \"y\": [2014, 2015, 2016, 2017, 2018, 2019, 2020, 2021], \"yaxis\": \"y\"}, {\"hovertemplate\": \"FacilityName=BEARSPAW WATER TREATMENT PLANT<br>value=%{x}<br>Year=%{y}<extra></extra>\", \"legendgroup\": \"BEARSPAW WATER TREATMENT PLANT\", \"marker\": {\"color\": \"#EF553B\", \"symbol\": \"circle\"}, \"mode\": \"markers\", \"name\": \"BEARSPAW WATER TREATMENT PLANT\", \"orientation\": \"h\", \"showlegend\": true, \"type\": \"scatter\", \"x\": [null, null, null, 9791.0, 678536.0, 652587.0, 635422.0, 303027.0], \"xaxis\": \"x\", \"y\": [2014, 2015, 2016, 2017, 2018, 2019, 2020, 2021], \"yaxis\": \"y\"}, {\"hovertemplate\": \"FacilityName=CORPORATE WAREHOUSE<br>value=%{x}<br>Year=%{y}<extra></extra>\", \"legendgroup\": \"CORPORATE WAREHOUSE\", \"marker\": {\"color\": \"#00cc96\", \"symbol\": \"circle\"}, \"mode\": \"markers\", \"name\": \"CORPORATE WAREHOUSE\", \"orientation\": \"h\", \"showlegend\": true, \"type\": \"scatter\", \"x\": [null, null, null, 131593.0, 114787.0, 102931.0, 132010.0, 95881.0], \"xaxis\": \"x\", \"y\": [2014, 2015, 2016, 2017, 2018, 2019, 2020, 2021], \"yaxis\": \"y\"}, {\"hovertemplate\": \"FacilityName=CTRAIN STATION - 69TH STREET SW<br>value=%{x}<br>Year=%{y}<extra></extra>\", \"legendgroup\": \"CTRAIN STATION - 69TH STREET SW\", \"marker\": {\"color\": \"#ab63fa\", \"symbol\": \"circle\"}, \"mode\": \"markers\", \"name\": \"CTRAIN STATION - 69TH STREET SW\", \"orientation\": \"h\", \"showlegend\": true, \"type\": \"scatter\", \"x\": [null, null, null, null, 18536.0, 34891.0, 41160.0, 28126.0], \"xaxis\": \"x\", \"y\": [2014, 2015, 2016, 2017, 2018, 2019, 2020, 2021], \"yaxis\": \"y\"}, {\"hovertemplate\": \"FacilityName=FIRE HEADQUARTERS<br>value=%{x}<br>Year=%{y}<extra></extra>\", \"legendgroup\": \"FIRE HEADQUARTERS\", \"marker\": {\"color\": \"#FFA15A\", \"symbol\": \"circle\"}, \"mode\": \"markers\", \"name\": \"FIRE HEADQUARTERS\", \"orientation\": \"h\", \"showlegend\": true, \"type\": \"scatter\", \"x\": [null, null, null, 15354.0, 16725.0, 17176.0, 16572.0, 12328.0], \"xaxis\": \"x\", \"y\": [2014, 2015, 2016, 2017, 2018, 2019, 2020, 2021], \"yaxis\": \"y\"}, {\"hovertemplate\": \"FacilityName=FIRE STATION 07 - MOUNT PLEASANT<br>value=%{x}<br>Year=%{y}<extra></extra>\", \"legendgroup\": \"FIRE STATION 07 - MOUNT PLEASANT\", \"marker\": {\"color\": \"#19d3f3\", \"symbol\": \"circle\"}, \"mode\": \"markers\", \"name\": \"FIRE STATION 07 - MOUNT PLEASANT\", \"orientation\": \"h\", \"showlegend\": true, \"type\": \"scatter\", \"x\": [null, null, null, 1322.0, 23928.0, 31510.0, 32930.0, 23707.0], \"xaxis\": \"x\", \"y\": [2014, 2015, 2016, 2017, 2018, 2019, 2020, 2021], \"yaxis\": \"y\"}, {\"hovertemplate\": \"FacilityName=FIRE STATION 42 - TUSCANY<br>value=%{x}<br>Year=%{y}<extra></extra>\", \"legendgroup\": \"FIRE STATION 42 - TUSCANY\", \"marker\": {\"color\": \"#FF6692\", \"symbol\": \"circle\"}, \"mode\": \"markers\", \"name\": \"FIRE STATION 42 - TUSCANY\", \"orientation\": \"h\", \"showlegend\": true, \"type\": \"scatter\", \"x\": [null, null, null, null, 1214.0, 19822.0, 18929.0, 14990.0], \"xaxis\": \"x\", \"y\": [2014, 2015, 2016, 2017, 2018, 2019, 2020, 2021], \"yaxis\": \"y\"}, {\"hovertemplate\": \"FacilityName=GLENMORE WATER TREATMENT PLANT - WB<br>value=%{x}<br>Year=%{y}<extra></extra>\", \"legendgroup\": \"GLENMORE WATER TREATMENT PLANT - WB\", \"marker\": {\"color\": \"#B6E880\", \"symbol\": \"circle\"}, \"mode\": \"markers\", \"name\": \"GLENMORE WATER TREATMENT PLANT - WB\", \"orientation\": \"h\", \"showlegend\": true, \"type\": \"scatter\", \"x\": [null, null, null, 292019.0, 249129.0, 270977.0, 293788.0, 180644.0], \"xaxis\": \"x\", \"y\": [2014, 2015, 2016, 2017, 2018, 2019, 2020, 2021], \"yaxis\": \"y\"}, {\"hovertemplate\": \"FacilityName=MANCHESTER BUILDING M<br>value=%{x}<br>Year=%{y}<extra></extra>\", \"legendgroup\": \"MANCHESTER BUILDING M\", \"marker\": {\"color\": \"#FF97FF\", \"symbol\": \"circle\"}, \"mode\": \"markers\", \"name\": \"MANCHESTER BUILDING M\", \"orientation\": \"h\", \"showlegend\": true, \"type\": \"scatter\", \"x\": [null, null, null, null, 29390.0, 38138.0, 41756.0, 25765.0], \"xaxis\": \"x\", \"y\": [2014, 2015, 2016, 2017, 2018, 2019, 2020, 2021], \"yaxis\": \"y\"}, {\"hovertemplate\": \"FacilityName=SARCEE OWC - ADMINISTRATION BUILDING<br>value=%{x}<br>Year=%{y}<extra></extra>\", \"legendgroup\": \"SARCEE OWC - ADMINISTRATION BUILDING\", \"marker\": {\"color\": \"#FECB52\", \"symbol\": \"circle\"}, \"mode\": \"markers\", \"name\": \"SARCEE OWC - ADMINISTRATION BUILDING\", \"orientation\": \"h\", \"showlegend\": true, \"type\": \"scatter\", \"x\": [null, null, null, null, 32099.0, 52613.0, 56295.0, 39875.0], \"xaxis\": \"x\", \"y\": [2014, 2015, 2016, 2017, 2018, 2019, 2020, 2021], \"yaxis\": \"y\"}, {\"hovertemplate\": \"FacilityName=SH - BLDG W (COMPOST FACILITY)<br>value=%{x}<br>Year=%{y}<extra></extra>\", \"legendgroup\": \"SH - BLDG W (COMPOST FACILITY)\", \"marker\": {\"color\": \"#636efa\", \"symbol\": \"circle\"}, \"mode\": \"markers\", \"name\": \"SH - BLDG W (COMPOST FACILITY)\", \"orientation\": \"h\", \"showlegend\": true, \"type\": \"scatter\", \"x\": [null, null, null, null, 1052172.0, 1316807.0, 5369296.0, 3088045.0], \"xaxis\": \"x\", \"y\": [2014, 2015, 2016, 2017, 2018, 2019, 2020, 2021], \"yaxis\": \"y\"}, {\"hovertemplate\": \"FacilityName=SOUTHLAND LEISURE CENTRE<br>value=%{x}<br>Year=%{y}<extra></extra>\", \"legendgroup\": \"SOUTHLAND LEISURE CENTRE\", \"marker\": {\"color\": \"#EF553B\", \"symbol\": \"circle\"}, \"mode\": \"markers\", \"name\": \"SOUTHLAND LEISURE CENTRE\", \"orientation\": \"h\", \"showlegend\": true, \"type\": \"scatter\", \"x\": [null, 36003.0, 162547.0, 167406.0, 142226.0, 152230.0, 158293.0, 109947.0], \"xaxis\": \"x\", \"y\": [2014, 2015, 2016, 2017, 2018, 2019, 2020, 2021], \"yaxis\": \"y\"}, {\"hovertemplate\": \"FacilityName=WHITEHORN MULTI SERVICE CENTRE<br>value=%{x}<br>Year=%{y}<extra></extra>\", \"legendgroup\": \"WHITEHORN MULTI SERVICE CENTRE\", \"marker\": {\"color\": \"#00cc96\", \"symbol\": \"circle\"}, \"mode\": \"markers\", \"name\": \"WHITEHORN MULTI SERVICE CENTRE\", \"orientation\": \"h\", \"showlegend\": true, \"type\": \"scatter\", \"x\": [null, null, null, 468438.0, 393663.0, 427151.0, 387335.0, 302970.0], \"xaxis\": \"x\", \"y\": [2014, 2015, 2016, 2017, 2018, 2019, 2020, 2021], \"yaxis\": \"y\"}],\n",
       "                        {\"legend\": {\"title\": {\"text\": \"FacilityName\"}, \"tracegroupgap\": 0}, \"template\": {\"data\": {\"bar\": [{\"error_x\": {\"color\": \"#2a3f5f\"}, \"error_y\": {\"color\": \"#2a3f5f\"}, \"marker\": {\"line\": {\"color\": \"#E5ECF6\", \"width\": 0.5}}, \"type\": \"bar\"}], \"barpolar\": [{\"marker\": {\"line\": {\"color\": \"#E5ECF6\", \"width\": 0.5}}, \"type\": \"barpolar\"}], \"carpet\": [{\"aaxis\": {\"endlinecolor\": \"#2a3f5f\", \"gridcolor\": \"white\", \"linecolor\": \"white\", \"minorgridcolor\": \"white\", \"startlinecolor\": \"#2a3f5f\"}, \"baxis\": {\"endlinecolor\": \"#2a3f5f\", \"gridcolor\": \"white\", \"linecolor\": \"white\", \"minorgridcolor\": \"white\", \"startlinecolor\": \"#2a3f5f\"}, \"type\": \"carpet\"}], \"choropleth\": [{\"colorbar\": {\"outlinewidth\": 0, \"ticks\": \"\"}, \"type\": \"choropleth\"}], \"contour\": [{\"colorbar\": {\"outlinewidth\": 0, \"ticks\": \"\"}, \"colorscale\": [[0.0, \"#0d0887\"], [0.1111111111111111, \"#46039f\"], [0.2222222222222222, \"#7201a8\"], [0.3333333333333333, \"#9c179e\"], [0.4444444444444444, \"#bd3786\"], [0.5555555555555556, \"#d8576b\"], [0.6666666666666666, \"#ed7953\"], [0.7777777777777778, \"#fb9f3a\"], [0.8888888888888888, \"#fdca26\"], [1.0, \"#f0f921\"]], \"type\": \"contour\"}], \"contourcarpet\": [{\"colorbar\": {\"outlinewidth\": 0, \"ticks\": \"\"}, \"type\": \"contourcarpet\"}], \"heatmap\": [{\"colorbar\": {\"outlinewidth\": 0, \"ticks\": \"\"}, \"colorscale\": [[0.0, \"#0d0887\"], [0.1111111111111111, \"#46039f\"], [0.2222222222222222, \"#7201a8\"], [0.3333333333333333, \"#9c179e\"], [0.4444444444444444, \"#bd3786\"], [0.5555555555555556, \"#d8576b\"], [0.6666666666666666, \"#ed7953\"], [0.7777777777777778, \"#fb9f3a\"], [0.8888888888888888, \"#fdca26\"], [1.0, \"#f0f921\"]], \"type\": \"heatmap\"}], \"heatmapgl\": [{\"colorbar\": {\"outlinewidth\": 0, \"ticks\": \"\"}, \"colorscale\": [[0.0, \"#0d0887\"], [0.1111111111111111, \"#46039f\"], [0.2222222222222222, \"#7201a8\"], [0.3333333333333333, \"#9c179e\"], [0.4444444444444444, \"#bd3786\"], [0.5555555555555556, \"#d8576b\"], [0.6666666666666666, \"#ed7953\"], [0.7777777777777778, \"#fb9f3a\"], [0.8888888888888888, \"#fdca26\"], [1.0, \"#f0f921\"]], \"type\": \"heatmapgl\"}], \"histogram\": [{\"marker\": {\"colorbar\": {\"outlinewidth\": 0, \"ticks\": \"\"}}, \"type\": \"histogram\"}], \"histogram2d\": [{\"colorbar\": {\"outlinewidth\": 0, \"ticks\": \"\"}, \"colorscale\": [[0.0, \"#0d0887\"], [0.1111111111111111, \"#46039f\"], [0.2222222222222222, \"#7201a8\"], [0.3333333333333333, \"#9c179e\"], [0.4444444444444444, \"#bd3786\"], [0.5555555555555556, \"#d8576b\"], [0.6666666666666666, \"#ed7953\"], [0.7777777777777778, \"#fb9f3a\"], [0.8888888888888888, \"#fdca26\"], [1.0, \"#f0f921\"]], \"type\": \"histogram2d\"}], \"histogram2dcontour\": [{\"colorbar\": {\"outlinewidth\": 0, \"ticks\": \"\"}, \"colorscale\": [[0.0, \"#0d0887\"], [0.1111111111111111, \"#46039f\"], [0.2222222222222222, \"#7201a8\"], [0.3333333333333333, \"#9c179e\"], [0.4444444444444444, \"#bd3786\"], [0.5555555555555556, \"#d8576b\"], [0.6666666666666666, \"#ed7953\"], [0.7777777777777778, \"#fb9f3a\"], [0.8888888888888888, \"#fdca26\"], [1.0, \"#f0f921\"]], \"type\": \"histogram2dcontour\"}], \"mesh3d\": [{\"colorbar\": {\"outlinewidth\": 0, \"ticks\": \"\"}, \"type\": \"mesh3d\"}], \"parcoords\": [{\"line\": {\"colorbar\": {\"outlinewidth\": 0, \"ticks\": \"\"}}, \"type\": \"parcoords\"}], \"pie\": [{\"automargin\": true, \"type\": \"pie\"}], \"scatter\": [{\"marker\": {\"colorbar\": {\"outlinewidth\": 0, \"ticks\": \"\"}}, \"type\": \"scatter\"}], \"scatter3d\": [{\"line\": {\"colorbar\": {\"outlinewidth\": 0, \"ticks\": \"\"}}, \"marker\": {\"colorbar\": {\"outlinewidth\": 0, \"ticks\": \"\"}}, \"type\": \"scatter3d\"}], \"scattercarpet\": [{\"marker\": {\"colorbar\": {\"outlinewidth\": 0, \"ticks\": \"\"}}, \"type\": \"scattercarpet\"}], \"scattergeo\": [{\"marker\": {\"colorbar\": {\"outlinewidth\": 0, \"ticks\": \"\"}}, \"type\": \"scattergeo\"}], \"scattergl\": [{\"marker\": {\"colorbar\": {\"outlinewidth\": 0, \"ticks\": \"\"}}, \"type\": \"scattergl\"}], \"scattermapbox\": [{\"marker\": {\"colorbar\": {\"outlinewidth\": 0, \"ticks\": \"\"}}, \"type\": \"scattermapbox\"}], \"scatterpolar\": [{\"marker\": {\"colorbar\": {\"outlinewidth\": 0, \"ticks\": \"\"}}, \"type\": \"scatterpolar\"}], \"scatterpolargl\": [{\"marker\": {\"colorbar\": {\"outlinewidth\": 0, \"ticks\": \"\"}}, \"type\": \"scatterpolargl\"}], \"scatterternary\": [{\"marker\": {\"colorbar\": {\"outlinewidth\": 0, \"ticks\": \"\"}}, \"type\": \"scatterternary\"}], \"surface\": [{\"colorbar\": {\"outlinewidth\": 0, \"ticks\": \"\"}, \"colorscale\": [[0.0, \"#0d0887\"], [0.1111111111111111, \"#46039f\"], [0.2222222222222222, \"#7201a8\"], [0.3333333333333333, \"#9c179e\"], [0.4444444444444444, \"#bd3786\"], [0.5555555555555556, \"#d8576b\"], [0.6666666666666666, \"#ed7953\"], [0.7777777777777778, \"#fb9f3a\"], [0.8888888888888888, \"#fdca26\"], [1.0, \"#f0f921\"]], \"type\": \"surface\"}], \"table\": [{\"cells\": {\"fill\": {\"color\": \"#EBF0F8\"}, \"line\": {\"color\": \"white\"}}, \"header\": {\"fill\": {\"color\": \"#C8D4E3\"}, \"line\": {\"color\": \"white\"}}, \"type\": \"table\"}]}, \"layout\": {\"annotationdefaults\": {\"arrowcolor\": \"#2a3f5f\", \"arrowhead\": 0, \"arrowwidth\": 1}, \"coloraxis\": {\"colorbar\": {\"outlinewidth\": 0, \"ticks\": \"\"}}, \"colorscale\": {\"diverging\": [[0, \"#8e0152\"], [0.1, \"#c51b7d\"], [0.2, \"#de77ae\"], [0.3, \"#f1b6da\"], [0.4, \"#fde0ef\"], [0.5, \"#f7f7f7\"], [0.6, \"#e6f5d0\"], [0.7, \"#b8e186\"], [0.8, \"#7fbc41\"], [0.9, \"#4d9221\"], [1, \"#276419\"]], \"sequential\": [[0.0, \"#0d0887\"], [0.1111111111111111, \"#46039f\"], [0.2222222222222222, \"#7201a8\"], [0.3333333333333333, \"#9c179e\"], [0.4444444444444444, \"#bd3786\"], [0.5555555555555556, \"#d8576b\"], [0.6666666666666666, \"#ed7953\"], [0.7777777777777778, \"#fb9f3a\"], [0.8888888888888888, \"#fdca26\"], [1.0, \"#f0f921\"]], \"sequentialminus\": [[0.0, \"#0d0887\"], [0.1111111111111111, \"#46039f\"], [0.2222222222222222, \"#7201a8\"], [0.3333333333333333, \"#9c179e\"], [0.4444444444444444, \"#bd3786\"], [0.5555555555555556, \"#d8576b\"], [0.6666666666666666, \"#ed7953\"], [0.7777777777777778, \"#fb9f3a\"], [0.8888888888888888, \"#fdca26\"], [1.0, \"#f0f921\"]]}, \"colorway\": [\"#636efa\", \"#EF553B\", \"#00cc96\", \"#ab63fa\", \"#FFA15A\", \"#19d3f3\", \"#FF6692\", \"#B6E880\", \"#FF97FF\", \"#FECB52\"], \"font\": {\"color\": \"#2a3f5f\"}, \"geo\": {\"bgcolor\": \"white\", \"lakecolor\": \"white\", \"landcolor\": \"#E5ECF6\", \"showlakes\": true, \"showland\": true, \"subunitcolor\": \"white\"}, \"hoverlabel\": {\"align\": \"left\"}, \"hovermode\": \"closest\", \"mapbox\": {\"style\": \"light\"}, \"paper_bgcolor\": \"white\", \"plot_bgcolor\": \"#E5ECF6\", \"polar\": {\"angularaxis\": {\"gridcolor\": \"white\", \"linecolor\": \"white\", \"ticks\": \"\"}, \"bgcolor\": \"#E5ECF6\", \"radialaxis\": {\"gridcolor\": \"white\", \"linecolor\": \"white\", \"ticks\": \"\"}}, \"scene\": {\"xaxis\": {\"backgroundcolor\": \"#E5ECF6\", \"gridcolor\": \"white\", \"gridwidth\": 2, \"linecolor\": \"white\", \"showbackground\": true, \"ticks\": \"\", \"zerolinecolor\": \"white\"}, \"yaxis\": {\"backgroundcolor\": \"#E5ECF6\", \"gridcolor\": \"white\", \"gridwidth\": 2, \"linecolor\": \"white\", \"showbackground\": true, \"ticks\": \"\", \"zerolinecolor\": \"white\"}, \"zaxis\": {\"backgroundcolor\": \"#E5ECF6\", \"gridcolor\": \"white\", \"gridwidth\": 2, \"linecolor\": \"white\", \"showbackground\": true, \"ticks\": \"\", \"zerolinecolor\": \"white\"}}, \"shapedefaults\": {\"line\": {\"color\": \"#2a3f5f\"}}, \"ternary\": {\"aaxis\": {\"gridcolor\": \"white\", \"linecolor\": \"white\", \"ticks\": \"\"}, \"baxis\": {\"gridcolor\": \"white\", \"linecolor\": \"white\", \"ticks\": \"\"}, \"bgcolor\": \"#E5ECF6\", \"caxis\": {\"gridcolor\": \"white\", \"linecolor\": \"white\", \"ticks\": \"\"}}, \"title\": {\"x\": 0.05}, \"xaxis\": {\"automargin\": true, \"gridcolor\": \"white\", \"linecolor\": \"white\", \"ticks\": \"\", \"title\": {\"standoff\": 15}, \"zerolinecolor\": \"white\", \"zerolinewidth\": 2}, \"yaxis\": {\"automargin\": true, \"gridcolor\": \"white\", \"linecolor\": \"white\", \"ticks\": \"\", \"title\": {\"standoff\": 15}, \"zerolinecolor\": \"white\", \"zerolinewidth\": 2}}}, \"title\": {\"text\": \"Solar Power Yearly Usage of each primary facility \"}, \"xaxis\": {\"anchor\": \"y\", \"domain\": [0.0, 1.0], \"title\": {\"text\": \"value\"}}, \"yaxis\": {\"anchor\": \"x\", \"domain\": [0.0, 1.0], \"title\": {\"text\": \"Year\"}}},\n",
       "                        {\"responsive\": true}\n",
       "                    ).then(function(){\n",
       "                            \n",
       "var gd = document.getElementById('ff787278-b149-411e-be80-1e8acc123fdc');\n",
       "var x = new MutationObserver(function (mutations, observer) {{\n",
       "        var display = window.getComputedStyle(gd).display;\n",
       "        if (!display || display === 'none') {{\n",
       "            console.log([gd, 'removed!']);\n",
       "            Plotly.purge(gd);\n",
       "            observer.disconnect();\n",
       "        }}\n",
       "}});\n",
       "\n",
       "// Listen for the removal of the full notebook cells\n",
       "var notebookContainer = gd.closest('#notebook-container');\n",
       "if (notebookContainer) {{\n",
       "    x.observe(notebookContainer, {childList: true});\n",
       "}}\n",
       "\n",
       "// Listen for the clearing of the current output cell\n",
       "var outputEl = gd.closest('.output');\n",
       "if (outputEl) {{\n",
       "    x.observe(outputEl, {childList: true});\n",
       "}}\n",
       "\n",
       "                        })\n",
       "                };\n",
       "                });\n",
       "            </script>\n",
       "        </div>"
      ]
     },
     "metadata": {},
     "output_type": "display_data"
    }
   ],
   "source": [
    "df3=pd.DataFrame.drop(rdata,[\"Business Unit Desc\",\"Site ID\",\"FacilityAddress\"], axis=1)\n",
    "df3 = df3.loc[df3['Energy Description'] == 'Solar Power']\n",
    "df3=df3.loc[df3['Total Consumption'] > 10000]\n",
    "df3=df3.loc[df3['Year'].between(2014,2021)]\n",
    "df3.name = \"Solar Power Yearly Usage of each facility \"\n",
    "df3=df3.groupby(['FacilityName','Year'])['Total Consumption'].sum().unstack(level=1)\n",
    "display(df3)\n",
    "\n",
    "\n",
    "fig = plt.figure()\n",
    "df3.plot(kind='bar', colormap='tab20b', grid=True, title ='\"Solar Power Yearly Usage of each primary facility \"')\n",
    "fig.set_size_inches(3600,3600)\n",
    "plt.show()\n",
    "\n",
    "df3=pd.DataFrame.drop(rdata,[\"Business Unit Desc\",\"Site ID\",\"FacilityAddress\"], axis=1)\n",
    "df3 = df3.loc[df3['Energy Description'] == 'Solar Power']\n",
    "df3=df3.loc[df3['Total Consumption'] > 1000]\n",
    "df3=df3.loc[df3['Year'].between(2014,2021)]\n",
    "df3.name = \"Solar Power Usage of each Year \"\n",
    "df3=df3.groupby(['FacilityName','Year'])['Total Consumption'].sum().unstack(level=0)\n",
    "\n",
    "\n",
    "fig = px.violin(df3, y=df3.columns, title = 'Solar Power Yearly Usage of each primary facility')\n",
    "fig.show()\n",
    "fig = px.scatter(df3, x=df3.columns, title ='Solar Power Yearly Usage of each primary facility ')\n",
    "fig.show()"
   ]
  },
  {
   "cell_type": "code",
   "execution_count": null,
   "metadata": {},
   "outputs": [],
   "source": [
    "From the data shows that all of the primary facilities in Calgary have decreased use the Solar Power from 2017 to 2021.\n",
    "Only SOUTHLAND LEISURE CENTRE has started consumming the Solar Power from 2015. \n",
    "Most primay facilities were starting consuming the Solar Power in 2018.\n",
    "Base on the violin plot, we realized that the most usage Solar Power facility is the SH - BLDG W (COMPOST FACILITY) and lowest is CORPORATE WAREHOUSE."
   ]
  },
  {
   "cell_type": "code",
   "execution_count": null,
   "metadata": {},
   "outputs": [],
   "source": [
    "The primary facilities in City of Calgary energy consumption trends over the year is that they tried to use less energy consumption.\n",
    "From our data result, we might figure that many Facilities in the City of Calgary try to make a cleaner environment for future generations by investing in clean technologies and increasing energy efficiency recently. "
   ]
  }
 ],
 "metadata": {
  "kernelspec": {
   "display_name": "Python 3",
   "language": "python",
   "name": "python3"
  },
  "language_info": {
   "codemirror_mode": {
    "name": "ipython",
    "version": 3
   },
   "file_extension": ".py",
   "mimetype": "text/x-python",
   "name": "python",
   "nbconvert_exporter": "python",
   "pygments_lexer": "ipython3",
   "version": "3.8.5"
  }
 },
 "nbformat": 4,
 "nbformat_minor": 4
}
